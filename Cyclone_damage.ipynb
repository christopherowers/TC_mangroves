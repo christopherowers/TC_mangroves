{
 "cells": [
  {
   "cell_type": "markdown",
   "id": "e3516e28-2e64-4ff3-8ca7-186e193065c9",
   "metadata": {},
   "source": [
    "## Classifying mangrove damage and recover due to tropical cyclones\n",
    "- based on Emmas_code_TC_mangroves.py\n",
    "- need to use static geotiffs in google drive for the windfield data input\n",
    "\n",
    "### NCI data\n",
    "/g/data/u46/users/ea6141/more_mangroves  \n",
    "\n",
    "cyclone_damage_tally_notsure folder means it's not sure if mangrove is there on not (i.e. only 3 or 4 obs for the year)\n",
    "\n",
    "/g/data/r78/mangroves\n",
    "\n",
    "\n",
    "\n",
    "need to change so it reprojects in the nb not externally\n",
    "https://docs.dea.ga.gov.au/notebooks/Frequently_used_code/Reprojecting_data.html\n",
    "\n"
   ]
  },
  {
   "cell_type": "code",
   "execution_count": 1,
   "id": "7395331d-22a7-47ac-9de2-93c381144448",
   "metadata": {},
   "outputs": [],
   "source": [
    "# commandline used at the moment for reprojecting\n",
    "# gdalwarp -t_srs EPSG:3577 -tr 30.0 30.0 -r near -of GTiff Yasi.tif Yasi_30m_EPSG3577.tif"
   ]
  },
  {
   "cell_type": "code",
   "execution_count": 2,
   "id": "b7d235e1-6fc2-48eb-b8df-47ec8710ae63",
   "metadata": {},
   "outputs": [],
   "source": [
    "import datacube\n",
    "from datacube.model import Measurement\n",
    "import numpy as np\n",
    "import xarray as xr\n",
    "from os import path\n",
    "from datacube.drivers.netcdf import write_dataset_to_netcdf\n",
    "from datacube.utils.geometry import CRS\n",
    "import pandas as pd\n",
    "import os\n",
    "from  datacube import Datacube\n",
    "from datacube.utils import geometry\n",
    "import pickle\n",
    "import sys\n",
    "import rioxarray\n",
    "dc = datacube.Datacube(app=\"cyclone mangroves\")\n",
    "\n",
    "from datacube.testutils.io import rio_slurp_xarray\n",
    "\n",
    "from Cyclone_damage_funcs import *"
   ]
  },
  {
   "cell_type": "markdown",
   "id": "118b20ed-633e-435b-ba76-2fa877413046",
   "metadata": {},
   "source": [
    "### fill in data (doing one cyclone at a time for the moment)"
   ]
  },
  {
   "cell_type": "code",
   "execution_count": 3,
   "id": "a82b8838-1bcc-435e-8c0e-8ce2f6fbae24",
   "metadata": {},
   "outputs": [],
   "source": [
    "cyclone_name = 'Yasi'\n",
    "cyclone_time = 2011"
   ]
  },
  {
   "cell_type": "markdown",
   "id": "518b65c5-fd58-43ec-925c-8f32c7eb1ee1",
   "metadata": {},
   "source": [
    "### load in geotiff"
   ]
  },
  {
   "cell_type": "code",
   "execution_count": 4,
   "id": "b39bca60-5c53-480a-a1e1-1282f4de7d54",
   "metadata": {},
   "outputs": [],
   "source": [
    "geotiff_path = './'+cyclone_name+'_30m_EPSG3577.tif'\n",
    "# Open into an xarray.DataArray\n",
    "geotiff_da = rioxarray.open_rasterio(geotiff_path)\n",
    "# change -9999 to 0\n",
    "geotiff_da = xr.where(geotiff_da == -9999, 0, geotiff_da.values)\n",
    "# Covert our xarray.DataArray into a xarray.Dataset\n",
    "geotiff_ds = geotiff_da.to_dataset('band')\n",
    "# Rename the variable to a more useful name\n",
    "dataset = geotiff_ds.rename({1: 'wind_speed'})"
   ]
  },
  {
   "cell_type": "markdown",
   "id": "374cec27-baf4-4080-b086-0a3159f1c90b",
   "metadata": {},
   "source": [
    "### rework to get geotiff as identical dc.load for mangroves"
   ]
  },
  {
   "cell_type": "code",
   "execution_count": 5,
   "id": "faf1f20e-6963-4655-bf7f-c48fa06041b9",
   "metadata": {},
   "outputs": [],
   "source": [
    "# get extent of cyclone dataset\n",
    "geobox = dataset.extent\n",
    "# get the cyclone start time\n",
    "start_time = cyclone_time\n",
    "\n",
    "# get time of cyclone\n",
    "time_of_cyclone = (str(start_time) + '-01-01', str(start_time) + '-12-31')\n",
    "\n",
    "# find datasets for mangrove canopy cover at cyclone time\n",
    "time_of_cyclone_datasets = dc.find_datasets(product = 'ga_ls_mangrove_cover_cyear_3',time=time_of_cyclone, geopolygon=geobox)\n",
    "\n",
    "# at time of cyclone mangrove canopy cover datasets, group by time\n",
    "time_of_cyclone_datasets = dc.group_datasets(time_of_cyclone_datasets, group_by='time')\n",
    "\n",
    "# get geometry box from geotiff\n",
    "full_box = geometry.GeoBox.from_geopolygon(geobox, resolution=(30, -30))\n",
    "\n",
    "# measurements for mangrove canopy cover\n",
    "measurement = [Measurement(name='canopy_cover_class', dtype='int16', nodata=-1, units='1')]\n",
    "\n",
    "# load mangrove canopy cover at time of cyclone\n",
    "time_of_cyclone_data = dc.load_data(time_of_cyclone_datasets, geobox = full_box, measurements=measurement)\n",
    "\n",
    "# load in geotiff again but with identical extent from dc.load mangroves\n",
    "cyclone_da = rio_slurp_xarray(geotiff_path, gbox=time_of_cyclone_data.geobox)\n",
    "# add time dimension\n",
    "cyclone_da_time = cyclone_da.expand_dims(dim={\"time\": time_of_cyclone_data.time})\n",
    "# Covert our xarray.DataArray into a xarray.Dataset\n",
    "cyclone_ds = cyclone_da_time.to_dataset(name=\"wind_speed\")\n",
    "\n",
    "# copy over attributes\n",
    "cyclone_ds.attrs['grid_mapping'] = time_of_cyclone_data.attrs['grid_mapping']\n",
    "cyclone_ds.attrs['crs'] = time_of_cyclone_data.attrs['crs']\n"
   ]
  },
  {
   "cell_type": "markdown",
   "id": "62879e84-da09-4c88-834e-3709cc1cbcc9",
   "metadata": {},
   "source": [
    "### load mangrove data before and after cyclone (on extent of geotiff)"
   ]
  },
  {
   "cell_type": "code",
   "execution_count": 6,
   "id": "1331127c-028f-4a1a-b09d-77041f94aba5",
   "metadata": {},
   "outputs": [],
   "source": [
    "# get time query before cyclone\n",
    "time_before_cyclone = (str(start_time - 1) + '-01-01', str(start_time - 1) + '-12-31')\n",
    "# get time query after cyclone\n",
    "time_after_cyclone = (str(start_time) + '-01-01', '2021-12-31')\n",
    "\n",
    "# find all datasets for mangrove canopy cover before cyclone\n",
    "bc_datasets = dc.find_datasets(product = 'ga_ls_mangrove_cover_cyear_3',time=time_before_cyclone, geopolygon=geobox)"
   ]
  },
  {
   "cell_type": "code",
   "execution_count": 7,
   "id": "1b5a2246-77ae-4447-aaa7-c558aafb9ff1",
   "metadata": {},
   "outputs": [],
   "source": [
    "# loop through extents for the different categories\n",
    "cyclone_extent = {}\n",
    "k = 0\n",
    "for d in bc_datasets:\n",
    "    cyclone_extent[k] = d.extent\n",
    "    k += 1"
   ]
  },
  {
   "cell_type": "code",
   "execution_count": 8,
   "id": "75ae41bf-9f85-4f4a-9a44-f4f1fb4ee726",
   "metadata": {},
   "outputs": [],
   "source": [
    "# before cyclone mangrove canopy cover datasets, group by time\n",
    "bc_datasets = dc.group_datasets(bc_datasets, group_by='time')\n",
    "# find all datasets for mangrove canopy cover after cyclone\n",
    "ac_datasets = dc.find_datasets(product = 'ga_ls_mangrove_cover_cyear_3',time=time_after_cyclone, geopolygon=geobox)\n",
    "# after cyclone mangrove canopy cover datasets, group by time\n",
    "ac_datasets = dc.group_datasets(ac_datasets, group_by='time')"
   ]
  },
  {
   "cell_type": "code",
   "execution_count": 9,
   "id": "6742d887-00d1-4b03-80fa-6e55a9be8895",
   "metadata": {},
   "outputs": [
    {
     "name": "stdout",
     "output_type": "stream",
     "text": [
      "          0      1     2         3        4\n",
      "C1      0.0    0.0   0.0       0.0      0.0\n",
      "C2      0.0    0.0   0.0       0.0      0.0\n",
      "C3  4.18625  2.145  0.09  0.029375  0.00375\n",
      "C4      0.0    0.0   0.0       0.0      0.0\n",
      "C5      0.0    0.0   0.0       0.0      0.0\n",
      "           1         2        3         4         5\n",
      "C1       0.0       0.0      0.0       0.0       0.0\n",
      "C2       0.0       0.0      0.0       0.0       0.0\n",
      "C3  2.903125  0.303125  0.11625  0.005625  0.001875\n",
      "C4       0.0       0.0      0.0       0.0       0.0\n",
      "C5       0.0       0.0      0.0       0.0       0.0\n",
      "          0      1     2         3        4\n",
      "C1      0.0    0.0   0.0       0.0      0.0\n",
      "C2      0.0    0.0   0.0       0.0      0.0\n",
      "C3  4.18625  2.145  0.09  0.029375  0.00375\n",
      "C4      0.0    0.0   0.0       0.0      0.0\n",
      "C5      0.0    0.0   0.0       0.0      0.0\n",
      "           1         2        3         4         5\n",
      "C1       0.0       0.0      0.0       0.0       0.0\n",
      "C2       0.0       0.0      0.0       0.0       0.0\n",
      "C3  2.903125  0.303125  0.11625  0.005625  0.001875\n",
      "C4       0.0       0.0      0.0       0.0       0.0\n",
      "C5       0.0       0.0      0.0       0.0       0.0\n",
      "          0          1          2         3         4\n",
      "C1      0.0        0.0        0.0       0.0       0.0\n",
      "C2      0.0        0.0        0.0       0.0       0.0\n",
      "C3  24.5875  18.748125    0.46625  0.026875    0.2775\n",
      "C4  49.4575  75.240625  17.769375      0.33  1.193125\n",
      "C5  0.52625       2.07    2.47625   0.04625     0.705\n",
      "            1        2         3         4         5\n",
      "C1        0.0      0.0       0.0       0.0       0.0\n",
      "C2        0.0      0.0       0.0       0.0       0.0\n",
      "C3  23.009375   0.7975      0.99  0.008125      0.05\n",
      "C4    97.0275  5.88375  4.438125    0.1725  0.155625\n",
      "C5     3.3725  0.93875  1.026875  0.013125  0.026875\n",
      "           0          1          2        3         4\n",
      "C1       0.0        0.0        0.0      0.0       0.0\n",
      "C2       0.0        0.0        0.0      0.0       0.0\n",
      "C3  28.77375  20.893125    0.55625  0.05625   0.28125\n",
      "C4   49.4575  75.240625  17.769375     0.33  1.193125\n",
      "C5   0.52625       2.07    2.47625  0.04625     0.705\n",
      "          1         2         3         4         5\n",
      "C1      0.0       0.0       0.0       0.0       0.0\n",
      "C2      0.0       0.0       0.0       0.0       0.0\n",
      "C3  25.9125  1.100625   1.10625   0.01375  0.051875\n",
      "C4  97.0275   5.88375  4.438125    0.1725  0.155625\n",
      "C5   3.3725   0.93875  1.026875  0.013125  0.026875\n",
      "           0         1    2         3         4\n",
      "C1       0.0       0.0  0.0       0.0       0.0\n",
      "C2       0.0       0.0  0.0       0.0       0.0\n",
      "C3   0.29625    0.1025  0.0       0.0  0.000625\n",
      "C4  0.523125  0.134375  0.0  0.003125  0.001875\n",
      "C5       0.0       0.0  0.0       0.0       0.0\n",
      "           1         2         3         4    5\n",
      "C1       0.0       0.0       0.0       0.0  0.0\n",
      "C2       0.0       0.0       0.0       0.0  0.0\n",
      "C3    0.1725  0.006875  0.010625       0.0  0.0\n",
      "C4  0.256875      0.02    0.0175  0.000625  0.0\n",
      "C5       0.0       0.0       0.0       0.0  0.0\n",
      "            0          1          2         3         4\n",
      "C1        0.0        0.0        0.0       0.0       0.0\n",
      "C2        0.0        0.0        0.0       0.0       0.0\n",
      "C3      29.07  20.995625    0.55625   0.05625  0.281875\n",
      "C4  49.980625     75.375  17.769375  0.333125     1.195\n",
      "C5    0.52625       2.07    2.47625   0.04625     0.705\n",
      "            1        2         3         4         5\n",
      "C1        0.0      0.0       0.0       0.0       0.0\n",
      "C2        0.0      0.0       0.0       0.0       0.0\n",
      "C3     26.085   1.1075  1.116875   0.01375  0.051875\n",
      "C4  97.284375  5.90375  4.455625  0.173125  0.155625\n",
      "C5     3.3725  0.93875  1.026875  0.013125  0.026875\n",
      "          0         1         2       3         4\n",
      "C1      0.0       0.0       0.0     0.0       0.0\n",
      "C2     2.86  0.560625  0.000625  0.0075  0.015625\n",
      "C3  0.00125       0.0       0.0     0.0       0.0\n",
      "C4      0.0       0.0       0.0     0.0       0.0\n",
      "C5      0.0       0.0       0.0     0.0       0.0\n",
      "           1    2         3      4         5\n",
      "C1       0.0  0.0       0.0    0.0       0.0\n",
      "C2  1.194375  0.0  0.133125  0.005  0.006875\n",
      "C3       0.0  0.0       0.0    0.0       0.0\n",
      "C4       0.0  0.0       0.0    0.0       0.0\n",
      "C5       0.0  0.0       0.0    0.0       0.0\n",
      "            0          1          2         3         4\n",
      "C1        0.0        0.0        0.0       0.0       0.0\n",
      "C2       2.86   0.560625   0.000625    0.0075  0.015625\n",
      "C3   29.07125  20.995625    0.55625   0.05625  0.281875\n",
      "C4  49.980625     75.375  17.769375  0.333125     1.195\n",
      "C5    0.52625       2.07    2.47625   0.04625     0.705\n",
      "            1        2         3         4         5\n",
      "C1        0.0      0.0       0.0       0.0       0.0\n",
      "C2   1.194375      0.0  0.133125     0.005  0.006875\n",
      "C3     26.085   1.1075  1.116875   0.01375  0.051875\n",
      "C4  97.284375  5.90375  4.455625  0.173125  0.155625\n",
      "C5     3.3725  0.93875  1.026875  0.013125  0.026875\n",
      "            0          1         2        3         4\n",
      "C1        0.0        0.0       0.0      0.0       0.0\n",
      "C2   0.141875     0.0325       0.0  0.00375     0.005\n",
      "C3  13.871875   3.499375   0.04625    0.065  0.068125\n",
      "C4  10.138125  15.926875     3.475     0.03  0.256875\n",
      "C5   0.000625    0.00125  0.000625      0.0       0.0\n",
      "            1         2         3         4         5\n",
      "C1        0.0       0.0       0.0       0.0       0.0\n",
      "C2    0.06125       0.0     0.025  0.000625   0.00125\n",
      "C3    8.02125    0.1025  0.326875    0.0225  0.019375\n",
      "C4  19.639375  0.294375   1.16625  0.008125     0.015\n",
      "C5   0.000625   0.00125  0.000625       0.0       0.0\n",
      "            0          1          2         3         4\n",
      "C1        0.0        0.0        0.0       0.0       0.0\n",
      "C2   3.001875   0.593125   0.000625   0.01125  0.020625\n",
      "C3  42.943125     24.495     0.6025   0.12125      0.35\n",
      "C4   60.11875  91.301875  21.244375  0.363125  1.451875\n",
      "C5   0.526875    2.07125   2.476875   0.04625     0.705\n",
      "            1         2         3         4         5\n",
      "C1        0.0       0.0       0.0       0.0       0.0\n",
      "C2   1.255625       0.0  0.158125  0.005625  0.008125\n",
      "C3   34.10625      1.21   1.44375   0.03625   0.07125\n",
      "C4  116.92375  6.198125  5.621875   0.18125  0.170625\n",
      "C5   3.373125      0.94    1.0275  0.013125  0.026875\n",
      "      0    1    2    3    4\n",
      "C1  0.0  0.0  0.0  0.0  0.0\n",
      "C2  0.0  0.0  0.0  0.0  0.0\n",
      "C3  0.0  0.0  0.0  0.0  0.0\n",
      "C4  0.0  0.0  0.0  0.0  0.0\n",
      "C5  0.0  0.0  0.0  0.0  0.0\n",
      "      1    2    3    4    5\n",
      "C1  0.0  0.0  0.0  0.0  0.0\n",
      "C2  0.0  0.0  0.0  0.0  0.0\n",
      "C3  0.0  0.0  0.0  0.0  0.0\n",
      "C4  0.0  0.0  0.0  0.0  0.0\n",
      "C5  0.0  0.0  0.0  0.0  0.0\n",
      "            0          1          2         3         4\n",
      "C1        0.0        0.0        0.0       0.0       0.0\n",
      "C2   3.001875   0.593125   0.000625   0.01125  0.020625\n",
      "C3  42.943125     24.495     0.6025   0.12125      0.35\n",
      "C4   60.11875  91.301875  21.244375  0.363125  1.451875\n",
      "C5   0.526875    2.07125   2.476875   0.04625     0.705\n",
      "            1         2         3         4         5\n",
      "C1        0.0       0.0       0.0       0.0       0.0\n",
      "C2   1.255625       0.0  0.158125  0.005625  0.008125\n",
      "C3   34.10625      1.21   1.44375   0.03625   0.07125\n",
      "C4  116.92375  6.198125  5.621875   0.18125  0.170625\n",
      "C5   3.373125      0.94    1.0275  0.013125  0.026875\n"
     ]
    }
   ],
   "source": [
    "# set up empty variables\n",
    "wind_cat_full = None\n",
    "all_wind_cat_full = None\n",
    "\n",
    "for key, value in cyclone_extent.items():\n",
    "    # get polygon extent of cyclone\n",
    "    loading_polygon = value.intersection(geobox.to_crs(value.crs))\n",
    "    # get bounding box of polygon with 25m res\n",
    "    loading_box = geometry.GeoBox.from_geopolygon(loading_polygon, resolution=(30, -30))\n",
    "    # run the function damage_level_by_geo\n",
    "    wind_cat, all_wind_cat = damage_level_by_geo('./', cyclone_name, \n",
    "                                             cyclone_ds, bc_datasets, ac_datasets, \n",
    "                                             loading_box, dump=True)\n",
    "\n",
    "    if wind_cat_full is None:\n",
    "        wind_cat_full = wind_cat\n",
    "        all_wind_cat_full = all_wind_cat\n",
    "    else:\n",
    "        wind_cat_full += wind_cat\n",
    "        all_wind_cat_full += all_wind_cat\n",
    "    print(wind_cat_full)\n",
    "    print(all_wind_cat_full)"
   ]
  },
  {
   "cell_type": "code",
   "execution_count": 10,
   "id": "f9c95125-cf34-4e54-afef-6b529caf0ca2",
   "metadata": {},
   "outputs": [],
   "source": [
    "with open(cyclone_name+'_tally.pkl', 'wb') as f:\n",
    "    pickle.dump((wind_cat_full, all_wind_cat_full), f)"
   ]
  },
  {
   "cell_type": "code",
   "execution_count": 11,
   "id": "64cd859a-f39a-4b29-b7df-4a8706be2866",
   "metadata": {},
   "outputs": [],
   "source": [
    "with open(cyclone_name+'_tally.pkl', 'rb') as f:\n",
    "    wind_cat_full, all_wind_cat_full = pickle.load(f)"
   ]
  },
  {
   "cell_type": "code",
   "execution_count": 12,
   "id": "e9c1b365-3278-4694-ac05-cc7844393433",
   "metadata": {},
   "outputs": [
    {
     "data": {
      "text/html": [
       "<div>\n",
       "<style scoped>\n",
       "    .dataframe tbody tr th:only-of-type {\n",
       "        vertical-align: middle;\n",
       "    }\n",
       "\n",
       "    .dataframe tbody tr th {\n",
       "        vertical-align: top;\n",
       "    }\n",
       "\n",
       "    .dataframe thead th {\n",
       "        text-align: right;\n",
       "    }\n",
       "</style>\n",
       "<table border=\"1\" class=\"dataframe\">\n",
       "  <thead>\n",
       "    <tr style=\"text-align: right;\">\n",
       "      <th></th>\n",
       "      <th>0</th>\n",
       "      <th>1</th>\n",
       "      <th>2</th>\n",
       "      <th>3</th>\n",
       "      <th>4</th>\n",
       "    </tr>\n",
       "  </thead>\n",
       "  <tbody>\n",
       "    <tr>\n",
       "      <th>C1</th>\n",
       "      <td>0.0</td>\n",
       "      <td>0.0</td>\n",
       "      <td>0.0</td>\n",
       "      <td>0.0</td>\n",
       "      <td>0.0</td>\n",
       "    </tr>\n",
       "    <tr>\n",
       "      <th>C2</th>\n",
       "      <td>3.001875</td>\n",
       "      <td>0.593125</td>\n",
       "      <td>0.000625</td>\n",
       "      <td>0.01125</td>\n",
       "      <td>0.020625</td>\n",
       "    </tr>\n",
       "    <tr>\n",
       "      <th>C3</th>\n",
       "      <td>42.943125</td>\n",
       "      <td>24.495</td>\n",
       "      <td>0.6025</td>\n",
       "      <td>0.12125</td>\n",
       "      <td>0.35</td>\n",
       "    </tr>\n",
       "    <tr>\n",
       "      <th>C4</th>\n",
       "      <td>60.11875</td>\n",
       "      <td>91.301875</td>\n",
       "      <td>21.244375</td>\n",
       "      <td>0.363125</td>\n",
       "      <td>1.451875</td>\n",
       "    </tr>\n",
       "    <tr>\n",
       "      <th>C5</th>\n",
       "      <td>0.526875</td>\n",
       "      <td>2.07125</td>\n",
       "      <td>2.476875</td>\n",
       "      <td>0.04625</td>\n",
       "      <td>0.705</td>\n",
       "    </tr>\n",
       "  </tbody>\n",
       "</table>\n",
       "</div>"
      ],
      "text/plain": [
       "            0          1          2         3         4\n",
       "C1        0.0        0.0        0.0       0.0       0.0\n",
       "C2   3.001875   0.593125   0.000625   0.01125  0.020625\n",
       "C3  42.943125     24.495     0.6025   0.12125      0.35\n",
       "C4   60.11875  91.301875  21.244375  0.363125  1.451875\n",
       "C5   0.526875    2.07125   2.476875   0.04625     0.705"
      ]
     },
     "execution_count": 12,
     "metadata": {},
     "output_type": "execute_result"
    }
   ],
   "source": [
    "wind_cat_full"
   ]
  },
  {
   "cell_type": "code",
   "execution_count": 13,
   "id": "c4e55aaf-418a-41ef-b406-91a5027c3045",
   "metadata": {},
   "outputs": [
    {
     "data": {
      "text/plain": [
       "Text(0.5, 0, 'Wind speed categories')"
      ]
     },
     "execution_count": 13,
     "metadata": {},
     "output_type": "execute_result"
    },
    {
     "data": {
      "image/png": "[encoded data removed]",
      "text/plain": [
       "<Figure size 432x288 with 1 Axes>"
      ]
     },
     "metadata": {
      "needs_background": "light"
     },
     "output_type": "display_data"
    }
   ],
   "source": [
    "figure_a = wind_cat_full.astype('float').plot(kind='bar', title='Cyclone Yasi immediate impact')\n",
    "figure_a.set_ylabel('Area in $km^2$')\n",
    "figure_a.set_xlabel('Wind speed categories')"
   ]
  },
  {
   "cell_type": "code",
   "execution_count": 14,
   "id": "a49f498a-1aff-480d-8b72-7ffe3ebe5454",
   "metadata": {},
   "outputs": [
    {
     "data": {
      "text/plain": [
       "Text(0.5, 0, 'Wind speed categories')"
      ]
     },
     "execution_count": 14,
     "metadata": {},
     "output_type": "execute_result"
    },
    {
     "data": {
      "image/png": "[encoded data removed]",
      "text/plain": [
       "<Figure size 432x288 with 1 Axes>"
      ]
     },
     "metadata": {
      "needs_background": "light"
     },
     "output_type": "display_data"
    }
   ],
   "source": [
    "figure_a = all_wind_cat_full.astype('float').plot(kind='bar', title='Cyclone Yasi long term impact')\n",
    "figure_a.set_ylabel('Area in $km^2$')\n",
    "figure_a.set_xlabel('Wind speed categories')"
   ]
  },
  {
   "cell_type": "code",
   "execution_count": null,
   "id": "2d73fff6-4261-4579-a495-74beb32074b7",
   "metadata": {},
   "outputs": [],
   "source": []
  }
 ],
 "metadata": {
  "kernelspec": {
   "display_name": "Python 3 (ipykernel)",
   "language": "python",
   "name": "python3"
  },
  "language_info": {
   "codemirror_mode": {
    "name": "ipython",
    "version": 3
   },
   "file_extension": ".py",
   "mimetype": "text/x-python",
   "name": "python",
   "nbconvert_exporter": "python",
   "pygments_lexer": "ipython3",
   "version": "3.8.10"
  }
 },
 "nbformat": 4,
 "nbformat_minor": 5
}
