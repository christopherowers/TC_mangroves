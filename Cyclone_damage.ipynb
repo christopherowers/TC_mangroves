{
 "cells": [
  {
   "cell_type": "markdown",
   "id": "e3516e28-2e64-4ff3-8ca7-186e193065c9",
   "metadata": {},
   "source": [
    "## Classifying mangrove damage and recover due to tropical cyclones\n",
    "- based on Emmas_code_TC_mangroves.py\n",
    "- need to use geotiffs (30m EPSG 3577) in google drive for the windfield data input"
   ]
  },
  {
   "cell_type": "code",
   "execution_count": 1,
   "id": "7395331d-22a7-47ac-9de2-93c381144448",
   "metadata": {},
   "outputs": [],
   "source": [
    "# need to change so it reprojects in the nb not externally\n",
    "# https://docs.dea.ga.gov.au/notebooks/Frequently_used_code/Reprojecting_data.html\n",
    "\n",
    "# commandline used at the moment for reprojecting\n",
    "# gdalwarp -t_srs EPSG:3577 -tr 30.0 30.0 -r near -of GTiff Yasi.tif Yasi_30m_EPSG3577.tif"
   ]
  },
  {
   "cell_type": "code",
   "execution_count": 2,
   "id": "b7d235e1-6fc2-48eb-b8df-47ec8710ae63",
   "metadata": {},
   "outputs": [],
   "source": [
    "import datacube\n",
    "from datacube.model import Measurement\n",
    "import numpy as np\n",
    "import xarray as xr\n",
    "from os import path\n",
    "from datacube.drivers.netcdf import write_dataset_to_netcdf\n",
    "from datacube.utils.geometry import CRS\n",
    "import pandas as pd\n",
    "import os\n",
    "from  datacube import Datacube\n",
    "from datacube.utils import geometry\n",
    "import pickle\n",
    "import sys\n",
    "import rioxarray\n",
    "dc = datacube.Datacube(app=\"cyclone mangroves\")\n",
    "\n",
    "from datacube.testutils.io import rio_slurp_xarray\n",
    "\n",
    "from Cyclone_damage_funcs import *"
   ]
  },
  {
   "cell_type": "markdown",
   "id": "118b20ed-633e-435b-ba76-2fa877413046",
   "metadata": {},
   "source": [
    "### fill in data (doing one cyclone at a time for the moment)"
   ]
  },
  {
   "cell_type": "code",
   "execution_count": 3,
   "id": "a82b8838-1bcc-435e-8c0e-8ce2f6fbae24",
   "metadata": {},
   "outputs": [],
   "source": [
    "cyclone_name = 'Yasi'\n",
    "cyclone_time = 2011\n",
    "\n",
    "# cyclone_name = 'Larry'\n",
    "# cyclone_time = 2006\n",
    "\n",
    "# cyclone_name = 'Ita'\n",
    "# cyclone_time = 2014\n",
    "\n",
    "# cyclone_name = 'Marcia'\n",
    "# cyclone_time = 2015\n",
    "\n",
    "# cyclone_name = 'Nathan_Landfall1'\n",
    "# cyclone_time = 2015\n"
   ]
  },
  {
   "cell_type": "markdown",
   "id": "518b65c5-fd58-43ec-925c-8f32c7eb1ee1",
   "metadata": {},
   "source": [
    "### load in geotiff"
   ]
  },
  {
   "cell_type": "code",
   "execution_count": 4,
   "id": "b39bca60-5c53-480a-a1e1-1282f4de7d54",
   "metadata": {},
   "outputs": [],
   "source": [
    "geotiff_path = './FINALlocalWind/'+cyclone_name+'_30m_EPSG3577.tif'\n",
    "# Open into an xarray.DataArray\n",
    "geotiff_da = rioxarray.open_rasterio(geotiff_path)\n",
    "# change -9999 to 0 #### not sure this needs to be done, -9999 should be considered 'not cyclone'?\n",
    "geotiff_da = xr.where(geotiff_da == -9999, 0, geotiff_da.values)\n",
    "# Covert our xarray.DataArray into a xarray.Dataset\n",
    "geotiff_ds = geotiff_da.to_dataset('band')\n",
    "# Rename the variable to a more useful name\n",
    "dataset = geotiff_ds.rename({1: 'wind_speed'})"
   ]
  },
  {
   "cell_type": "markdown",
   "id": "374cec27-baf4-4080-b086-0a3159f1c90b",
   "metadata": {},
   "source": [
    "### rework to get geotiff as identical dc.load for mangroves"
   ]
  },
  {
   "cell_type": "code",
   "execution_count": 5,
   "id": "faf1f20e-6963-4655-bf7f-c48fa06041b9",
   "metadata": {},
   "outputs": [],
   "source": [
    "# get extent of cyclone dataset\n",
    "geobox = dataset.extent\n",
    "# get the cyclone start time\n",
    "start_time = cyclone_time\n",
    "\n",
    "# get time of cyclone\n",
    "time_of_cyclone = (str(start_time) + '-01-01', str(start_time) + '-12-31')\n",
    "\n",
    "# find datasets for mangrove canopy cover at cyclone time\n",
    "time_of_cyclone_datasets = dc.find_datasets(product = 'ga_ls_mangrove_cover_cyear_3',time=time_of_cyclone, geopolygon=geobox)\n",
    "\n",
    "# at time of cyclone mangrove canopy cover datasets, group by time\n",
    "time_of_cyclone_datasets = dc.group_datasets(time_of_cyclone_datasets, group_by='time')\n",
    "\n",
    "# get geometry box from geotiff\n",
    "full_box = geometry.GeoBox.from_geopolygon(geobox, resolution=(30, -30))\n",
    "\n",
    "# measurements for mangrove canopy cover\n",
    "measurement = [Measurement(name='canopy_cover_class', dtype='int16', nodata=-1, units='1')]\n",
    "\n",
    "# load mangrove canopy cover at time of cyclone\n",
    "time_of_cyclone_data = dc.load_data(time_of_cyclone_datasets, geobox = full_box, measurements=measurement)\n",
    "\n",
    "# load in geotiff again but with identical extent from dc.load mangroves\n",
    "cyclone_da = rio_slurp_xarray(geotiff_path, gbox=time_of_cyclone_data.geobox)\n",
    "# change -9999 to 0 #### not sure this needs to be done, -9999 should be considered 'not cyclone'?\n",
    "# cyclone_da = xr.where(cyclone_da == -9999, 0, cyclone_da.values)\n",
    "# add time dimension\n",
    "cyclone_da_time = cyclone_da.expand_dims(dim={\"time\": time_of_cyclone_data.time})\n",
    "# Covert our xarray.DataArray into a xarray.Dataset\n",
    "cyclone_ds = cyclone_da_time.to_dataset(name=\"wind_speed\")\n",
    "\n",
    "# copy over attributes\n",
    "cyclone_ds.attrs['grid_mapping'] = time_of_cyclone_data.attrs['grid_mapping']\n",
    "cyclone_ds.attrs['crs'] = time_of_cyclone_data.attrs['crs']\n"
   ]
  },
  {
   "cell_type": "markdown",
   "id": "62879e84-da09-4c88-834e-3709cc1cbcc9",
   "metadata": {},
   "source": [
    "### load mangrove data before and after cyclone (on extent of geotiff)"
   ]
  },
  {
   "cell_type": "code",
   "execution_count": 6,
   "id": "1331127c-028f-4a1a-b09d-77041f94aba5",
   "metadata": {},
   "outputs": [],
   "source": [
    "# get time query before cyclone\n",
    "time_before_cyclone = (str(start_time - 1) + '-01-01', str(start_time - 1) + '-12-31')\n",
    "# get time query after cyclone\n",
    "time_after_cyclone = (str(start_time) + '-01-01', '2021-12-31')\n",
    "\n",
    "# find all datasets for mangrove canopy cover before cyclone\n",
    "bc_datasets = dc.find_datasets(product = 'ga_ls_mangrove_cover_cyear_3',time=time_before_cyclone, geopolygon=geobox)"
   ]
  },
  {
   "cell_type": "code",
   "execution_count": 7,
   "id": "1b5a2246-77ae-4447-aaa7-c558aafb9ff1",
   "metadata": {},
   "outputs": [],
   "source": [
    "# loop through extents for the different categories\n",
    "cyclone_extent = {}\n",
    "k = 0\n",
    "for d in bc_datasets:\n",
    "    cyclone_extent[k] = d.extent\n",
    "    k += 1"
   ]
  },
  {
   "cell_type": "code",
   "execution_count": 8,
   "id": "75ae41bf-9f85-4f4a-9a44-f4f1fb4ee726",
   "metadata": {},
   "outputs": [],
   "source": [
    "# before cyclone mangrove canopy cover datasets, group by time\n",
    "bc_datasets = dc.group_datasets(bc_datasets, group_by='time')\n",
    "# find all datasets for mangrove canopy cover after cyclone\n",
    "ac_datasets = dc.find_datasets(product = 'ga_ls_mangrove_cover_cyear_3',time=time_after_cyclone, geopolygon=geobox)\n",
    "# after cyclone mangrove canopy cover datasets, group by time\n",
    "ac_datasets = dc.group_datasets(ac_datasets, group_by='time')"
   ]
  },
  {
   "cell_type": "code",
   "execution_count": 9,
   "id": "6742d887-00d1-4b03-80fa-6e55a9be8895",
   "metadata": {},
   "outputs": [
    {
     "name": "stdout",
     "output_type": "stream",
     "text": [
      "         0       1       2       3       4\n",
      "C1     0.0     0.0     0.0     0.0     0.0\n",
      "C2     0.0     0.0     0.0     0.0     0.0\n",
      "C3  6.0282  3.0888  0.1296  0.0423  0.0054\n",
      "C4     0.0     0.0     0.0     0.0     0.0\n",
      "C5     0.0     0.0     0.0     0.0     0.0\n",
      "         1       2       3       4       5\n",
      "C1     0.0     0.0     0.0     0.0     0.0\n",
      "C2     0.0     0.0     0.0     0.0     0.0\n",
      "C3  4.1805  0.4365  0.1674  0.0081  0.0027\n",
      "C4     0.0     0.0     0.0     0.0     0.0\n",
      "C5     0.0     0.0     0.0     0.0     0.0\n",
      "         0       1       2       3       4\n",
      "C1     0.0     0.0     0.0     0.0     0.0\n",
      "C2     0.0     0.0     0.0     0.0     0.0\n",
      "C3  6.0282  3.0888  0.1296  0.0423  0.0054\n",
      "C4     0.0     0.0     0.0     0.0     0.0\n",
      "C5     0.0     0.0     0.0     0.0     0.0\n",
      "         1       2       3       4       5\n",
      "C1     0.0     0.0     0.0     0.0     0.0\n",
      "C2     0.0     0.0     0.0     0.0     0.0\n",
      "C3  4.1805  0.4365  0.1674  0.0081  0.0027\n",
      "C4     0.0     0.0     0.0     0.0     0.0\n",
      "C5     0.0     0.0     0.0     0.0     0.0\n",
      "          0         1        2       3       4\n",
      "C1      0.0       0.0      0.0     0.0     0.0\n",
      "C2      0.0       0.0      0.0     0.0     0.0\n",
      "C3   35.406   26.9973   0.6714  0.0387  0.3996\n",
      "C4  71.2188  108.3465  25.5879  0.4752  1.7181\n",
      "C5   0.7578    2.9808   3.5658  0.0666  1.0152\n",
      "           1       2       3       4       5\n",
      "C1       0.0     0.0     0.0     0.0     0.0\n",
      "C2       0.0     0.0     0.0     0.0     0.0\n",
      "C3   33.1335  1.1484  1.4256  0.0117   0.072\n",
      "C4  139.7196  8.4726  6.3909  0.2484  0.2241\n",
      "C5    4.8564  1.3518  1.4787  0.0189  0.0387\n",
      "          0         1        2       3       4\n",
      "C1      0.0       0.0      0.0     0.0     0.0\n",
      "C2      0.0       0.0      0.0     0.0     0.0\n",
      "C3  41.4342   30.0861    0.801   0.081   0.405\n",
      "C4  71.2188  108.3465  25.5879  0.4752  1.7181\n",
      "C5   0.7578    2.9808   3.5658  0.0666  1.0152\n",
      "           1       2       3       4       5\n",
      "C1       0.0     0.0     0.0     0.0     0.0\n",
      "C2       0.0     0.0     0.0     0.0     0.0\n",
      "C3    37.314  1.5849   1.593  0.0198  0.0747\n",
      "C4  139.7196  8.4726  6.3909  0.2484  0.2241\n",
      "C5    4.8564  1.3518  1.4787  0.0189  0.0387\n",
      "         0       1    2       3       4\n",
      "C1     0.0     0.0  0.0     0.0     0.0\n",
      "C2     0.0     0.0  0.0     0.0     0.0\n",
      "C3  0.4266  0.1476  0.0     0.0  0.0009\n",
      "C4  0.7533  0.1935  0.0  0.0045  0.0027\n",
      "C5     0.0     0.0  0.0     0.0     0.0\n",
      "         1       2       3       4    5\n",
      "C1     0.0     0.0     0.0     0.0  0.0\n",
      "C2     0.0     0.0     0.0     0.0  0.0\n",
      "C3  0.2484  0.0099  0.0153     0.0  0.0\n",
      "C4  0.3699  0.0288  0.0252  0.0009  0.0\n",
      "C5     0.0     0.0     0.0     0.0  0.0\n",
      "          0        1        2       3       4\n",
      "C1      0.0      0.0      0.0     0.0     0.0\n",
      "C2      0.0      0.0      0.0     0.0     0.0\n",
      "C3  41.8608  30.2337    0.801   0.081  0.4059\n",
      "C4  71.9721   108.54  25.5879  0.4797  1.7208\n",
      "C5   0.7578   2.9808   3.5658  0.0666  1.0152\n",
      "           1       2       3       4       5\n",
      "C1       0.0     0.0     0.0     0.0     0.0\n",
      "C2       0.0     0.0     0.0     0.0     0.0\n",
      "C3   37.5624  1.5948  1.6083  0.0198  0.0747\n",
      "C4  140.0895  8.5014  6.4161  0.2493  0.2241\n",
      "C5    4.8564  1.3518  1.4787  0.0189  0.0387\n",
      "         0       1       2       3       4\n",
      "C1     0.0     0.0     0.0     0.0     0.0\n",
      "C2  4.1184  0.8073  0.0009  0.0108  0.0225\n",
      "C3  0.0018     0.0     0.0     0.0     0.0\n",
      "C4     0.0     0.0     0.0     0.0     0.0\n",
      "C5     0.0     0.0     0.0     0.0     0.0\n",
      "         1    2       3       4       5\n",
      "C1     0.0  0.0     0.0     0.0     0.0\n",
      "C2  1.7199  0.0  0.1917  0.0072  0.0099\n",
      "C3     0.0  0.0     0.0     0.0     0.0\n",
      "C4     0.0  0.0     0.0     0.0     0.0\n",
      "C5     0.0  0.0     0.0     0.0     0.0\n",
      "          0        1        2       3       4\n",
      "C1      0.0      0.0      0.0     0.0     0.0\n",
      "C2   4.1184   0.8073   0.0009  0.0108  0.0225\n",
      "C3  41.8626  30.2337    0.801   0.081  0.4059\n",
      "C4  71.9721   108.54  25.5879  0.4797  1.7208\n",
      "C5   0.7578   2.9808   3.5658  0.0666  1.0152\n",
      "           1       2       3       4       5\n",
      "C1       0.0     0.0     0.0     0.0     0.0\n",
      "C2    1.7199     0.0  0.1917  0.0072  0.0099\n",
      "C3   37.5624  1.5948  1.6083  0.0198  0.0747\n",
      "C4  140.0895  8.5014  6.4161  0.2493  0.2241\n",
      "C5    4.8564  1.3518  1.4787  0.0189  0.0387\n",
      "          0        1       2       3       4\n",
      "C1      0.0      0.0     0.0     0.0     0.0\n",
      "C2   0.2043   0.0468     0.0  0.0054  0.0072\n",
      "C3  19.9755   5.0391  0.0666  0.0936  0.0981\n",
      "C4  14.5989  22.9347   5.004  0.0432  0.3699\n",
      "C5   0.0009   0.0018  0.0009     0.0     0.0\n",
      "          1       2       3       4       5\n",
      "C1      0.0     0.0     0.0     0.0     0.0\n",
      "C2   0.0882     0.0   0.036  0.0009  0.0018\n",
      "C3  11.5506  0.1476  0.4707  0.0324  0.0279\n",
      "C4  28.2807  0.4239  1.6794  0.0117  0.0216\n",
      "C5   0.0009  0.0018  0.0009     0.0     0.0\n",
      "          0         1        2       3       4\n",
      "C1      0.0       0.0      0.0     0.0     0.0\n",
      "C2   4.3227    0.8541   0.0009  0.0162  0.0297\n",
      "C3  61.8381   35.2728   0.8676  0.1746   0.504\n",
      "C4   86.571  131.4747  30.5919  0.5229  2.0907\n",
      "C5   0.7587    2.9826   3.5667  0.0666  1.0152\n",
      "           1       2       3       4       5\n",
      "C1       0.0     0.0     0.0     0.0     0.0\n",
      "C2    1.8081     0.0  0.2277  0.0081  0.0117\n",
      "C3    49.113  1.7424   2.079  0.0522  0.1026\n",
      "C4  168.3702  8.9253  8.0955   0.261  0.2457\n",
      "C5    4.8573  1.3536  1.4796  0.0189  0.0387\n",
      "      0    1    2    3    4\n",
      "C1  0.0  0.0  0.0  0.0  0.0\n",
      "C2  0.0  0.0  0.0  0.0  0.0\n",
      "C3  0.0  0.0  0.0  0.0  0.0\n",
      "C4  0.0  0.0  0.0  0.0  0.0\n",
      "C5  0.0  0.0  0.0  0.0  0.0\n",
      "      1    2    3    4    5\n",
      "C1  0.0  0.0  0.0  0.0  0.0\n",
      "C2  0.0  0.0  0.0  0.0  0.0\n",
      "C3  0.0  0.0  0.0  0.0  0.0\n",
      "C4  0.0  0.0  0.0  0.0  0.0\n",
      "C5  0.0  0.0  0.0  0.0  0.0\n",
      "          0         1        2       3       4\n",
      "C1      0.0       0.0      0.0     0.0     0.0\n",
      "C2   4.3227    0.8541   0.0009  0.0162  0.0297\n",
      "C3  61.8381   35.2728   0.8676  0.1746   0.504\n",
      "C4   86.571  131.4747  30.5919  0.5229  2.0907\n",
      "C5   0.7587    2.9826   3.5667  0.0666  1.0152\n",
      "           1       2       3       4       5\n",
      "C1       0.0     0.0     0.0     0.0     0.0\n",
      "C2    1.8081     0.0  0.2277  0.0081  0.0117\n",
      "C3    49.113  1.7424   2.079  0.0522  0.1026\n",
      "C4  168.3702  8.9253  8.0955   0.261  0.2457\n",
      "C5    4.8573  1.3536  1.4796  0.0189  0.0387\n"
     ]
    }
   ],
   "source": [
    "# set up empty variables\n",
    "wind_cat_full = None\n",
    "all_wind_cat_full = None\n",
    "\n",
    "for key, value in cyclone_extent.items():\n",
    "    # get polygon extent of cyclone\n",
    "    loading_polygon = value.intersection(geobox.to_crs(value.crs))\n",
    "    # get bounding box of polygon with 30m res\n",
    "    loading_box = geometry.GeoBox.from_geopolygon(loading_polygon, resolution=(30, -30))\n",
    "    # run the function damage_level_by_geo\n",
    "    wind_cat, all_wind_cat = damage_level_by_geo('./', cyclone_name, \n",
    "                                             cyclone_ds, bc_datasets, ac_datasets, \n",
    "                                             loading_box, dump=True)\n",
    "\n",
    "    if wind_cat_full is None:\n",
    "        wind_cat_full = wind_cat\n",
    "        all_wind_cat_full = all_wind_cat\n",
    "    else:\n",
    "        wind_cat_full += wind_cat\n",
    "        all_wind_cat_full += all_wind_cat\n",
    "    print(wind_cat_full)\n",
    "    print(all_wind_cat_full)"
   ]
  },
  {
   "cell_type": "code",
   "execution_count": 10,
   "id": "f9c95125-cf34-4e54-afef-6b529caf0ca2",
   "metadata": {},
   "outputs": [],
   "source": [
    "with open('./Pickle_damage_results_collection3/'+cyclone_name+'_tally.pkl', 'wb') as f:\n",
    "    pickle.dump((wind_cat_full, all_wind_cat_full), f)"
   ]
  },
  {
   "cell_type": "code",
   "execution_count": 11,
   "id": "64cd859a-f39a-4b29-b7df-4a8706be2866",
   "metadata": {},
   "outputs": [],
   "source": [
    "with open('./Pickle_damage_results_collection3/'+cyclone_name+'_tally.pkl', 'rb') as f:\n",
    "    wind_cat_full, all_wind_cat_full = pickle.load(f)"
   ]
  },
  {
   "cell_type": "code",
   "execution_count": 12,
   "id": "8787343b-37d0-487f-9af8-b59519f1993a",
   "metadata": {},
   "outputs": [],
   "source": [
    "with open('./Pickle_damage_results_old/'+cyclone_name+'_tally.pkl', 'rb') as f:\n",
    "    wind_cat_full_olddata, all_wind_cat_full_olddata = pickle.load(f)"
   ]
  },
  {
   "cell_type": "code",
   "execution_count": 13,
   "id": "e9c1b365-3278-4694-ac05-cc7844393433",
   "metadata": {},
   "outputs": [
    {
     "data": {
      "text/html": [
       "<div>\n",
       "<style scoped>\n",
       "    .dataframe tbody tr th:only-of-type {\n",
       "        vertical-align: middle;\n",
       "    }\n",
       "\n",
       "    .dataframe tbody tr th {\n",
       "        vertical-align: top;\n",
       "    }\n",
       "\n",
       "    .dataframe thead th {\n",
       "        text-align: right;\n",
       "    }\n",
       "</style>\n",
       "<table border=\"1\" class=\"dataframe\">\n",
       "  <thead>\n",
       "    <tr style=\"text-align: right;\">\n",
       "      <th></th>\n",
       "      <th>0</th>\n",
       "      <th>1</th>\n",
       "      <th>2</th>\n",
       "      <th>3</th>\n",
       "      <th>4</th>\n",
       "    </tr>\n",
       "  </thead>\n",
       "  <tbody>\n",
       "    <tr>\n",
       "      <th>C1</th>\n",
       "      <td>0.0</td>\n",
       "      <td>0.0</td>\n",
       "      <td>0.0</td>\n",
       "      <td>0.0</td>\n",
       "      <td>0.0</td>\n",
       "    </tr>\n",
       "    <tr>\n",
       "      <th>C2</th>\n",
       "      <td>4.3227</td>\n",
       "      <td>0.8541</td>\n",
       "      <td>0.0009</td>\n",
       "      <td>0.0162</td>\n",
       "      <td>0.0297</td>\n",
       "    </tr>\n",
       "    <tr>\n",
       "      <th>C3</th>\n",
       "      <td>61.8381</td>\n",
       "      <td>35.2728</td>\n",
       "      <td>0.8676</td>\n",
       "      <td>0.1746</td>\n",
       "      <td>0.504</td>\n",
       "    </tr>\n",
       "    <tr>\n",
       "      <th>C4</th>\n",
       "      <td>86.571</td>\n",
       "      <td>131.4747</td>\n",
       "      <td>30.5919</td>\n",
       "      <td>0.5229</td>\n",
       "      <td>2.0907</td>\n",
       "    </tr>\n",
       "    <tr>\n",
       "      <th>C5</th>\n",
       "      <td>0.7587</td>\n",
       "      <td>2.9826</td>\n",
       "      <td>3.5667</td>\n",
       "      <td>0.0666</td>\n",
       "      <td>1.0152</td>\n",
       "    </tr>\n",
       "  </tbody>\n",
       "</table>\n",
       "</div>"
      ],
      "text/plain": [
       "          0         1        2       3       4\n",
       "C1      0.0       0.0      0.0     0.0     0.0\n",
       "C2   4.3227    0.8541   0.0009  0.0162  0.0297\n",
       "C3  61.8381   35.2728   0.8676  0.1746   0.504\n",
       "C4   86.571  131.4747  30.5919  0.5229  2.0907\n",
       "C5   0.7587    2.9826   3.5667  0.0666  1.0152"
      ]
     },
     "execution_count": 13,
     "metadata": {},
     "output_type": "execute_result"
    }
   ],
   "source": [
    "# C1 - C5: category of cyclone windspeeed\n",
    "# 0 = no change (km2)\n",
    "# 1 = minor reduction\n",
    "# 2 = major reduction\n",
    "# 3 = loss of woodland\n",
    "# 4 = loss of forest\n",
    "wind_cat_full"
   ]
  },
  {
   "cell_type": "code",
   "execution_count": 14,
   "id": "98f758a5-56ee-4047-81b0-ffe67c99c71a",
   "metadata": {},
   "outputs": [
    {
     "data": {
      "text/html": [
       "<div>\n",
       "<style scoped>\n",
       "    .dataframe tbody tr th:only-of-type {\n",
       "        vertical-align: middle;\n",
       "    }\n",
       "\n",
       "    .dataframe tbody tr th {\n",
       "        vertical-align: top;\n",
       "    }\n",
       "\n",
       "    .dataframe thead th {\n",
       "        text-align: right;\n",
       "    }\n",
       "</style>\n",
       "<table border=\"1\" class=\"dataframe\">\n",
       "  <thead>\n",
       "    <tr style=\"text-align: right;\">\n",
       "      <th></th>\n",
       "      <th>0</th>\n",
       "      <th>1</th>\n",
       "      <th>2</th>\n",
       "      <th>3</th>\n",
       "      <th>4</th>\n",
       "    </tr>\n",
       "  </thead>\n",
       "  <tbody>\n",
       "    <tr>\n",
       "      <th>C1</th>\n",
       "      <td>6.00875</td>\n",
       "      <td>1.560625</td>\n",
       "      <td>0.006875</td>\n",
       "      <td>0.035</td>\n",
       "      <td>0.0375</td>\n",
       "    </tr>\n",
       "    <tr>\n",
       "      <th>C2</th>\n",
       "      <td>4.735625</td>\n",
       "      <td>1.01375</td>\n",
       "      <td>0.00125</td>\n",
       "      <td>0.005</td>\n",
       "      <td>0.031875</td>\n",
       "    </tr>\n",
       "    <tr>\n",
       "      <th>C3</th>\n",
       "      <td>64.60875</td>\n",
       "      <td>33.115</td>\n",
       "      <td>0.904375</td>\n",
       "      <td>0.216875</td>\n",
       "      <td>0.601875</td>\n",
       "    </tr>\n",
       "    <tr>\n",
       "      <th>C4</th>\n",
       "      <td>80.4475</td>\n",
       "      <td>138.90125</td>\n",
       "      <td>32.875625</td>\n",
       "      <td>0.30875</td>\n",
       "      <td>3.6925</td>\n",
       "    </tr>\n",
       "    <tr>\n",
       "      <th>C5</th>\n",
       "      <td>0.443125</td>\n",
       "      <td>2.80375</td>\n",
       "      <td>3.455</td>\n",
       "      <td>0.033125</td>\n",
       "      <td>1.36375</td>\n",
       "    </tr>\n",
       "  </tbody>\n",
       "</table>\n",
       "</div>"
      ],
      "text/plain": [
       "           0          1          2         3         4\n",
       "C1   6.00875   1.560625   0.006875     0.035    0.0375\n",
       "C2  4.735625    1.01375    0.00125     0.005  0.031875\n",
       "C3  64.60875     33.115   0.904375  0.216875  0.601875\n",
       "C4   80.4475  138.90125  32.875625   0.30875    3.6925\n",
       "C5  0.443125    2.80375      3.455  0.033125   1.36375"
      ]
     },
     "execution_count": 14,
     "metadata": {},
     "output_type": "execute_result"
    }
   ],
   "source": [
    "wind_cat_full_olddata"
   ]
  },
  {
   "cell_type": "code",
   "execution_count": 15,
   "id": "e54a7e86-88e2-4c9d-acb5-b78fcd80d8e0",
   "metadata": {},
   "outputs": [
    {
     "data": {
      "text/html": [
       "<div>\n",
       "<style scoped>\n",
       "    .dataframe tbody tr th:only-of-type {\n",
       "        vertical-align: middle;\n",
       "    }\n",
       "\n",
       "    .dataframe tbody tr th {\n",
       "        vertical-align: top;\n",
       "    }\n",
       "\n",
       "    .dataframe thead th {\n",
       "        text-align: right;\n",
       "    }\n",
       "</style>\n",
       "<table border=\"1\" class=\"dataframe\">\n",
       "  <thead>\n",
       "    <tr style=\"text-align: right;\">\n",
       "      <th></th>\n",
       "      <th>1</th>\n",
       "      <th>2</th>\n",
       "      <th>3</th>\n",
       "      <th>4</th>\n",
       "      <th>5</th>\n",
       "    </tr>\n",
       "  </thead>\n",
       "  <tbody>\n",
       "    <tr>\n",
       "      <th>C1</th>\n",
       "      <td>0.0</td>\n",
       "      <td>0.0</td>\n",
       "      <td>0.0</td>\n",
       "      <td>0.0</td>\n",
       "      <td>0.0</td>\n",
       "    </tr>\n",
       "    <tr>\n",
       "      <th>C2</th>\n",
       "      <td>1.8081</td>\n",
       "      <td>0.0</td>\n",
       "      <td>0.2277</td>\n",
       "      <td>0.0081</td>\n",
       "      <td>0.0117</td>\n",
       "    </tr>\n",
       "    <tr>\n",
       "      <th>C3</th>\n",
       "      <td>49.113</td>\n",
       "      <td>1.7424</td>\n",
       "      <td>2.079</td>\n",
       "      <td>0.0522</td>\n",
       "      <td>0.1026</td>\n",
       "    </tr>\n",
       "    <tr>\n",
       "      <th>C4</th>\n",
       "      <td>168.3702</td>\n",
       "      <td>8.9253</td>\n",
       "      <td>8.0955</td>\n",
       "      <td>0.261</td>\n",
       "      <td>0.2457</td>\n",
       "    </tr>\n",
       "    <tr>\n",
       "      <th>C5</th>\n",
       "      <td>4.8573</td>\n",
       "      <td>1.3536</td>\n",
       "      <td>1.4796</td>\n",
       "      <td>0.0189</td>\n",
       "      <td>0.0387</td>\n",
       "    </tr>\n",
       "  </tbody>\n",
       "</table>\n",
       "</div>"
      ],
      "text/plain": [
       "           1       2       3       4       5\n",
       "C1       0.0     0.0     0.0     0.0     0.0\n",
       "C2    1.8081     0.0  0.2277  0.0081  0.0117\n",
       "C3    49.113  1.7424   2.079  0.0522  0.1026\n",
       "C4  168.3702  8.9253  8.0955   0.261  0.2457\n",
       "C5    4.8573  1.3536  1.4796  0.0189  0.0387"
      ]
     },
     "execution_count": 15,
     "metadata": {},
     "output_type": "execute_result"
    }
   ],
   "source": [
    "# C1 - C5: category of cyclone windspeeed\n",
    "# 0 = no change (km2)\n",
    "# 1 = temporary reduction\n",
    "# 2 = persistent reduction\n",
    "# 3 = temporary loss\n",
    "# 4 = persistent loss\n",
    "# 5 = total loss\n",
    "all_wind_cat_full"
   ]
  },
  {
   "cell_type": "code",
   "execution_count": 16,
   "id": "0a6e7a38-09f8-4800-a607-a8f82eec9bf8",
   "metadata": {},
   "outputs": [
    {
     "data": {
      "text/html": [
       "<div>\n",
       "<style scoped>\n",
       "    .dataframe tbody tr th:only-of-type {\n",
       "        vertical-align: middle;\n",
       "    }\n",
       "\n",
       "    .dataframe tbody tr th {\n",
       "        vertical-align: top;\n",
       "    }\n",
       "\n",
       "    .dataframe thead th {\n",
       "        text-align: right;\n",
       "    }\n",
       "</style>\n",
       "<table border=\"1\" class=\"dataframe\">\n",
       "  <thead>\n",
       "    <tr style=\"text-align: right;\">\n",
       "      <th></th>\n",
       "      <th>1</th>\n",
       "      <th>2</th>\n",
       "      <th>3</th>\n",
       "      <th>4</th>\n",
       "      <th>5</th>\n",
       "    </tr>\n",
       "  </thead>\n",
       "  <tbody>\n",
       "    <tr>\n",
       "      <th>C1</th>\n",
       "      <td>2.724375</td>\n",
       "      <td>0.386875</td>\n",
       "      <td>0.18</td>\n",
       "      <td>0.005</td>\n",
       "      <td>0.0</td>\n",
       "    </tr>\n",
       "    <tr>\n",
       "      <th>C2</th>\n",
       "      <td>1.800625</td>\n",
       "      <td>0.00375</td>\n",
       "      <td>0.14125</td>\n",
       "      <td>0.003125</td>\n",
       "      <td>0.01125</td>\n",
       "    </tr>\n",
       "    <tr>\n",
       "      <th>C3</th>\n",
       "      <td>41.22125</td>\n",
       "      <td>5.278125</td>\n",
       "      <td>2.110625</td>\n",
       "      <td>0.0875</td>\n",
       "      <td>0.1225</td>\n",
       "    </tr>\n",
       "    <tr>\n",
       "      <th>C4</th>\n",
       "      <td>152.86375</td>\n",
       "      <td>26.195625</td>\n",
       "      <td>9.135625</td>\n",
       "      <td>0.13625</td>\n",
       "      <td>0.660625</td>\n",
       "    </tr>\n",
       "    <tr>\n",
       "      <th>C5</th>\n",
       "      <td>3.060625</td>\n",
       "      <td>2.9075</td>\n",
       "      <td>1.489375</td>\n",
       "      <td>0.006875</td>\n",
       "      <td>0.214375</td>\n",
       "    </tr>\n",
       "  </tbody>\n",
       "</table>\n",
       "</div>"
      ],
      "text/plain": [
       "            1          2         3         4         5\n",
       "C1   2.724375   0.386875      0.18     0.005       0.0\n",
       "C2   1.800625    0.00375   0.14125  0.003125   0.01125\n",
       "C3   41.22125   5.278125  2.110625    0.0875    0.1225\n",
       "C4  152.86375  26.195625  9.135625   0.13625  0.660625\n",
       "C5   3.060625     2.9075  1.489375  0.006875  0.214375"
      ]
     },
     "execution_count": 16,
     "metadata": {},
     "output_type": "execute_result"
    }
   ],
   "source": [
    "all_wind_cat_full_olddata"
   ]
  },
  {
   "cell_type": "markdown",
   "id": "f1965412-cebe-4022-a830-a992c54f6a02",
   "metadata": {},
   "source": [
    "### plotting impact of cyclone"
   ]
  },
  {
   "cell_type": "code",
   "execution_count": 17,
   "id": "c4e55aaf-418a-41ef-b406-91a5027c3045",
   "metadata": {},
   "outputs": [
    {
     "data": {
      "text/plain": [
       "Text(0.5, 0, 'Wind speed categories')"
      ]
     },
     "execution_count": 17,
     "metadata": {},
     "output_type": "execute_result"
    },
    {
     "data": {
      "image/png": "[encoded data removed]",
      "text/plain": [
       "<Figure size 432x288 with 1 Axes>"
      ]
     },
     "metadata": {
      "needs_background": "light"
     },
     "output_type": "display_data"
    }
   ],
   "source": [
    "figure_a = wind_cat_full.astype('float').plot(kind='bar', title='Cyclone '+ cyclone_name +' immediate impact')\n",
    "figure_a.set_ylabel('Area in $km^2$')\n",
    "figure_a.set_xlabel('Wind speed categories')"
   ]
  },
  {
   "cell_type": "code",
   "execution_count": 18,
   "id": "a49f498a-1aff-480d-8b72-7ffe3ebe5454",
   "metadata": {},
   "outputs": [
    {
     "data": {
      "text/plain": [
       "Text(0.5, 0, 'Wind speed categories')"
      ]
     },
     "execution_count": 18,
     "metadata": {},
     "output_type": "execute_result"
    },
    {
     "data": {
      "image/png": "[encoded data removed]",
      "text/plain": [
       "<Figure size 432x288 with 1 Axes>"
      ]
     },
     "metadata": {
      "needs_background": "light"
     },
     "output_type": "display_data"
    }
   ],
   "source": [
    "figure_a = all_wind_cat_full.astype('float').plot(kind='bar', title='Cyclone '+ cyclone_name +' long term impact')\n",
    "figure_a.set_ylabel('Area in $km^2$')\n",
    "figure_a.set_xlabel('Wind speed categories')"
   ]
  },
  {
   "cell_type": "code",
   "execution_count": null,
   "id": "2a48caac-93ad-4e68-ba82-ba955c481047",
   "metadata": {},
   "outputs": [],
   "source": []
  }
 ],
 "metadata": {
  "kernelspec": {
   "display_name": "Python 3 (ipykernel)",
   "language": "python",
   "name": "python3"
  },
  "language_info": {
   "codemirror_mode": {
    "name": "ipython",
    "version": 3
   },
   "file_extension": ".py",
   "mimetype": "text/x-python",
   "name": "python",
   "nbconvert_exporter": "python",
   "pygments_lexer": "ipython3",
   "version": "3.8.10"
  }
 },
 "nbformat": 4,
 "nbformat_minor": 5
}
