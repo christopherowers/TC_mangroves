{
 "cells": [
  {
   "cell_type": "markdown",
   "id": "e3516e28-2e64-4ff3-8ca7-186e193065c9",
   "metadata": {},
   "source": [
    "## Classifying mangrove damage and recover due to tropical cyclones\n",
    "- based on Emmas_code_TC_mangroves.py\n",
    "- need to use geotiffs (30m EPSG 3577) in google drive for the windfield data input"
   ]
  },
  {
   "cell_type": "code",
   "execution_count": 1,
   "id": "7395331d-22a7-47ac-9de2-93c381144448",
   "metadata": {},
   "outputs": [],
   "source": [
    "# need to change so it reprojects in the nb not externally\n",
    "# https://docs.dea.ga.gov.au/notebooks/Frequently_used_code/Reprojecting_data.html\n",
    "\n",
    "# commandline used at the moment for reprojecting\n",
    "# gdalwarp -t_srs EPSG:3577 -tr 30.0 30.0 -r near -of GTiff Yasi.tif Yasi_30m_EPSG3577.tif"
   ]
  },
  {
   "cell_type": "code",
   "execution_count": 2,
   "id": "b7d235e1-6fc2-48eb-b8df-47ec8710ae63",
   "metadata": {},
   "outputs": [],
   "source": [
    "import datacube\n",
    "from datacube.model import Measurement\n",
    "import numpy as np\n",
    "import xarray as xr\n",
    "from os import path\n",
    "from datacube.drivers.netcdf import write_dataset_to_netcdf\n",
    "from datacube.utils.geometry import CRS\n",
    "import pandas as pd\n",
    "import os\n",
    "from  datacube import Datacube\n",
    "from datacube.utils import geometry\n",
    "import pickle\n",
    "import sys\n",
    "import rioxarray\n",
    "dc = datacube.Datacube(app=\"cyclone mangroves\")\n",
    "\n",
    "from datacube.testutils.io import rio_slurp_xarray\n",
    "\n",
    "from Cyclone_damage_funcs import *"
   ]
  },
  {
   "cell_type": "markdown",
   "id": "118b20ed-633e-435b-ba76-2fa877413046",
   "metadata": {},
   "source": [
    "### fill in data (doing one cyclone at a time for the moment)"
   ]
  },
  {
   "cell_type": "code",
   "execution_count": 3,
   "id": "a82b8838-1bcc-435e-8c0e-8ce2f6fbae24",
   "metadata": {},
   "outputs": [],
   "source": [
    "# cyclone_name = 'Yasi'\n",
    "# cyclone_time = 2011\n",
    "\n",
    "# cyclone_name = 'Larry'\n",
    "# cyclone_time = 2006\n",
    "\n",
    "# cyclone_name = 'Ita'\n",
    "# cyclone_time = 2014\n",
    "\n",
    "cyclone_name = 'Nathan_Landfall1'\n",
    "cyclone_time = 2015"
   ]
  },
  {
   "cell_type": "markdown",
   "id": "518b65c5-fd58-43ec-925c-8f32c7eb1ee1",
   "metadata": {},
   "source": [
    "### load in geotiff"
   ]
  },
  {
   "cell_type": "code",
   "execution_count": 4,
   "id": "b39bca60-5c53-480a-a1e1-1282f4de7d54",
   "metadata": {},
   "outputs": [],
   "source": [
    "geotiff_path = './FINALlocalWind/'+cyclone_name+'_30m_EPSG3577.tif'\n",
    "# Open into an xarray.DataArray\n",
    "geotiff_da = rioxarray.open_rasterio(geotiff_path)\n",
    "# change -9999 to 0 #### not sure this needs to be done, -9999 should be considered 'not cyclone'?\n",
    "geotiff_da = xr.where(geotiff_da == -9999, 0, geotiff_da.values)\n",
    "# Covert our xarray.DataArray into a xarray.Dataset\n",
    "geotiff_ds = geotiff_da.to_dataset('band')\n",
    "# Rename the variable to a more useful name\n",
    "dataset = geotiff_ds.rename({1: 'wind_speed'})"
   ]
  },
  {
   "cell_type": "markdown",
   "id": "374cec27-baf4-4080-b086-0a3159f1c90b",
   "metadata": {},
   "source": [
    "### rework to get geotiff as identical dc.load for mangroves"
   ]
  },
  {
   "cell_type": "code",
   "execution_count": 5,
   "id": "faf1f20e-6963-4655-bf7f-c48fa06041b9",
   "metadata": {},
   "outputs": [],
   "source": [
    "# get extent of cyclone dataset\n",
    "geobox = dataset.extent\n",
    "# get the cyclone start time\n",
    "start_time = cyclone_time\n",
    "\n",
    "# get time of cyclone\n",
    "time_of_cyclone = (str(start_time) + '-01-01', str(start_time) + '-12-31')\n",
    "\n",
    "# find datasets for mangrove canopy cover at cyclone time\n",
    "time_of_cyclone_datasets = dc.find_datasets(product = 'ga_ls_mangrove_cover_cyear_3',time=time_of_cyclone, geopolygon=geobox)\n",
    "\n",
    "# at time of cyclone mangrove canopy cover datasets, group by time\n",
    "time_of_cyclone_datasets = dc.group_datasets(time_of_cyclone_datasets, group_by='time')\n",
    "\n",
    "# get geometry box from geotiff\n",
    "full_box = geometry.GeoBox.from_geopolygon(geobox, resolution=(30, -30))\n",
    "\n",
    "# measurements for mangrove canopy cover\n",
    "measurement = [Measurement(name='canopy_cover_class', dtype='int16', nodata=-1, units='1')]\n",
    "\n",
    "# load mangrove canopy cover at time of cyclone\n",
    "time_of_cyclone_data = dc.load_data(time_of_cyclone_datasets, geobox = full_box, measurements=measurement)\n",
    "\n",
    "# load in geotiff again but with identical extent from dc.load mangroves\n",
    "cyclone_da = rio_slurp_xarray(geotiff_path, gbox=time_of_cyclone_data.geobox)\n",
    "# change -9999 to 0 #### not sure this needs to be done, -9999 should be considered 'not cyclone'?\n",
    "# cyclone_da = xr.where(cyclone_da == -9999, 0, cyclone_da.values)\n",
    "# add time dimension\n",
    "cyclone_da_time = cyclone_da.expand_dims(dim={\"time\": time_of_cyclone_data.time})\n",
    "# Covert our xarray.DataArray into a xarray.Dataset\n",
    "cyclone_ds = cyclone_da_time.to_dataset(name=\"wind_speed\")\n",
    "\n",
    "# copy over attributes\n",
    "cyclone_ds.attrs['grid_mapping'] = time_of_cyclone_data.attrs['grid_mapping']\n",
    "cyclone_ds.attrs['crs'] = time_of_cyclone_data.attrs['crs']\n"
   ]
  },
  {
   "cell_type": "markdown",
   "id": "62879e84-da09-4c88-834e-3709cc1cbcc9",
   "metadata": {},
   "source": [
    "### load mangrove data before and after cyclone (on extent of geotiff)"
   ]
  },
  {
   "cell_type": "code",
   "execution_count": 6,
   "id": "1331127c-028f-4a1a-b09d-77041f94aba5",
   "metadata": {},
   "outputs": [],
   "source": [
    "# get time query before cyclone\n",
    "time_before_cyclone = (str(start_time - 1) + '-01-01', str(start_time - 1) + '-12-31')\n",
    "# get time query after cyclone\n",
    "time_after_cyclone = (str(start_time) + '-01-01', '2021-12-31')\n",
    "\n",
    "# find all datasets for mangrove canopy cover before cyclone\n",
    "bc_datasets = dc.find_datasets(product = 'ga_ls_mangrove_cover_cyear_3',time=time_before_cyclone, geopolygon=geobox)"
   ]
  },
  {
   "cell_type": "code",
   "execution_count": 7,
   "id": "1b5a2246-77ae-4447-aaa7-c558aafb9ff1",
   "metadata": {},
   "outputs": [],
   "source": [
    "# loop through extents for the different categories\n",
    "cyclone_extent = {}\n",
    "k = 0\n",
    "for d in bc_datasets:\n",
    "    cyclone_extent[k] = d.extent\n",
    "    k += 1"
   ]
  },
  {
   "cell_type": "code",
   "execution_count": 8,
   "id": "75ae41bf-9f85-4f4a-9a44-f4f1fb4ee726",
   "metadata": {},
   "outputs": [],
   "source": [
    "# before cyclone mangrove canopy cover datasets, group by time\n",
    "bc_datasets = dc.group_datasets(bc_datasets, group_by='time')\n",
    "# find all datasets for mangrove canopy cover after cyclone\n",
    "ac_datasets = dc.find_datasets(product = 'ga_ls_mangrove_cover_cyear_3',time=time_after_cyclone, geopolygon=geobox)\n",
    "# after cyclone mangrove canopy cover datasets, group by time\n",
    "ac_datasets = dc.group_datasets(ac_datasets, group_by='time')"
   ]
  },
  {
   "cell_type": "code",
   "execution_count": 9,
   "id": "6742d887-00d1-4b03-80fa-6e55a9be8895",
   "metadata": {},
   "outputs": [
    {
     "name": "stdout",
     "output_type": "stream",
     "text": [
      "         0       1       2       3       4\n",
      "C1  0.2718  0.0387     0.0  0.0009     0.0\n",
      "C2  0.3204  0.0315  0.0009  0.0036  0.0009\n",
      "C3  0.0216  0.0018     0.0     0.0  0.0018\n",
      "C4     0.0     0.0     0.0     0.0     0.0\n",
      "C5     0.0     0.0     0.0     0.0     0.0\n",
      "         1       2       3       4       5\n",
      "C1  0.1476     0.0  0.0009     0.0     0.0\n",
      "C2  0.0963  0.0018  0.0054  0.0018     0.0\n",
      "C3  0.0027     0.0  0.0027     0.0  0.0009\n",
      "C4     0.0     0.0     0.0     0.0     0.0\n",
      "C5     0.0     0.0     0.0     0.0     0.0\n",
      "         0       1       2       3       4\n",
      "C1  0.2718  0.0387     0.0  0.0009     0.0\n",
      "C2  0.3204  0.0315  0.0009  0.0036  0.0009\n",
      "C3  0.0216  0.0018     0.0     0.0  0.0018\n",
      "C4     0.0     0.0     0.0     0.0     0.0\n",
      "C5     0.0     0.0     0.0     0.0     0.0\n",
      "         1       2       3       4       5\n",
      "C1  0.1476     0.0  0.0009     0.0     0.0\n",
      "C2  0.0963  0.0018  0.0054  0.0018     0.0\n",
      "C3  0.0027     0.0  0.0027     0.0  0.0009\n",
      "C4     0.0     0.0     0.0     0.0     0.0\n",
      "C5     0.0     0.0     0.0     0.0     0.0\n",
      "          0       1       2       3       4\n",
      "C1   10.044  0.7002  0.0018  0.0189  0.0288\n",
      "C2  16.0281  2.9466  0.0216  0.0252  0.0522\n",
      "C3   0.1818  0.0054     0.0     0.0  0.0018\n",
      "C4      0.0     0.0     0.0     0.0     0.0\n",
      "C5      0.0     0.0     0.0     0.0     0.0\n",
      "         1       2       3       4       5\n",
      "C1   2.448  0.0414  0.1485  0.0036  0.0036\n",
      "C2  5.5044   0.135  0.1575  0.0036  0.0063\n",
      "C3  0.0135  0.0009  0.0018     0.0     0.0\n",
      "C4     0.0     0.0     0.0     0.0     0.0\n",
      "C5     0.0     0.0     0.0     0.0     0.0\n",
      "          0       1       2       3       4\n",
      "C1  10.3158  0.7389  0.0018  0.0198  0.0288\n",
      "C2  16.3485  2.9781  0.0225  0.0288  0.0531\n",
      "C3   0.2034  0.0072     0.0     0.0  0.0036\n",
      "C4      0.0     0.0     0.0     0.0     0.0\n",
      "C5      0.0     0.0     0.0     0.0     0.0\n",
      "         1       2       3       4       5\n",
      "C1  2.5956  0.0414  0.1494  0.0036  0.0036\n",
      "C2  5.6007  0.1368  0.1629  0.0054  0.0063\n",
      "C3  0.0162  0.0009  0.0045     0.0  0.0009\n",
      "C4     0.0     0.0     0.0     0.0     0.0\n",
      "C5     0.0     0.0     0.0     0.0     0.0\n",
      "          0       1       2       3       4\n",
      "C1  10.7595  1.7271  0.0126  0.0081  0.0261\n",
      "C2   7.4691  2.3958  0.5688  0.0216  0.1044\n",
      "C3  28.0134  9.3177  1.0071  0.3042  0.4356\n",
      "C4      0.0     0.0     0.0     0.0     0.0\n",
      "C5      0.0     0.0     0.0     0.0     0.0\n",
      "          1       2       3       4       5\n",
      "C1   5.1561  0.1233  0.0666     0.0  0.0009\n",
      "C2   4.5684  0.6507  0.2574  0.0009     0.0\n",
      "C3  14.1498  1.2465  1.5606  0.0288  0.0171\n",
      "C4      0.0     0.0     0.0     0.0     0.0\n",
      "C5      0.0     0.0     0.0     0.0     0.0\n",
      "          0       1       2       3       4\n",
      "C1  21.0753   2.466  0.0144  0.0279  0.0549\n",
      "C2  23.8176  5.3739  0.5913  0.0504  0.1575\n",
      "C3  28.2168  9.3249  1.0071  0.3042  0.4392\n",
      "C4      0.0     0.0     0.0     0.0     0.0\n",
      "C5      0.0     0.0     0.0     0.0     0.0\n",
      "          1       2       3       4       5\n",
      "C1   7.7517  0.1647   0.216  0.0036  0.0045\n",
      "C2  10.1691  0.7875  0.4203  0.0063  0.0063\n",
      "C3   14.166  1.2474  1.5651  0.0288   0.018\n",
      "C4      0.0     0.0     0.0     0.0     0.0\n",
      "C5      0.0     0.0     0.0     0.0     0.0\n",
      "         0       1       2       3       4\n",
      "C1  9.1512  0.3276  0.0018  0.1458  0.0792\n",
      "C2     0.0     0.0     0.0     0.0     0.0\n",
      "C3     0.0     0.0     0.0     0.0     0.0\n",
      "C4     0.0     0.0     0.0     0.0     0.0\n",
      "C5     0.0     0.0     0.0     0.0     0.0\n",
      "         1       2       3       4       5\n",
      "C1  2.4516  0.0063  0.4554  0.0009  0.0018\n",
      "C2     0.0     0.0     0.0     0.0     0.0\n",
      "C3     0.0     0.0     0.0     0.0     0.0\n",
      "C4     0.0     0.0     0.0     0.0     0.0\n",
      "C5     0.0     0.0     0.0     0.0     0.0\n",
      "          0       1       2       3       4\n",
      "C1  30.2265  2.7936  0.0162  0.1737  0.1341\n",
      "C2  23.8176  5.3739  0.5913  0.0504  0.1575\n",
      "C3  28.2168  9.3249  1.0071  0.3042  0.4392\n",
      "C4      0.0     0.0     0.0     0.0     0.0\n",
      "C5      0.0     0.0     0.0     0.0     0.0\n",
      "          1       2       3       4       5\n",
      "C1  10.2033   0.171  0.6714  0.0045  0.0063\n",
      "C2  10.1691  0.7875  0.4203  0.0063  0.0063\n",
      "C3   14.166  1.2474  1.5651  0.0288   0.018\n",
      "C4      0.0     0.0     0.0     0.0     0.0\n",
      "C5      0.0     0.0     0.0     0.0     0.0\n",
      "          0       1       2       3       4\n",
      "C1  42.3252  8.9226  0.0621  0.2403  0.1863\n",
      "C2   0.1413  0.0081     0.0     0.0     0.0\n",
      "C3      0.0     0.0     0.0     0.0     0.0\n",
      "C4      0.0     0.0     0.0     0.0     0.0\n",
      "C5      0.0     0.0     0.0     0.0     0.0\n",
      "          1       2       3       4       5\n",
      "C1  18.7263  0.6516  1.0404  0.0297  0.0126\n",
      "C2   0.0477  0.0018     0.0     0.0     0.0\n",
      "C3      0.0     0.0     0.0     0.0     0.0\n",
      "C4      0.0     0.0     0.0     0.0     0.0\n",
      "C5      0.0     0.0     0.0     0.0     0.0\n",
      "          0        1       2       3       4\n",
      "C1  72.5517  11.7162  0.0783   0.414  0.3204\n",
      "C2  23.9589    5.382  0.5913  0.0504  0.1575\n",
      "C3  28.2168   9.3249  1.0071  0.3042  0.4392\n",
      "C4      0.0      0.0     0.0     0.0     0.0\n",
      "C5      0.0      0.0     0.0     0.0     0.0\n",
      "          1       2       3       4       5\n",
      "C1  28.9296  0.8226  1.7118  0.0342  0.0189\n",
      "C2  10.2168  0.7893  0.4203  0.0063  0.0063\n",
      "C3   14.166  1.2474  1.5651  0.0288   0.018\n",
      "C4      0.0     0.0     0.0     0.0     0.0\n",
      "C5      0.0     0.0     0.0     0.0     0.0\n",
      "         0      1       2       3      4\n",
      "C1  4.9581  0.405  0.0027  0.0045  0.018\n",
      "C2     0.0    0.0     0.0     0.0    0.0\n",
      "C3     0.0    0.0     0.0     0.0    0.0\n",
      "C4     0.0    0.0     0.0     0.0    0.0\n",
      "C5     0.0    0.0     0.0     0.0    0.0\n",
      "         1       2       3    4       5\n",
      "C1  1.7181  0.0153  0.0324  0.0  0.0009\n",
      "C2     0.0     0.0     0.0  0.0     0.0\n",
      "C3     0.0     0.0     0.0  0.0     0.0\n",
      "C4     0.0     0.0     0.0  0.0     0.0\n",
      "C5     0.0     0.0     0.0  0.0     0.0\n",
      "          0        1       2       3       4\n",
      "C1  77.5098  12.1212   0.081  0.4185  0.3384\n",
      "C2  23.9589    5.382  0.5913  0.0504  0.1575\n",
      "C3  28.2168   9.3249  1.0071  0.3042  0.4392\n",
      "C4      0.0      0.0     0.0     0.0     0.0\n",
      "C5      0.0      0.0     0.0     0.0     0.0\n",
      "          1       2       3       4       5\n",
      "C1  30.6477  0.8379  1.7442  0.0342  0.0198\n",
      "C2  10.2168  0.7893  0.4203  0.0063  0.0063\n",
      "C3   14.166  1.2474  1.5651  0.0288   0.018\n",
      "C4      0.0     0.0     0.0     0.0     0.0\n",
      "C5      0.0     0.0     0.0     0.0     0.0\n",
      "         0       1    2    3       4\n",
      "C1  2.6595  0.1629  0.0  0.0  0.0099\n",
      "C2     0.0     0.0  0.0  0.0     0.0\n",
      "C3     0.0     0.0  0.0  0.0     0.0\n",
      "C4     0.0     0.0  0.0  0.0     0.0\n",
      "C5     0.0     0.0  0.0  0.0     0.0\n",
      "         1       2       3    4       5\n",
      "C1  0.8271  0.0099  0.0144  0.0  0.0009\n",
      "C2     0.0     0.0     0.0  0.0     0.0\n",
      "C3     0.0     0.0     0.0  0.0     0.0\n",
      "C4     0.0     0.0     0.0  0.0     0.0\n",
      "C5     0.0     0.0     0.0  0.0     0.0\n",
      "          0        1       2       3       4\n",
      "C1  80.1693  12.2841   0.081  0.4185  0.3483\n",
      "C2  23.9589    5.382  0.5913  0.0504  0.1575\n",
      "C3  28.2168   9.3249  1.0071  0.3042  0.4392\n",
      "C4      0.0      0.0     0.0     0.0     0.0\n",
      "C5      0.0      0.0     0.0     0.0     0.0\n",
      "          1       2       3       4       5\n",
      "C1  31.4748  0.8478  1.7586  0.0342  0.0207\n",
      "C2  10.2168  0.7893  0.4203  0.0063  0.0063\n",
      "C3   14.166  1.2474  1.5651  0.0288   0.018\n",
      "C4      0.0     0.0     0.0     0.0     0.0\n",
      "C5      0.0     0.0     0.0     0.0     0.0\n"
     ]
    }
   ],
   "source": [
    "# set up empty variables\n",
    "wind_cat_full = None\n",
    "all_wind_cat_full = None\n",
    "\n",
    "for key, value in cyclone_extent.items():\n",
    "    # get polygon extent of cyclone\n",
    "    loading_polygon = value.intersection(geobox.to_crs(value.crs))\n",
    "    # get bounding box of polygon with 30m res\n",
    "    loading_box = geometry.GeoBox.from_geopolygon(loading_polygon, resolution=(30, -30))\n",
    "    # run the function damage_level_by_geo\n",
    "    wind_cat, all_wind_cat = damage_level_by_geo('./', cyclone_name, \n",
    "                                             cyclone_ds, bc_datasets, ac_datasets, \n",
    "                                             loading_box, dump=True)\n",
    "\n",
    "    if wind_cat_full is None:\n",
    "        wind_cat_full = wind_cat\n",
    "        all_wind_cat_full = all_wind_cat\n",
    "    else:\n",
    "        wind_cat_full += wind_cat\n",
    "        all_wind_cat_full += all_wind_cat\n",
    "    print(wind_cat_full)\n",
    "    print(all_wind_cat_full)"
   ]
  },
  {
   "cell_type": "code",
   "execution_count": 10,
   "id": "f9c95125-cf34-4e54-afef-6b529caf0ca2",
   "metadata": {},
   "outputs": [],
   "source": [
    "with open('./Pickle_damage_results_collection3/'+cyclone_name+'_tally.pkl', 'wb') as f:\n",
    "    pickle.dump((wind_cat_full, all_wind_cat_full), f)"
   ]
  },
  {
   "cell_type": "code",
   "execution_count": 11,
   "id": "64cd859a-f39a-4b29-b7df-4a8706be2866",
   "metadata": {},
   "outputs": [],
   "source": [
    "with open('./Pickle_damage_results_collection3/'+cyclone_name+'_tally.pkl', 'rb') as f:\n",
    "    wind_cat_full, all_wind_cat_full = pickle.load(f)"
   ]
  },
  {
   "cell_type": "code",
   "execution_count": 12,
   "id": "8787343b-37d0-487f-9af8-b59519f1993a",
   "metadata": {},
   "outputs": [],
   "source": [
    "with open('./Pickle_damage_results_old/'+cyclone_name+'_tally.pkl', 'rb') as f:\n",
    "    wind_cat_full_olddata, all_wind_cat_full_olddata = pickle.load(f)"
   ]
  },
  {
   "cell_type": "code",
   "execution_count": 13,
   "id": "e9c1b365-3278-4694-ac05-cc7844393433",
   "metadata": {},
   "outputs": [
    {
     "data": {
      "text/html": [
       "<div>\n",
       "<style scoped>\n",
       "    .dataframe tbody tr th:only-of-type {\n",
       "        vertical-align: middle;\n",
       "    }\n",
       "\n",
       "    .dataframe tbody tr th {\n",
       "        vertical-align: top;\n",
       "    }\n",
       "\n",
       "    .dataframe thead th {\n",
       "        text-align: right;\n",
       "    }\n",
       "</style>\n",
       "<table border=\"1\" class=\"dataframe\">\n",
       "  <thead>\n",
       "    <tr style=\"text-align: right;\">\n",
       "      <th></th>\n",
       "      <th>0</th>\n",
       "      <th>1</th>\n",
       "      <th>2</th>\n",
       "      <th>3</th>\n",
       "      <th>4</th>\n",
       "    </tr>\n",
       "  </thead>\n",
       "  <tbody>\n",
       "    <tr>\n",
       "      <th>C1</th>\n",
       "      <td>80.1693</td>\n",
       "      <td>12.2841</td>\n",
       "      <td>0.081</td>\n",
       "      <td>0.4185</td>\n",
       "      <td>0.3483</td>\n",
       "    </tr>\n",
       "    <tr>\n",
       "      <th>C2</th>\n",
       "      <td>23.9589</td>\n",
       "      <td>5.382</td>\n",
       "      <td>0.5913</td>\n",
       "      <td>0.0504</td>\n",
       "      <td>0.1575</td>\n",
       "    </tr>\n",
       "    <tr>\n",
       "      <th>C3</th>\n",
       "      <td>28.2168</td>\n",
       "      <td>9.3249</td>\n",
       "      <td>1.0071</td>\n",
       "      <td>0.3042</td>\n",
       "      <td>0.4392</td>\n",
       "    </tr>\n",
       "    <tr>\n",
       "      <th>C4</th>\n",
       "      <td>0.0</td>\n",
       "      <td>0.0</td>\n",
       "      <td>0.0</td>\n",
       "      <td>0.0</td>\n",
       "      <td>0.0</td>\n",
       "    </tr>\n",
       "    <tr>\n",
       "      <th>C5</th>\n",
       "      <td>0.0</td>\n",
       "      <td>0.0</td>\n",
       "      <td>0.0</td>\n",
       "      <td>0.0</td>\n",
       "      <td>0.0</td>\n",
       "    </tr>\n",
       "  </tbody>\n",
       "</table>\n",
       "</div>"
      ],
      "text/plain": [
       "          0        1       2       3       4\n",
       "C1  80.1693  12.2841   0.081  0.4185  0.3483\n",
       "C2  23.9589    5.382  0.5913  0.0504  0.1575\n",
       "C3  28.2168   9.3249  1.0071  0.3042  0.4392\n",
       "C4      0.0      0.0     0.0     0.0     0.0\n",
       "C5      0.0      0.0     0.0     0.0     0.0"
      ]
     },
     "execution_count": 13,
     "metadata": {},
     "output_type": "execute_result"
    }
   ],
   "source": [
    "# C1 - C5: category of cyclone windspeeed\n",
    "# 0 = no change (km2)\n",
    "# 1 = minor reduction\n",
    "# 2 = major reduction\n",
    "# 3 = loss of woodland\n",
    "# 4 = loss of forest\n",
    "wind_cat_full"
   ]
  },
  {
   "cell_type": "code",
   "execution_count": 14,
   "id": "98f758a5-56ee-4047-81b0-ffe67c99c71a",
   "metadata": {},
   "outputs": [
    {
     "data": {
      "text/html": [
       "<div>\n",
       "<style scoped>\n",
       "    .dataframe tbody tr th:only-of-type {\n",
       "        vertical-align: middle;\n",
       "    }\n",
       "\n",
       "    .dataframe tbody tr th {\n",
       "        vertical-align: top;\n",
       "    }\n",
       "\n",
       "    .dataframe thead th {\n",
       "        text-align: right;\n",
       "    }\n",
       "</style>\n",
       "<table border=\"1\" class=\"dataframe\">\n",
       "  <thead>\n",
       "    <tr style=\"text-align: right;\">\n",
       "      <th></th>\n",
       "      <th>0</th>\n",
       "      <th>1</th>\n",
       "      <th>2</th>\n",
       "      <th>3</th>\n",
       "      <th>4</th>\n",
       "    </tr>\n",
       "  </thead>\n",
       "  <tbody>\n",
       "    <tr>\n",
       "      <th>C1</th>\n",
       "      <td>88.403125</td>\n",
       "      <td>14.86</td>\n",
       "      <td>0.100625</td>\n",
       "      <td>0.42125</td>\n",
       "      <td>0.329375</td>\n",
       "    </tr>\n",
       "    <tr>\n",
       "      <th>C2</th>\n",
       "      <td>22.66375</td>\n",
       "      <td>6.75875</td>\n",
       "      <td>0.53375</td>\n",
       "      <td>0.0625</td>\n",
       "      <td>0.254375</td>\n",
       "    </tr>\n",
       "    <tr>\n",
       "      <th>C3</th>\n",
       "      <td>27.99375</td>\n",
       "      <td>7.91</td>\n",
       "      <td>0.731875</td>\n",
       "      <td>0.523125</td>\n",
       "      <td>0.69875</td>\n",
       "    </tr>\n",
       "    <tr>\n",
       "      <th>C4</th>\n",
       "      <td>0.0</td>\n",
       "      <td>0.0</td>\n",
       "      <td>0.0</td>\n",
       "      <td>0.0</td>\n",
       "      <td>0.0</td>\n",
       "    </tr>\n",
       "    <tr>\n",
       "      <th>C5</th>\n",
       "      <td>0.0</td>\n",
       "      <td>0.0</td>\n",
       "      <td>0.0</td>\n",
       "      <td>0.0</td>\n",
       "      <td>0.0</td>\n",
       "    </tr>\n",
       "  </tbody>\n",
       "</table>\n",
       "</div>"
      ],
      "text/plain": [
       "            0        1         2         3         4\n",
       "C1  88.403125    14.86  0.100625   0.42125  0.329375\n",
       "C2   22.66375  6.75875   0.53375    0.0625  0.254375\n",
       "C3   27.99375     7.91  0.731875  0.523125   0.69875\n",
       "C4        0.0      0.0       0.0       0.0       0.0\n",
       "C5        0.0      0.0       0.0       0.0       0.0"
      ]
     },
     "execution_count": 14,
     "metadata": {},
     "output_type": "execute_result"
    }
   ],
   "source": [
    "wind_cat_full_olddata"
   ]
  },
  {
   "cell_type": "code",
   "execution_count": 15,
   "id": "e54a7e86-88e2-4c9d-acb5-b78fcd80d8e0",
   "metadata": {},
   "outputs": [
    {
     "data": {
      "text/html": [
       "<div>\n",
       "<style scoped>\n",
       "    .dataframe tbody tr th:only-of-type {\n",
       "        vertical-align: middle;\n",
       "    }\n",
       "\n",
       "    .dataframe tbody tr th {\n",
       "        vertical-align: top;\n",
       "    }\n",
       "\n",
       "    .dataframe thead th {\n",
       "        text-align: right;\n",
       "    }\n",
       "</style>\n",
       "<table border=\"1\" class=\"dataframe\">\n",
       "  <thead>\n",
       "    <tr style=\"text-align: right;\">\n",
       "      <th></th>\n",
       "      <th>1</th>\n",
       "      <th>2</th>\n",
       "      <th>3</th>\n",
       "      <th>4</th>\n",
       "      <th>5</th>\n",
       "    </tr>\n",
       "  </thead>\n",
       "  <tbody>\n",
       "    <tr>\n",
       "      <th>C1</th>\n",
       "      <td>31.4748</td>\n",
       "      <td>0.8478</td>\n",
       "      <td>1.7586</td>\n",
       "      <td>0.0342</td>\n",
       "      <td>0.0207</td>\n",
       "    </tr>\n",
       "    <tr>\n",
       "      <th>C2</th>\n",
       "      <td>10.2168</td>\n",
       "      <td>0.7893</td>\n",
       "      <td>0.4203</td>\n",
       "      <td>0.0063</td>\n",
       "      <td>0.0063</td>\n",
       "    </tr>\n",
       "    <tr>\n",
       "      <th>C3</th>\n",
       "      <td>14.166</td>\n",
       "      <td>1.2474</td>\n",
       "      <td>1.5651</td>\n",
       "      <td>0.0288</td>\n",
       "      <td>0.018</td>\n",
       "    </tr>\n",
       "    <tr>\n",
       "      <th>C4</th>\n",
       "      <td>0.0</td>\n",
       "      <td>0.0</td>\n",
       "      <td>0.0</td>\n",
       "      <td>0.0</td>\n",
       "      <td>0.0</td>\n",
       "    </tr>\n",
       "    <tr>\n",
       "      <th>C5</th>\n",
       "      <td>0.0</td>\n",
       "      <td>0.0</td>\n",
       "      <td>0.0</td>\n",
       "      <td>0.0</td>\n",
       "      <td>0.0</td>\n",
       "    </tr>\n",
       "  </tbody>\n",
       "</table>\n",
       "</div>"
      ],
      "text/plain": [
       "          1       2       3       4       5\n",
       "C1  31.4748  0.8478  1.7586  0.0342  0.0207\n",
       "C2  10.2168  0.7893  0.4203  0.0063  0.0063\n",
       "C3   14.166  1.2474  1.5651  0.0288   0.018\n",
       "C4      0.0     0.0     0.0     0.0     0.0\n",
       "C5      0.0     0.0     0.0     0.0     0.0"
      ]
     },
     "execution_count": 15,
     "metadata": {},
     "output_type": "execute_result"
    }
   ],
   "source": [
    "# C1 - C5: category of cyclone windspeeed\n",
    "# 0 = no change (km2)\n",
    "# 1 = temporary reduction\n",
    "# 2 = persistent reduction\n",
    "# 3 = temporary loss\n",
    "# 4 = persistent loss\n",
    "# 5 = total loss\n",
    "all_wind_cat_full"
   ]
  },
  {
   "cell_type": "code",
   "execution_count": 16,
   "id": "0a6e7a38-09f8-4800-a607-a8f82eec9bf8",
   "metadata": {},
   "outputs": [
    {
     "data": {
      "text/html": [
       "<div>\n",
       "<style scoped>\n",
       "    .dataframe tbody tr th:only-of-type {\n",
       "        vertical-align: middle;\n",
       "    }\n",
       "\n",
       "    .dataframe tbody tr th {\n",
       "        vertical-align: top;\n",
       "    }\n",
       "\n",
       "    .dataframe thead th {\n",
       "        text-align: right;\n",
       "    }\n",
       "</style>\n",
       "<table border=\"1\" class=\"dataframe\">\n",
       "  <thead>\n",
       "    <tr style=\"text-align: right;\">\n",
       "      <th></th>\n",
       "      <th>1</th>\n",
       "      <th>2</th>\n",
       "      <th>3</th>\n",
       "      <th>4</th>\n",
       "      <th>5</th>\n",
       "    </tr>\n",
       "  </thead>\n",
       "  <tbody>\n",
       "    <tr>\n",
       "      <th>C1</th>\n",
       "      <td>18.80125</td>\n",
       "      <td>3.09</td>\n",
       "      <td>1.62625</td>\n",
       "      <td>0.11375</td>\n",
       "      <td>0.0625</td>\n",
       "    </tr>\n",
       "    <tr>\n",
       "      <th>C2</th>\n",
       "      <td>7.903125</td>\n",
       "      <td>1.76625</td>\n",
       "      <td>0.405625</td>\n",
       "      <td>0.020625</td>\n",
       "      <td>0.105625</td>\n",
       "    </tr>\n",
       "    <tr>\n",
       "      <th>C3</th>\n",
       "      <td>7.9775</td>\n",
       "      <td>1.934375</td>\n",
       "      <td>1.53125</td>\n",
       "      <td>0.18</td>\n",
       "      <td>0.178125</td>\n",
       "    </tr>\n",
       "    <tr>\n",
       "      <th>C4</th>\n",
       "      <td>0.0</td>\n",
       "      <td>0.0</td>\n",
       "      <td>0.0</td>\n",
       "      <td>0.0</td>\n",
       "      <td>0.0</td>\n",
       "    </tr>\n",
       "    <tr>\n",
       "      <th>C5</th>\n",
       "      <td>0.0</td>\n",
       "      <td>0.0</td>\n",
       "      <td>0.0</td>\n",
       "      <td>0.0</td>\n",
       "      <td>0.0</td>\n",
       "    </tr>\n",
       "  </tbody>\n",
       "</table>\n",
       "</div>"
      ],
      "text/plain": [
       "           1         2         3         4         5\n",
       "C1  18.80125      3.09   1.62625   0.11375    0.0625\n",
       "C2  7.903125   1.76625  0.405625  0.020625  0.105625\n",
       "C3    7.9775  1.934375   1.53125      0.18  0.178125\n",
       "C4       0.0       0.0       0.0       0.0       0.0\n",
       "C5       0.0       0.0       0.0       0.0       0.0"
      ]
     },
     "execution_count": 16,
     "metadata": {},
     "output_type": "execute_result"
    }
   ],
   "source": [
    "all_wind_cat_full_olddata"
   ]
  },
  {
   "cell_type": "markdown",
   "id": "f1965412-cebe-4022-a830-a992c54f6a02",
   "metadata": {},
   "source": [
    "### plotting impact of cyclone"
   ]
  },
  {
   "cell_type": "code",
   "execution_count": 17,
   "id": "c4e55aaf-418a-41ef-b406-91a5027c3045",
   "metadata": {},
   "outputs": [
    {
     "data": {
      "text/plain": [
       "Text(0.5, 0, 'Wind speed categories')"
      ]
     },
     "execution_count": 17,
     "metadata": {},
     "output_type": "execute_result"
    },
    {
     "data": {
      "image/png": "[encoded data removed]",
      "text/plain": [
       "<Figure size 432x288 with 1 Axes>"
      ]
     },
     "metadata": {
      "needs_background": "light"
     },
     "output_type": "display_data"
    }
   ],
   "source": [
    "figure_a = wind_cat_full.astype('float').plot(kind='bar', title='Cyclone '+ cyclone_name +' immediate impact')\n",
    "figure_a.set_ylabel('Area in $km^2$')\n",
    "figure_a.set_xlabel('Wind speed categories')"
   ]
  },
  {
   "cell_type": "code",
   "execution_count": 18,
   "id": "a49f498a-1aff-480d-8b72-7ffe3ebe5454",
   "metadata": {},
   "outputs": [
    {
     "data": {
      "text/plain": [
       "Text(0.5, 0, 'Wind speed categories')"
      ]
     },
     "execution_count": 18,
     "metadata": {},
     "output_type": "execute_result"
    },
    {
     "data": {
      "image/png": "[encoded data removed]",
      "text/plain": [
       "<Figure size 432x288 with 1 Axes>"
      ]
     },
     "metadata": {
      "needs_background": "light"
     },
     "output_type": "display_data"
    }
   ],
   "source": [
    "figure_a = all_wind_cat_full.astype('float').plot(kind='bar', title='Cyclone '+ cyclone_name +' long term impact')\n",
    "figure_a.set_ylabel('Area in $km^2$')\n",
    "figure_a.set_xlabel('Wind speed categories')"
   ]
  },
  {
   "cell_type": "code",
   "execution_count": 19,
   "id": "fd416550-a9f0-4c7a-932d-33889eaf1c22",
   "metadata": {},
   "outputs": [],
   "source": [
    "nc_path = './Nathan_Landfall1/Nathan_Landfall1_124_-163_all.nc'\n",
    "# Open into an xarray.DataArray\n",
    "nc_da = rioxarray.open_rasterio(nc_path)"
   ]
  },
  {
   "cell_type": "code",
   "execution_count": null,
   "id": "e4240cf3-50c7-46b1-8f1f-4b6cb6bb8417",
   "metadata": {},
   "outputs": [
    {
     "data": {
      "text/plain": [
       "array([-1,  0,  1,  2,  3,  4,  5], dtype=int16)"
      ]
     },
     "execution_count": 22,
     "metadata": {},
     "output_type": "execute_result"
    }
   ],
   "source": [
    "np.unique(nc_da.data)"
   ]
  },
  {
   "cell_type": "code",
   "execution_count": 25,
   "id": "e9183b26-26a4-4a14-9565-51aaf437fae7",
   "metadata": {},
   "outputs": [
    {
     "data": {
      "text/plain": [
       "<matplotlib.collections.QuadMesh at 0x7faa7d3adc40>"
      ]
     },
     "execution_count": 25,
     "metadata": {},
     "output_type": "execute_result"
    },
    {
     "data": {
      "image/png": "[encoded data removed]",
      "text/plain": [
       "<Figure size 432x288 with 2 Axes>"
      ]
     },
     "metadata": {
      "needs_background": "light"
     },
     "output_type": "display_data"
    }
   ],
   "source": [
    "nc_da.plot(vmin=-1)"
   ]
  },
  {
   "cell_type": "code",
   "execution_count": 26,
   "id": "44febcf9-70ed-439f-bcd3-b04f5a28d9c3",
   "metadata": {},
   "outputs": [],
   "source": [
    "nc_path = './Nathan_Landfall1/Nathan_Landfall1_124_-163_2014-07-02_2015-07-02.nc'\n",
    "# Open into an xarray.DataArray\n",
    "nc_da = rioxarray.open_rasterio(nc_path)"
   ]
  },
  {
   "cell_type": "code",
   "execution_count": 27,
   "id": "1d24e9ee-26e7-4b91-a5c0-a8da16a0090f",
   "metadata": {},
   "outputs": [
    {
     "data": {
      "text/plain": [
       "array([-1,  0,  1,  2,  3,  4], dtype=int16)"
      ]
     },
     "execution_count": 27,
     "metadata": {},
     "output_type": "execute_result"
    }
   ],
   "source": [
    "np.unique(nc_da.data)"
   ]
  },
  {
   "cell_type": "code",
   "execution_count": 28,
   "id": "81162c16-1cb7-4829-810e-6f328aabe089",
   "metadata": {},
   "outputs": [
    {
     "data": {
      "text/plain": [
       "<matplotlib.collections.QuadMesh at 0x7faa7d2da040>"
      ]
     },
     "execution_count": 28,
     "metadata": {},
     "output_type": "execute_result"
    },
    {
     "data": {
      "image/png": "[encoded data removed]",
      "text/plain": [
       "<Figure size 432x288 with 2 Axes>"
      ]
     },
     "metadata": {
      "needs_background": "light"
     },
     "output_type": "display_data"
    }
   ],
   "source": [
    "nc_da.plot(vmin=-1)"
   ]
  },
  {
   "cell_type": "code",
   "execution_count": null,
   "id": "2a48caac-93ad-4e68-ba82-ba955c481047",
   "metadata": {},
   "outputs": [],
   "source": []
  }
 ],
 "metadata": {
  "kernelspec": {
   "display_name": "Python 3 (ipykernel)",
   "language": "python",
   "name": "python3"
  },
  "language_info": {
   "codemirror_mode": {
    "name": "ipython",
    "version": 3
   },
   "file_extension": ".py",
   "mimetype": "text/x-python",
   "name": "python",
   "nbconvert_exporter": "python",
   "pygments_lexer": "ipython3",
   "version": "3.8.10"
  }
 },
 "nbformat": 4,
 "nbformat_minor": 5
}
