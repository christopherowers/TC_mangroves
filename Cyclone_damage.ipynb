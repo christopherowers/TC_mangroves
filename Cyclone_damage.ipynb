{
 "cells": [
  {
   "cell_type": "markdown",
   "id": "e3516e28-2e64-4ff3-8ca7-186e193065c9",
   "metadata": {},
   "source": [
    "## Classifying mangrove damage and recover due to tropical cyclones\n",
    "- based on Emmas_code_TC_mangroves.py\n",
    "- need to use geotiffs (30m EPSG 3577) in google drive for the windfield data input"
   ]
  },
  {
   "cell_type": "code",
   "execution_count": 1,
   "id": "7395331d-22a7-47ac-9de2-93c381144448",
   "metadata": {},
   "outputs": [],
   "source": [
    "# need to change so it reprojects in the nb not externally\n",
    "# https://docs.dea.ga.gov.au/notebooks/Frequently_used_code/Reprojecting_data.html\n",
    "\n",
    "# commandline used at the moment for reprojecting\n",
    "# gdalwarp -t_srs EPSG:3577 -tr 30.0 30.0 -r near -of GTiff Yasi.tif Yasi_30m_EPSG3577.tif"
   ]
  },
  {
   "cell_type": "code",
   "execution_count": 2,
   "id": "b7d235e1-6fc2-48eb-b8df-47ec8710ae63",
   "metadata": {},
   "outputs": [],
   "source": [
    "import datacube\n",
    "from datacube.model import Measurement\n",
    "import numpy as np\n",
    "import xarray as xr\n",
    "from os import path\n",
    "from datacube.drivers.netcdf import write_dataset_to_netcdf\n",
    "from datacube.utils.geometry import CRS\n",
    "import pandas as pd\n",
    "import os\n",
    "from  datacube import Datacube\n",
    "from datacube.utils import geometry\n",
    "import pickle\n",
    "import sys\n",
    "import rioxarray\n",
    "dc = datacube.Datacube(app=\"cyclone mangroves\")\n",
    "\n",
    "from datacube.testutils.io import rio_slurp_xarray\n",
    "\n",
    "from Cyclone_damage_funcs import *"
   ]
  },
  {
   "cell_type": "markdown",
   "id": "118b20ed-633e-435b-ba76-2fa877413046",
   "metadata": {},
   "source": [
    "### fill in data (doing one cyclone at a time for the moment)"
   ]
  },
  {
   "cell_type": "code",
   "execution_count": 3,
   "id": "a82b8838-1bcc-435e-8c0e-8ce2f6fbae24",
   "metadata": {},
   "outputs": [],
   "source": [
    "# cyclone_name = 'Yasi'\n",
    "# cyclone_time = 2011\n",
    "\n",
    "# cyclone_name = 'Larry'\n",
    "# cyclone_time = 2006\n",
    "\n",
    "# cyclone_name = 'Ita'\n",
    "# cyclone_time = 2014\n",
    "\n",
    "# cyclone_name = 'Marcia'\n",
    "# cyclone_time = 2015\n",
    "\n",
    "# cyclone_name = 'Lam'\n",
    "# cyclone_time = 2015\n",
    "\n",
    "# cyclone_name = 'George'\n",
    "# cyclone_time = 2007\n",
    "\n",
    "# cyclone_name = 'Ingrid_Landfall1'\n",
    "# cyclone_time = 2005\n",
    "\n",
    "# cyclone_name = 'Ingrid_Landfall2'\n",
    "# cyclone_time = 2005\n",
    "\n",
    "# cyclone_name = 'Ingrid_Landfall3'\n",
    "# cyclone_time = 2005\n",
    "\n",
    "# cyclone_name = 'Monica_Landfall1'\n",
    "# cyclone_time = 2006\n",
    "\n",
    "# cyclone_name = 'Monica_Landfall2'\n",
    "# cyclone_time = 2006\n",
    "\n",
    "# cyclone_name = 'Nathan_Landfall1'\n",
    "# cyclone_time = 2015\n",
    "\n",
    "# cyclone_name = 'Nathan_Landfall2'\n",
    "# cyclone_time = 2015\n",
    "\n",
    "cyclone_name = 'Laurence'\n",
    "cyclone_time = 2009"
   ]
  },
  {
   "cell_type": "markdown",
   "id": "518b65c5-fd58-43ec-925c-8f32c7eb1ee1",
   "metadata": {},
   "source": [
    "### load in geotiff"
   ]
  },
  {
   "cell_type": "code",
   "execution_count": 4,
   "id": "b39bca60-5c53-480a-a1e1-1282f4de7d54",
   "metadata": {},
   "outputs": [],
   "source": [
    "geotiff_path = './FINALlocalWind/'+cyclone_name+'_30m_EPSG3577.tif'\n",
    "# Open into an xarray.DataArray\n",
    "geotiff_da = rioxarray.open_rasterio(geotiff_path)\n",
    "# change -9999 to 0 #### not sure this needs to be done, -9999 should be considered 'not cyclone'?\n",
    "geotiff_da = xr.where(geotiff_da == -9999, 0, geotiff_da.values)\n",
    "# Covert our xarray.DataArray into a xarray.Dataset\n",
    "geotiff_ds = geotiff_da.to_dataset('band')\n",
    "# Rename the variable to a more useful name\n",
    "dataset = geotiff_ds.rename({1: 'wind_speed'})"
   ]
  },
  {
   "cell_type": "markdown",
   "id": "374cec27-baf4-4080-b086-0a3159f1c90b",
   "metadata": {},
   "source": [
    "### rework to get geotiff as identical dc.load for mangroves"
   ]
  },
  {
   "cell_type": "code",
   "execution_count": 5,
   "id": "faf1f20e-6963-4655-bf7f-c48fa06041b9",
   "metadata": {},
   "outputs": [],
   "source": [
    "# get extent of cyclone dataset\n",
    "geobox = dataset.extent\n",
    "# get the cyclone start time\n",
    "start_time = cyclone_time\n",
    "\n",
    "# get time of cyclone\n",
    "time_of_cyclone = (str(start_time) + '-01-01', str(start_time) + '-12-31')\n",
    "\n",
    "# find datasets for mangrove canopy cover at cyclone time\n",
    "time_of_cyclone_datasets = dc.find_datasets(product = 'ga_ls_mangrove_cover_cyear_3',time=time_of_cyclone, geopolygon=geobox)\n",
    "\n",
    "# at time of cyclone mangrove canopy cover datasets, group by time\n",
    "time_of_cyclone_datasets = dc.group_datasets(time_of_cyclone_datasets, group_by='time')\n",
    "\n",
    "# get geometry box from geotiff\n",
    "full_box = geometry.GeoBox.from_geopolygon(geobox, resolution=(30, -30))\n",
    "\n",
    "# measurements for mangrove canopy cover\n",
    "measurement = [Measurement(name='canopy_cover_class', dtype='int16', nodata=-1, units='1')]\n",
    "\n",
    "# load mangrove canopy cover at time of cyclone\n",
    "time_of_cyclone_data = dc.load_data(time_of_cyclone_datasets, geobox = full_box, measurements=measurement)\n",
    "\n",
    "# load in geotiff again but with identical extent from dc.load mangroves\n",
    "cyclone_da = rio_slurp_xarray(geotiff_path, gbox=time_of_cyclone_data.geobox)\n",
    "# change -9999 to 0 #### not sure this needs to be done, -9999 should be considered 'not cyclone'?\n",
    "# cyclone_da = xr.where(cyclone_da == -9999, 0, cyclone_da.values)\n",
    "# add time dimension\n",
    "cyclone_da_time = cyclone_da.expand_dims(dim={\"time\": time_of_cyclone_data.time})\n",
    "# Covert our xarray.DataArray into a xarray.Dataset\n",
    "cyclone_ds = cyclone_da_time.to_dataset(name=\"wind_speed\")\n",
    "\n",
    "# copy over attributes\n",
    "cyclone_ds.attrs['grid_mapping'] = time_of_cyclone_data.attrs['grid_mapping']\n",
    "cyclone_ds.attrs['crs'] = time_of_cyclone_data.attrs['crs']\n"
   ]
  },
  {
   "cell_type": "markdown",
   "id": "62879e84-da09-4c88-834e-3709cc1cbcc9",
   "metadata": {},
   "source": [
    "### load mangrove data before and after cyclone (on extent of geotiff)"
   ]
  },
  {
   "cell_type": "code",
   "execution_count": 6,
   "id": "1331127c-028f-4a1a-b09d-77041f94aba5",
   "metadata": {},
   "outputs": [],
   "source": [
    "# get time query before cyclone\n",
    "time_before_cyclone = (str(start_time - 1) + '-01-01', str(start_time - 1) + '-12-31')\n",
    "# get time query after cyclone\n",
    "time_after_cyclone = (str(start_time) + '-01-01', '2021-12-31')\n",
    "\n",
    "# find all datasets for mangrove canopy cover before cyclone\n",
    "bc_datasets = dc.find_datasets(product = 'ga_ls_mangrove_cover_cyear_3',time=time_before_cyclone, geopolygon=geobox)"
   ]
  },
  {
   "cell_type": "code",
   "execution_count": 7,
   "id": "1b5a2246-77ae-4447-aaa7-c558aafb9ff1",
   "metadata": {},
   "outputs": [],
   "source": [
    "# loop through extents for the different categories\n",
    "cyclone_extent = {}\n",
    "k = 0\n",
    "for d in bc_datasets:\n",
    "    cyclone_extent[k] = d.extent\n",
    "    k += 1"
   ]
  },
  {
   "cell_type": "code",
   "execution_count": 8,
   "id": "75ae41bf-9f85-4f4a-9a44-f4f1fb4ee726",
   "metadata": {},
   "outputs": [],
   "source": [
    "# before cyclone mangrove canopy cover datasets, group by time\n",
    "bc_datasets = dc.group_datasets(bc_datasets, group_by='time')\n",
    "# find all datasets for mangrove canopy cover after cyclone\n",
    "ac_datasets = dc.find_datasets(product = 'ga_ls_mangrove_cover_cyear_3',time=time_after_cyclone, geopolygon=geobox)\n",
    "# after cyclone mangrove canopy cover datasets, group by time\n",
    "ac_datasets = dc.group_datasets(ac_datasets, group_by='time')"
   ]
  },
  {
   "cell_type": "code",
   "execution_count": null,
   "id": "6742d887-00d1-4b03-80fa-6e55a9be8895",
   "metadata": {},
   "outputs": [
    {
     "name": "stdout",
     "output_type": "stream",
     "text": [
      "          0       1    2       3       4\n",
      "C1  25.0893  0.4392  0.0  0.0117  0.0009\n",
      "C2   3.0105  0.0216  0.0  0.0126  0.0009\n",
      "C3      0.0     0.0  0.0     0.0     0.0\n",
      "C4      0.0     0.0  0.0     0.0     0.0\n",
      "C5      0.0     0.0  0.0     0.0     0.0\n"
     ]
    }
   ],
   "source": [
    "# set up empty variables\n",
    "wind_cat_full = None\n",
    "all_wind_cat_full = None\n",
    "\n",
    "for key, value in cyclone_extent.items():\n",
    "    # get polygon extent of cyclone\n",
    "    loading_polygon = value.intersection(geobox.to_crs(value.crs))\n",
    "    # get bounding box of polygon with 30m res\n",
    "    loading_box = geometry.GeoBox.from_geopolygon(loading_polygon, resolution=(30, -30))\n",
    "    # run the function damage_level_by_geo\n",
    "    wind_cat, all_wind_cat = damage_level_by_geo('./', cyclone_name, \n",
    "                                             cyclone_ds, bc_datasets, ac_datasets, \n",
    "                                             loading_box, dump=True)\n",
    "\n",
    "    if wind_cat_full is None:\n",
    "        wind_cat_full = wind_cat\n",
    "        all_wind_cat_full = all_wind_cat\n",
    "    else:\n",
    "        wind_cat_full += wind_cat\n",
    "        all_wind_cat_full += all_wind_cat\n",
    "    print(wind_cat_full)\n",
    "    print(all_wind_cat_full)"
   ]
  },
  {
   "cell_type": "code",
   "execution_count": null,
   "id": "f9c95125-cf34-4e54-afef-6b529caf0ca2",
   "metadata": {},
   "outputs": [],
   "source": [
    "with open('./Pickle_damage_results_collection3/'+cyclone_name+'_tally.pkl', 'wb') as f:\n",
    "    pickle.dump((wind_cat_full, all_wind_cat_full), f)"
   ]
  },
  {
   "cell_type": "code",
   "execution_count": null,
   "id": "64cd859a-f39a-4b29-b7df-4a8706be2866",
   "metadata": {},
   "outputs": [],
   "source": [
    "with open('./Pickle_damage_results_collection3/'+cyclone_name+'_tally.pkl', 'rb') as f:\n",
    "    wind_cat_full, all_wind_cat_full = pickle.load(f)"
   ]
  },
  {
   "cell_type": "code",
   "execution_count": null,
   "id": "8787343b-37d0-487f-9af8-b59519f1993a",
   "metadata": {},
   "outputs": [],
   "source": [
    "# with open('./Pickle_damage_results_old/'+cyclone_name+'_tally.pkl', 'rb') as f:\n",
    "#     wind_cat_full_olddata, all_wind_cat_full_olddata = pickle.load(f)"
   ]
  },
  {
   "cell_type": "code",
   "execution_count": null,
   "id": "e9c1b365-3278-4694-ac05-cc7844393433",
   "metadata": {},
   "outputs": [],
   "source": [
    "# C1 - C5: category of cyclone windspeeed\n",
    "# 0 = no change (km2)\n",
    "# 1 = minor reduction\n",
    "# 2 = major reduction\n",
    "# 3 = loss of woodland\n",
    "# 4 = loss of forest\n",
    "wind_cat_full"
   ]
  },
  {
   "cell_type": "code",
   "execution_count": null,
   "id": "98f758a5-56ee-4047-81b0-ffe67c99c71a",
   "metadata": {},
   "outputs": [],
   "source": [
    "# wind_cat_full_olddata"
   ]
  },
  {
   "cell_type": "code",
   "execution_count": null,
   "id": "e54a7e86-88e2-4c9d-acb5-b78fcd80d8e0",
   "metadata": {},
   "outputs": [],
   "source": [
    "# C1 - C5: category of cyclone windspeeed\n",
    "# 0 = no change (km2)\n",
    "# 1 = temporary reduction\n",
    "# 2 = persistent reduction\n",
    "# 3 = temporary loss\n",
    "# 4 = persistent loss\n",
    "# 5 = total loss\n",
    "all_wind_cat_full"
   ]
  },
  {
   "cell_type": "code",
   "execution_count": null,
   "id": "0a6e7a38-09f8-4800-a607-a8f82eec9bf8",
   "metadata": {},
   "outputs": [],
   "source": [
    "# all_wind_cat_full_olddata"
   ]
  },
  {
   "cell_type": "markdown",
   "id": "f1965412-cebe-4022-a830-a992c54f6a02",
   "metadata": {},
   "source": [
    "### plotting impact of cyclone"
   ]
  },
  {
   "cell_type": "code",
   "execution_count": null,
   "id": "c4e55aaf-418a-41ef-b406-91a5027c3045",
   "metadata": {},
   "outputs": [],
   "source": [
    "figure_a = wind_cat_full.astype('float').plot(kind='bar', title='Cyclone '+ cyclone_name +' immediate impact')\n",
    "figure_a.set_ylabel('Area in $km^2$')\n",
    "figure_a.set_xlabel('Wind speed categories')"
   ]
  },
  {
   "cell_type": "code",
   "execution_count": null,
   "id": "a49f498a-1aff-480d-8b72-7ffe3ebe5454",
   "metadata": {},
   "outputs": [],
   "source": [
    "figure_a = all_wind_cat_full.astype('float').plot(kind='bar', title='Cyclone '+ cyclone_name +' long term impact')\n",
    "figure_a.set_ylabel('Area in $km^2$')\n",
    "figure_a.set_xlabel('Wind speed categories')"
   ]
  },
  {
   "cell_type": "code",
   "execution_count": null,
   "id": "2a48caac-93ad-4e68-ba82-ba955c481047",
   "metadata": {},
   "outputs": [],
   "source": []
  }
 ],
 "metadata": {
  "kernelspec": {
   "display_name": "Python 3 (ipykernel)",
   "language": "python",
   "name": "python3"
  },
  "language_info": {
   "codemirror_mode": {
    "name": "ipython",
    "version": 3
   },
   "file_extension": ".py",
   "mimetype": "text/x-python",
   "name": "python",
   "nbconvert_exporter": "python",
   "pygments_lexer": "ipython3",
   "version": "3.8.10"
  }
 },
 "nbformat": 4,
 "nbformat_minor": 5
}
