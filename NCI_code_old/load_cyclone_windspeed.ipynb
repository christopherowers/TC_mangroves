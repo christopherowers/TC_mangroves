{
 "cells": [
  {
   "cell_type": "code",
   "execution_count": 1,
   "metadata": {},
   "outputs": [
    {
     "ename": "ModuleNotFoundError",
     "evalue": "No module named 'mangrove_change_on_cyclone_with_tally'",
     "output_type": "error",
     "traceback": [
      "\u001b[0;31m---------------------------------------------------------------------------\u001b[0m",
      "\u001b[0;31mModuleNotFoundError\u001b[0m                       Traceback (most recent call last)",
      "\u001b[0;32m/tmp/ipykernel_192/2625185540.py\u001b[0m in \u001b[0;36m<module>\u001b[0;34m\u001b[0m\n\u001b[1;32m      1\u001b[0m \u001b[0;32mfrom\u001b[0m \u001b[0mdatacube\u001b[0m \u001b[0;32mimport\u001b[0m \u001b[0mDatacube\u001b[0m\u001b[0;34m\u001b[0m\u001b[0;34m\u001b[0m\u001b[0m\n\u001b[1;32m      2\u001b[0m \u001b[0;32mfrom\u001b[0m \u001b[0mdatacube\u001b[0m\u001b[0;34m.\u001b[0m\u001b[0mutils\u001b[0m \u001b[0;32mimport\u001b[0m \u001b[0mgeometry\u001b[0m\u001b[0;34m\u001b[0m\u001b[0;34m\u001b[0m\u001b[0m\n\u001b[0;32m----> 3\u001b[0;31m \u001b[0;32mfrom\u001b[0m \u001b[0mmangrove_change_on_cyclone_with_tally\u001b[0m \u001b[0;32mimport\u001b[0m \u001b[0;34m*\u001b[0m\u001b[0;34m\u001b[0m\u001b[0;34m\u001b[0m\u001b[0m\n\u001b[0m\u001b[1;32m      4\u001b[0m \u001b[0;32mimport\u001b[0m \u001b[0mpickle\u001b[0m\u001b[0;34m\u001b[0m\u001b[0;34m\u001b[0m\u001b[0m\n\u001b[1;32m      5\u001b[0m \u001b[0mdc\u001b[0m \u001b[0;34m=\u001b[0m \u001b[0mDatacube\u001b[0m\u001b[0;34m(\u001b[0m\u001b[0menv\u001b[0m\u001b[0;34m=\u001b[0m\u001b[0;34m'NCI-test'\u001b[0m\u001b[0;34m)\u001b[0m\u001b[0;34m\u001b[0m\u001b[0;34m\u001b[0m\u001b[0m\n",
      "\u001b[0;31mModuleNotFoundError\u001b[0m: No module named 'mangrove_change_on_cyclone_with_tally'"
     ]
    }
   ],
   "source": [
    "from datacube import Datacube\n",
    "from datacube.utils import geometry\n",
    "from mangrove_change_on_cyclone_with_tally import *\n",
    "import pickle\n",
    "dc = Datacube(env='NCI-test')\n",
    "product = 'cyclone_windspeed'\n",
    "query = {'output_crs': 'EPSG:3577', 'resolution':(25,-25), 'resampling': 'nearest'}\n",
    "cyclone_name = {\n",
    "    'Ingrid_Landfall2':'IngridLF2',\n",
    "    'Laurence':'Laurence',\n",
    "    'Lam':'Lam',\n",
    "    'Ita':  'Ita',\n",
    "    'Monica_Landfall1':'MonicaLF1',\n",
    "    'Nathan_Landfall2':'NathanLF2',\n",
    "    'Marcia': 'Marcia',\n",
    "    'Nathan_Landfall1':'NathanLF1',\n",
    "    'Ingrid_Landfall1': 'IngridLF1',\n",
    "    'George':'George',\n",
    "    'Larry':'Larry',\n",
    "    'Yas':'Yasi',\n",
    "    'Ingrid_Landfall3':'IngridLF3',\n",
    "    'Monica_Landfall2':'MonicaLF2'\n",
    "}\n",
    "\n",
    "datasets = dc.find_datasets(product=product)\n",
    "print(len(datasets))\n",
    "datasets"
   ]
  },
  {
   "cell_type": "code",
   "execution_count": 2,
   "metadata": {},
   "outputs": [
    {
     "data": {
      "text/plain": [
       "'Yasi'"
      ]
     },
     "execution_count": 2,
     "metadata": {},
     "output_type": "execute_result"
    }
   ],
   "source": [
    "dataset = datasets[13]\n",
    "cname = cyclone_name[dataset.local_path.name.strip('.yaml')]\n",
    "cname"
   ]
  },
  {
   "cell_type": "code",
   "execution_count": 3,
   "metadata": {},
   "outputs": [
    {
     "data": {
      "text/plain": [
       "Geometry(POLYGON ((146.895972222758 -17.069305555477,145.296805556065 -17.069305555477,145.296805556065 -19.6584722221854,146.895972222758 -19.6584722221854,146.895972222758 -17.069305555477)), GEOGCS[\"WGS 84\",DATUM[\"WGS_1984\",SPHEROID[\"WGS 84\",6378137,298.257223563,AUTHORITY[\"EPSG\",\"7030\"]],AUTHORITY[\"EPSG\",\"6326\"]],PRIMEM[\"Greenwich\",0,AUTHORITY[\"EPSG\",\"8901\"]],UNIT[\"degree\",0.0174532925199433,AUTHORITY[\"EPSG\",\"9122\"]],AUTHORITY[\"EPSG\",\"4326\"]])"
      ]
     },
     "execution_count": 3,
     "metadata": {},
     "output_type": "execute_result"
    }
   ],
   "source": [
    "geobox = dataset.extent\n",
    "geobox"
   ]
  },
  {
   "cell_type": "code",
   "execution_count": 4,
   "metadata": {},
   "outputs": [
    {
     "data": {
      "text/plain": [
       "('2010-01-01', '2010-12-31')"
      ]
     },
     "execution_count": 4,
     "metadata": {},
     "output_type": "execute_result"
    }
   ],
   "source": [
    "start_time = dataset.center_time\n",
    "time_before_cyclone = (str(start_time.year - 1) + '-01-01', str(start_time.year - 1) + '-12-31')\n",
    "time_before_cyclone"
   ]
  },
  {
   "cell_type": "code",
   "execution_count": 5,
   "metadata": {},
   "outputs": [
    {
     "data": {
      "text/plain": [
       "('2011-01-01', '2019-12-31')"
      ]
     },
     "execution_count": 5,
     "metadata": {},
     "output_type": "execute_result"
    }
   ],
   "source": [
    "time_after_cyclone = (str(start_time.year) + '-01-01', '2019-12-31')\n",
    "time_after_cyclone"
   ]
  },
  {
   "cell_type": "code",
   "execution_count": 6,
   "metadata": {},
   "outputs": [
    {
     "data": {
      "text/plain": [
       "[Dataset <id=fac71e69-b4cf-4321-a7ce-5cd3467bdf9c type=mangrove_extent_cover_albers location=file:///g/data/v10/users/ea6141/mangrove_v2_notsure/MANGROVE_COVER/14_-22/MANGROVE_COVER_3577_14_-22_20100101.nc>,\n",
       " Dataset <id=965e3fd4-f0dd-4616-80a0-93d51a8025fd type=mangrove_extent_cover_albers location=file:///g/data/v10/users/ea6141/mangrove_v2_notsure/MANGROVE_COVER/15_-21/MANGROVE_COVER_3577_15_-21_20100101.nc>,\n",
       " Dataset <id=9fc245a3-e978-45e8-bcb8-47fdfce24909 type=mangrove_extent_cover_albers location=file:///g/data/v10/users/ea6141/mangrove_v2_notsure/MANGROVE_COVER/14_-20/MANGROVE_COVER_3577_14_-20_20100101.nc>,\n",
       " Dataset <id=197db31c-81bc-487c-a6e1-6501463ba39e type=mangrove_extent_cover_albers location=file:///g/data/v10/users/ea6141/mangrove_v2_notsure/MANGROVE_COVER/14_-21/MANGROVE_COVER_3577_14_-21_20100101.nc>,\n",
       " Dataset <id=11dd0eb1-dd91-4f18-afdf-17ba3dd1246f type=mangrove_extent_cover_albers location=file:///g/data/v10/users/ea6141/mangrove_v2_notsure/MANGROVE_COVER/15_-22/MANGROVE_COVER_3577_15_-22_20100101.nc>,\n",
       " Dataset <id=c14e2a85-b768-43ff-8c67-f40595f873b4 type=mangrove_extent_cover_albers location=file:///g/data/v10/users/ea6141/mangrove_v2_notsure/MANGROVE_COVER/14_-19/MANGROVE_COVER_3577_14_-19_20100101.nc>]"
      ]
     },
     "execution_count": 6,
     "metadata": {},
     "output_type": "execute_result"
    }
   ],
   "source": [
    "bc_datasets = dc.find_datasets(product = 'mangrove_extent_cover_albers',time=time_before_cyclone, geopolygon=geobox)\n",
    "bc_datasets"
   ]
  },
  {
   "cell_type": "code",
   "execution_count": 7,
   "metadata": {
    "scrolled": true
   },
   "outputs": [
    {
     "data": {
      "text/plain": [
       "{0: Geometry(POLYGON ((1400000.0 -2105908.32201988,1400000 -2100000,1500000 -2100000,1500000 -2200000,1400000 -2200000,1400000.0 -2105908.32201988)), EPSG:3577),\n",
       " 1: Geometry(POLYGON ((1500000.0 -2001491.08847501,1500000 -2000000,1600000 -2000000,1600000 -2100000,1500000 -2100000,1500000.0 -2001491.08847501)), EPSG:3577),\n",
       " 2: Geometry(POLYGON ((1400000.0 -1983681.23578092,1400000 -1900000,1500000 -1900000,1500000 -2000000,1400000 -2000000,1400000.0 -1983681.23578092)), EPSG:3577),\n",
       " 3: Geometry(POLYGON ((1400000.0 -2000274.6471692,1400000 -2000000,1500000 -2000000,1500000 -2100000,1400000 -2100000,1400000.0 -2000274.6471692)), EPSG:3577),\n",
       " 4: Geometry(POLYGON ((1500000.0 -2169174.94429054,1500000 -2100000,1600000 -2100000,1600000 -2200000,1500000 -2200000,1500000.0 -2169174.94429054)), EPSG:3577),\n",
       " 5: Geometry(POLYGON ((1400000.0 -1829302.73973189,1400000 -1800000,1500000 -1800000,1500000 -1900000,1400000 -1900000,1400000.0 -1829302.73973189)), EPSG:3577)}"
      ]
     },
     "execution_count": 7,
     "metadata": {},
     "output_type": "execute_result"
    }
   ],
   "source": [
    "cyclone_extent = {}\n",
    "k = 0\n",
    "for d in bc_datasets:\n",
    "    cyclone_extent[k] = d.extent\n",
    "    k += 1\n",
    "cyclone_extent"
   ]
  },
  {
   "cell_type": "code",
   "execution_count": 8,
   "metadata": {},
   "outputs": [
    {
     "name": "stdout",
     "output_type": "stream",
     "text": [
      "<xarray.DataArray (time: 1)>\n",
      "array([(Dataset <id=11dd0eb1-dd91-4f18-afdf-17ba3dd1246f type=mangrove_extent_cover_albers location=file:///g/data/v10/users/ea6141/mangrove_v2_notsure/MANGROVE_COVER/15_-22/MANGROVE_COVER_3577_15_-22_20100101.nc>, Dataset <id=197db31c-81bc-487c-a6e1-6501463ba39e type=mangrove_extent_cover_albers location=file:///g/data/v10/users/ea6141/mangrove_v2_notsure/MANGROVE_COVER/14_-21/MANGROVE_COVER_3577_14_-21_20100101.nc>, Dataset <id=965e3fd4-f0dd-4616-80a0-93d51a8025fd type=mangrove_extent_cover_albers location=file:///g/data/v10/users/ea6141/mangrove_v2_notsure/MANGROVE_COVER/15_-21/MANGROVE_COVER_3577_15_-21_20100101.nc>, Dataset <id=9fc245a3-e978-45e8-bcb8-47fdfce24909 type=mangrove_extent_cover_albers location=file:///g/data/v10/users/ea6141/mangrove_v2_notsure/MANGROVE_COVER/14_-20/MANGROVE_COVER_3577_14_-20_20100101.nc>, Dataset <id=c14e2a85-b768-43ff-8c67-f40595f873b4 type=mangrove_extent_cover_albers location=file:///g/data/v10/users/ea6141/mangrove_v2_notsure/MANGROVE_COVER/14_-19/MANGROVE_COVER_3577_14_-19_20100101.nc>, Dataset <id=fac71e69-b4cf-4321-a7ce-5cd3467bdf9c type=mangrove_extent_cover_albers location=file:///g/data/v10/users/ea6141/mangrove_v2_notsure/MANGROVE_COVER/14_-22/MANGROVE_COVER_3577_14_-22_20100101.nc>)],\n",
      "      dtype=object)\n",
      "Coordinates:\n",
      "  * time     (time) datetime64[ns] 2010-01-01\n"
     ]
    }
   ],
   "source": [
    "bc_datasets = dc.group_datasets(bc_datasets, group_by='time')\n",
    "ac_datasets = dc.find_datasets(product = 'mangrove_extent_cover_albers',time=time_after_cyclone, geopolygon=geobox)\n",
    "ac_datasets = dc.group_datasets(ac_datasets, group_by='time')\n",
    "cyclone_datasets = dc.group_datasets([dataset], group_by='time')\n",
    "print(bc_datasets)\n"
   ]
  },
  {
   "cell_type": "code",
   "execution_count": 31,
   "metadata": {},
   "outputs": [],
   "source": [
    "d = ac_datasets.data[0][0]"
   ]
  },
  {
   "cell_type": "code",
   "execution_count": 37,
   "metadata": {},
   "outputs": [
    {
     "data": {
      "text/plain": [
       "{'canopy_cover_class': {'layer': 'canopy_cover_class', 'path': ''},\n",
       " 'extent': {'layer': 'extent', 'path': ''}}"
      ]
     },
     "execution_count": 37,
     "metadata": {},
     "output_type": "execute_result"
    }
   ],
   "source": [
    "d.measurements"
   ]
  },
  {
   "cell_type": "code",
   "execution_count": 9,
   "metadata": {
    "scrolled": true
   },
   "outputs": [
    {
     "name": "stdout",
     "output_type": "stream",
     "text": [
      "          0         1         2        3         4\n",
      "C1        0         0         0        0         0\n",
      "C2        0         0         0        0         0\n",
      "C3  7.37688      2.59  0.013125  0.00625  0.021875\n",
      "C4    0.185  0.135625         0   0.0025  0.000625\n",
      "C5        0         0         0        0         0\n",
      "          1         2         3         4         5\n",
      "C1        0         0         0         0         0\n",
      "C2        0         0         0         0         0\n",
      "C3  2.92063  0.738125  0.164375  0.000625  0.003125\n",
      "C4  0.11875   0.03375   0.00375  0.001875         0\n",
      "C5        0         0         0         0         0\n",
      "          0         1         2        3         4\n",
      "C1        0         0         0        0         0\n",
      "C2        0         0         0        0         0\n",
      "C3  7.37688      2.59  0.013125  0.00625  0.021875\n",
      "C4    0.185  0.135625         0   0.0025  0.000625\n",
      "C5        0         0         0        0         0\n",
      "          1         2         3         4         5\n",
      "C1        0         0         0         0         0\n",
      "C2        0         0         0         0         0\n",
      "C3  2.92063  0.738125  0.164375  0.000625  0.003125\n",
      "C4  0.11875   0.03375   0.00375  0.001875         0\n",
      "C5        0         0         0         0         0\n",
      "           0        1         2         3         4\n",
      "C1         0        0         0         0         0\n",
      "C2         0        0         0         0         0\n",
      "C3   17.4975  16.0213    0.5925  0.021875  0.084375\n",
      "C4   19.6756  42.6306   8.58438   0.06125  0.393125\n",
      "C5  0.064375     0.07  0.068125   0.00125  0.013125\n",
      "           1        2        3         4        5\n",
      "C1         0        0        0         0        0\n",
      "C2         0        0        0         0        0\n",
      "C3   17.4075   2.1075  0.57875    0.0075  0.01375\n",
      "C4   45.5606  7.79188  1.52625    0.0275   0.0975\n",
      "C5  0.074375    0.065  0.01625  0.000625  0.00125\n",
      "           0        1         2         3         4\n",
      "C1         0        0         0         0         0\n",
      "C2         0        0         0         0         0\n",
      "C3   24.8744  18.6113  0.605625  0.028125   0.10625\n",
      "C4   19.8606  42.7663   8.58438   0.06375   0.39375\n",
      "C5  0.064375     0.07  0.068125   0.00125  0.013125\n",
      "           1        2         3         4         5\n",
      "C1         0        0         0         0         0\n",
      "C2         0        0         0         0         0\n",
      "C3   20.3281  2.84563  0.743125  0.008125  0.016875\n",
      "C4   45.6794  7.82563      1.53  0.029375    0.0975\n",
      "C5  0.074375    0.065   0.01625  0.000625   0.00125\n",
      "          0        1         2        3         4\n",
      "C1        0        0         0        0         0\n",
      "C2  4.73563  1.01375   0.00125    0.005  0.031875\n",
      "C3  20.1638   4.3675  0.043125  0.10375   0.11375\n",
      "C4     4.84  3.26313    0.0875  0.00625   0.02375\n",
      "C5        0        0         0        0         0\n",
      "          1         2        3         4        5\n",
      "C1        0         0        0         0        0\n",
      "C2  1.80063   0.00375  0.14125  0.003125  0.01125\n",
      "C3  8.92125   0.52625     0.47   0.05375   0.0375\n",
      "C4  3.81063  0.296875  0.16875  0.000625  0.00125\n",
      "C5        0         0        0         0        0\n",
      "           0        1         2         3         4\n",
      "C1         0        0         0         0         0\n",
      "C2   4.73563  1.01375   0.00125     0.005  0.031875\n",
      "C3   45.0381  22.9788   0.64875  0.131875      0.22\n",
      "C4   24.7006  46.0294   8.67188      0.07    0.4175\n",
      "C5  0.064375     0.07  0.068125   0.00125  0.013125\n",
      "           1        2        3         4         5\n",
      "C1         0        0        0         0         0\n",
      "C2   1.80063  0.00375  0.14125  0.003125   0.01125\n",
      "C3   29.2494  3.37188  1.21313  0.061875  0.054375\n",
      "C4     49.49   8.1225  1.69875      0.03   0.09875\n",
      "C5  0.074375    0.065  0.01625  0.000625   0.00125\n",
      "          0        1        2         3         4\n",
      "C1        0        0        0         0         0\n",
      "C2        0        0        0         0         0\n",
      "C3  12.4463  7.33125   0.1425    0.0425  0.365625\n",
      "C4  54.9775  92.6613  24.2038   0.23375   3.27313\n",
      "C5  0.37875  2.73375  3.38688  0.031875   1.35063\n",
      "          1        2         3         4         5\n",
      "C1        0        0         0         0         0\n",
      "C2        0        0         0         0         0\n",
      "C3  8.33625   1.0675  0.723125   0.01625     0.065\n",
      "C4  103.021  18.0019     7.405  0.104375   0.56125\n",
      "C5  2.98625   2.8425   1.47313   0.00625  0.213125\n",
      "           0        1        2         3         4\n",
      "C1         0        0        0         0         0\n",
      "C2   4.73563  1.01375  0.00125     0.005  0.031875\n",
      "C3   57.4844    30.31  0.79125  0.174375  0.585625\n",
      "C4   79.6781  138.691  32.8756   0.30375   3.69063\n",
      "C5  0.443125  2.80375    3.455  0.033125   1.36375\n",
      "          1        2        3         4         5\n",
      "C1        0        0        0         0         0\n",
      "C2  1.80063  0.00375  0.14125  0.003125   0.01125\n",
      "C3  37.5856  4.43938  1.93625  0.078125  0.119375\n",
      "C4  152.511  26.1244  9.10375  0.134375      0.66\n",
      "C5  3.06063   2.9075  1.48938  0.006875  0.214375\n",
      "           0         1         2       3         4\n",
      "C1   5.62688   1.43125  0.006875   0.035  0.036875\n",
      "C2         0         0         0       0         0\n",
      "C3   7.12438     2.805  0.113125  0.0425   0.01625\n",
      "C4  0.769375  0.210625         0   0.005  0.001875\n",
      "C5         0         0         0       0         0\n",
      "          1         2         3         4         5\n",
      "C1  2.47688  0.368125  0.178125     0.005         0\n",
      "C2        0         0         0         0         0\n",
      "C3  3.63563   0.83875  0.174375  0.009375  0.003125\n",
      "C4   0.3525   0.07125  0.031875  0.001875  0.000625\n",
      "C5        0         0         0         0         0\n",
      "           0        1         2         3         4\n",
      "C1   5.62688  1.43125  0.006875     0.035  0.036875\n",
      "C2   4.73563  1.01375   0.00125     0.005  0.031875\n",
      "C3   64.6088   33.115  0.904375  0.216875  0.601875\n",
      "C4   80.4475  138.901   32.8756   0.30875    3.6925\n",
      "C5  0.443125  2.80375     3.455  0.033125   1.36375\n",
      "          1         2         3         4         5\n",
      "C1  2.47688  0.368125  0.178125     0.005         0\n",
      "C2  1.80063   0.00375   0.14125  0.003125   0.01125\n",
      "C3  41.2213   5.27813   2.11063    0.0875    0.1225\n",
      "C4  152.864   26.1956   9.13563   0.13625  0.660625\n",
      "C5  3.06063    2.9075   1.48938  0.006875  0.214375\n",
      "           0         1  2  3         4\n",
      "C1  0.381875  0.129375  0  0  0.000625\n",
      "C2         0         0  0  0         0\n",
      "C3         0         0  0  0         0\n",
      "C4         0         0  0  0         0\n",
      "C5         0         0  0  0         0\n",
      "         1        2         3  4  5\n",
      "C1  0.2475  0.01875  0.001875  0  0\n",
      "C2       0        0         0  0  0\n",
      "C3       0        0         0  0  0\n",
      "C4       0        0         0  0  0\n",
      "C5       0        0         0  0  0\n",
      "           0        1         2         3         4\n",
      "C1   6.00875  1.56063  0.006875     0.035    0.0375\n",
      "C2   4.73563  1.01375   0.00125     0.005  0.031875\n",
      "C3   64.6088   33.115  0.904375  0.216875  0.601875\n",
      "C4   80.4475  138.901   32.8756   0.30875    3.6925\n",
      "C5  0.443125  2.80375     3.455  0.033125   1.36375\n",
      "          1         2        3         4         5\n",
      "C1  2.72438  0.386875     0.18     0.005         0\n",
      "C2  1.80063   0.00375  0.14125  0.003125   0.01125\n",
      "C3  41.2213   5.27813  2.11063    0.0875    0.1225\n",
      "C4  152.864   26.1956  9.13563   0.13625  0.660625\n",
      "C5  3.06063    2.9075  1.48938  0.006875  0.214375\n"
     ]
    }
   ],
   "source": [
    "wind_cat_full = None\n",
    "all_wind_cat_full = None\n",
    "for key, value in cyclone_extent.items():\n",
    "    loading_polygon = value.intersection(geobox.to_crs(value.crs))\n",
    "    loading_box = geometry.GeoBox.from_geopolygon(loading_polygon, resolution=(25, -25))\n",
    "    wind_cat, all_wind_cat = damage_level_by_geo(dc, 'cyclone_damage_results_v2', cname, \n",
    "                                             cyclone_datasets, bc_datasets, ac_datasets, \n",
    "                                             loading_box, windspeed_category, dump=False)\n",
    "    if wind_cat_full is None:\n",
    "        wind_cat_full = wind_cat\n",
    "        all_wind_cat_full = all_wind_cat\n",
    "    else:\n",
    "        wind_cat_full += wind_cat\n",
    "        all_wind_cat_full += all_wind_cat\n",
    "    print(wind_cat_full)\n",
    "    print(all_wind_cat_full)"
   ]
  },
  {
   "cell_type": "code",
   "execution_count": 10,
   "metadata": {},
   "outputs": [],
   "source": [
    "with open(cname+'_tally.pkl', 'wb') as f:\n",
    "    pickle.dump((wind_cat_full, all_wind_cat_full), f)"
   ]
  },
  {
   "cell_type": "code",
   "execution_count": 11,
   "metadata": {},
   "outputs": [],
   "source": [
    "with open(cname+'_tally.pkl', 'rb') as f:\n",
    "    wind_cat_full, all_wind_cat_full = pickle.load(f)"
   ]
  },
  {
   "cell_type": "code",
   "execution_count": 10,
   "metadata": {},
   "outputs": [
    {
     "data": {
      "text/html": [
       "<div>\n",
       "<style scoped>\n",
       "    .dataframe tbody tr th:only-of-type {\n",
       "        vertical-align: middle;\n",
       "    }\n",
       "\n",
       "    .dataframe tbody tr th {\n",
       "        vertical-align: top;\n",
       "    }\n",
       "\n",
       "    .dataframe thead th {\n",
       "        text-align: right;\n",
       "    }\n",
       "</style>\n",
       "<table border=\"1\" class=\"dataframe\">\n",
       "  <thead>\n",
       "    <tr style=\"text-align: right;\">\n",
       "      <th></th>\n",
       "      <th>0</th>\n",
       "      <th>1</th>\n",
       "      <th>2</th>\n",
       "      <th>3</th>\n",
       "      <th>4</th>\n",
       "    </tr>\n",
       "  </thead>\n",
       "  <tbody>\n",
       "    <tr>\n",
       "      <th>C1</th>\n",
       "      <td>6.00875</td>\n",
       "      <td>1.56063</td>\n",
       "      <td>0.006875</td>\n",
       "      <td>0.035</td>\n",
       "      <td>0.0375</td>\n",
       "    </tr>\n",
       "    <tr>\n",
       "      <th>C2</th>\n",
       "      <td>4.73563</td>\n",
       "      <td>1.01375</td>\n",
       "      <td>0.00125</td>\n",
       "      <td>0.005</td>\n",
       "      <td>0.031875</td>\n",
       "    </tr>\n",
       "    <tr>\n",
       "      <th>C3</th>\n",
       "      <td>64.6088</td>\n",
       "      <td>33.115</td>\n",
       "      <td>0.904375</td>\n",
       "      <td>0.216875</td>\n",
       "      <td>0.601875</td>\n",
       "    </tr>\n",
       "    <tr>\n",
       "      <th>C4</th>\n",
       "      <td>80.4475</td>\n",
       "      <td>138.901</td>\n",
       "      <td>32.8756</td>\n",
       "      <td>0.30875</td>\n",
       "      <td>3.6925</td>\n",
       "    </tr>\n",
       "    <tr>\n",
       "      <th>C5</th>\n",
       "      <td>0.443125</td>\n",
       "      <td>2.80375</td>\n",
       "      <td>3.455</td>\n",
       "      <td>0.033125</td>\n",
       "      <td>1.36375</td>\n",
       "    </tr>\n",
       "  </tbody>\n",
       "</table>\n",
       "</div>"
      ],
      "text/plain": [
       "           0        1         2         3         4\n",
       "C1   6.00875  1.56063  0.006875     0.035    0.0375\n",
       "C2   4.73563  1.01375   0.00125     0.005  0.031875\n",
       "C3   64.6088   33.115  0.904375  0.216875  0.601875\n",
       "C4   80.4475  138.901   32.8756   0.30875    3.6925\n",
       "C5  0.443125  2.80375     3.455  0.033125   1.36375"
      ]
     },
     "execution_count": 10,
     "metadata": {},
     "output_type": "execute_result"
    }
   ],
   "source": [
    "wind_cat_full"
   ]
  },
  {
   "cell_type": "code",
   "execution_count": 12,
   "metadata": {},
   "outputs": [
    {
     "data": {
      "text/plain": [
       "Text(0.5,0,'Wind speed categories')"
      ]
     },
     "execution_count": 12,
     "metadata": {},
     "output_type": "execute_result"
    },
    {
     "data": {
      "image/png": "[encoded data removed]",
      "text/plain": [
       "<Figure size 432x288 with 1 Axes>"
      ]
     },
     "metadata": {
      "needs_background": "light"
     },
     "output_type": "display_data"
    }
   ],
   "source": [
    "figure_a = wind_cat_full.astype('float').plot(kind='bar', title='Cyclone Yasi immediate impact')\n",
    "figure_a.set_ylabel('Area in $km^2$')\n",
    "figure_a.set_xlabel('Wind speed categories')"
   ]
  },
  {
   "cell_type": "code",
   "execution_count": 14,
   "metadata": {},
   "outputs": [
    {
     "data": {
      "text/plain": [
       "Text(0.5,0,'Wind speed categories')"
      ]
     },
     "execution_count": 14,
     "metadata": {},
     "output_type": "execute_result"
    },
    {
     "data": {
      "image/png": "[encoded data removed]",
      "text/plain": [
       "<Figure size 432x288 with 1 Axes>"
      ]
     },
     "metadata": {
      "needs_background": "light"
     },
     "output_type": "display_data"
    }
   ],
   "source": [
    "figure_a = all_wind_cat_full.astype('float').plot(kind='bar', title='Cyclone Yasi immediate impact')\n",
    "figure_a.set_ylabel('Area in $km^2$')\n",
    "figure_a.set_xlabel('Wind speed categories')"
   ]
  },
  {
   "cell_type": "code",
   "execution_count": null,
   "metadata": {},
   "outputs": [],
   "source": []
  }
 ],
 "metadata": {
  "kernelspec": {
   "display_name": "Python 3 (ipykernel)",
   "language": "python",
   "name": "python3"
  },
  "language_info": {
   "codemirror_mode": {
    "name": "ipython",
    "version": 3
   },
   "file_extension": ".py",
   "mimetype": "text/x-python",
   "name": "python",
   "nbconvert_exporter": "python",
   "pygments_lexer": "ipython3",
   "version": "3.8.10"
  }
 },
 "nbformat": 4,
 "nbformat_minor": 4
}
