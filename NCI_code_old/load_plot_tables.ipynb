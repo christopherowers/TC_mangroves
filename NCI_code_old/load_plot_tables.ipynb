{
 "cells": [
  {
   "cell_type": "markdown",
   "metadata": {},
   "source": [
    "# Plot cyclone damage to mangroves\n"
   ]
  },
  {
   "cell_type": "markdown",
   "metadata": {},
   "source": [
    "## Import libraries"
   ]
  },
  {
   "cell_type": "code",
   "execution_count": 9,
   "metadata": {},
   "outputs": [],
   "source": [
    "import matplotlib.pyplot as plt\n",
    "import pickle\n",
    "import pandas as pd"
   ]
  },
  {
   "cell_type": "markdown",
   "metadata": {},
   "source": [
    "## User Inputs \n",
    "\n",
    "* **cname:**  The name of the cyclone of interest. Must be one of:\n",
    "    - `'IngridLF2'`, `'Laurence'`, `'Lam'`, `'Ita'`, `'MonicaLF1'`, `'NathanLF2'`,`'Marcia'`, \n",
    "    \n",
    "    `'NathanLF1'`, `'IngridLF1'`, `'George'`, `'Larry'`, `'Yasi'`, `'IngridLF3'`, `'MonicaLF2'`\n",
    "\n",
    "* **dir_name:** The directory name to get the cyclone damage data from, must be either `'cyclone_damage_tally/'`, or `'cyclone_damage_tally_notsure/'`"
   ]
  },
  {
   "cell_type": "code",
   "execution_count": 32,
   "metadata": {},
   "outputs": [],
   "source": [
    "#cyclone name\n",
    "cname = 'Yasi' \n",
    "\n",
    "dir_name = 'cyclone_damage_tally_notsure/'\n"
   ]
  },
  {
   "cell_type": "markdown",
   "metadata": {},
   "source": [
    "### set up dictionaries, tables"
   ]
  },
  {
   "cell_type": "code",
   "execution_count": 33,
   "metadata": {},
   "outputs": [
    {
     "name": "stdout",
     "output_type": "stream",
     "text": [
      "load tables cyclone_damage_tally_notsure/Yasi_tally.pkl\n"
     ]
    }
   ],
   "source": [
    "cyclone_name = {\n",
    "    'Ingrid_Landfall2':'IngridLF2', #the key is the file name of windspeed, the value is the cyclone name\n",
    "    'Laurence':'Laurence',\n",
    "    'Lam':'Lam',\n",
    "    'Ita':  'Ita',\n",
    "    'Monica_Landfall1':'MonicaLF1',\n",
    "    'Nathan_Landfall2':'NathanLF2',\n",
    "    'Marcia': 'Marcia',\n",
    "    'Nathan_Landfall1':'NathanLF1',\n",
    "    'Ingrid_Landfall1': 'IngridLF1',\n",
    "    'George':'George',\n",
    "    'Larry':'Larry',\n",
    "    'Yas':'Yasi',\n",
    "    'Ingrid_Landfall3':'IngridLF3',\n",
    "    'Monica_Landfall2':'MonicaLF2'\n",
    "}\n",
    "\n",
    "fname = dir_name + cname+'_tally.pkl'\n",
    "print(\"load tables\", fname)\n",
    "with open(fname, 'rb') as f:\n",
    "    wind_cat_full, all_wind_cat_full = pickle.load(f)"
   ]
  },
  {
   "cell_type": "markdown",
   "metadata": {},
   "source": [
    "## Selected cyclone's impact"
   ]
  },
  {
   "cell_type": "code",
   "execution_count": 34,
   "metadata": {
    "scrolled": true
   },
   "outputs": [
    {
     "data": {
      "text/html": [
       "<div>\n",
       "<style scoped>\n",
       "    .dataframe tbody tr th:only-of-type {\n",
       "        vertical-align: middle;\n",
       "    }\n",
       "\n",
       "    .dataframe tbody tr th {\n",
       "        vertical-align: top;\n",
       "    }\n",
       "\n",
       "    .dataframe thead th {\n",
       "        text-align: right;\n",
       "    }\n",
       "</style>\n",
       "<table border=\"1\" class=\"dataframe\">\n",
       "  <thead>\n",
       "    <tr style=\"text-align: right;\">\n",
       "      <th></th>\n",
       "      <th>0</th>\n",
       "      <th>1</th>\n",
       "      <th>2</th>\n",
       "      <th>3</th>\n",
       "      <th>4</th>\n",
       "    </tr>\n",
       "  </thead>\n",
       "  <tbody>\n",
       "    <tr>\n",
       "      <th>C1</th>\n",
       "      <td>6.00875</td>\n",
       "      <td>1.56063</td>\n",
       "      <td>0.006875</td>\n",
       "      <td>0.035</td>\n",
       "      <td>0.0375</td>\n",
       "    </tr>\n",
       "    <tr>\n",
       "      <th>C2</th>\n",
       "      <td>4.73563</td>\n",
       "      <td>1.01375</td>\n",
       "      <td>0.00125</td>\n",
       "      <td>0.005</td>\n",
       "      <td>0.031875</td>\n",
       "    </tr>\n",
       "    <tr>\n",
       "      <th>C3</th>\n",
       "      <td>64.6088</td>\n",
       "      <td>33.115</td>\n",
       "      <td>0.904375</td>\n",
       "      <td>0.216875</td>\n",
       "      <td>0.601875</td>\n",
       "    </tr>\n",
       "    <tr>\n",
       "      <th>C4</th>\n",
       "      <td>80.4475</td>\n",
       "      <td>138.901</td>\n",
       "      <td>32.8756</td>\n",
       "      <td>0.30875</td>\n",
       "      <td>3.6925</td>\n",
       "    </tr>\n",
       "    <tr>\n",
       "      <th>C5</th>\n",
       "      <td>0.443125</td>\n",
       "      <td>2.80375</td>\n",
       "      <td>3.455</td>\n",
       "      <td>0.033125</td>\n",
       "      <td>1.36375</td>\n",
       "    </tr>\n",
       "  </tbody>\n",
       "</table>\n",
       "</div>"
      ],
      "text/plain": [
       "           0        1         2         3         4\n",
       "C1   6.00875  1.56063  0.006875     0.035    0.0375\n",
       "C2   4.73563  1.01375   0.00125     0.005  0.031875\n",
       "C3   64.6088   33.115  0.904375  0.216875  0.601875\n",
       "C4   80.4475  138.901   32.8756   0.30875    3.6925\n",
       "C5  0.443125  2.80375     3.455  0.033125   1.36375"
      ]
     },
     "execution_count": 34,
     "metadata": {},
     "output_type": "execute_result"
    }
   ],
   "source": [
    "wind_cat_full # immediate impact"
   ]
  },
  {
   "cell_type": "code",
   "execution_count": 35,
   "metadata": {},
   "outputs": [
    {
     "data": {
      "text/html": [
       "<div>\n",
       "<style scoped>\n",
       "    .dataframe tbody tr th:only-of-type {\n",
       "        vertical-align: middle;\n",
       "    }\n",
       "\n",
       "    .dataframe tbody tr th {\n",
       "        vertical-align: top;\n",
       "    }\n",
       "\n",
       "    .dataframe thead th {\n",
       "        text-align: right;\n",
       "    }\n",
       "</style>\n",
       "<table border=\"1\" class=\"dataframe\">\n",
       "  <thead>\n",
       "    <tr style=\"text-align: right;\">\n",
       "      <th></th>\n",
       "      <th>1</th>\n",
       "      <th>2</th>\n",
       "      <th>3</th>\n",
       "      <th>4</th>\n",
       "      <th>5</th>\n",
       "    </tr>\n",
       "  </thead>\n",
       "  <tbody>\n",
       "    <tr>\n",
       "      <th>C1</th>\n",
       "      <td>2.72438</td>\n",
       "      <td>0.386875</td>\n",
       "      <td>0.18</td>\n",
       "      <td>0.005</td>\n",
       "      <td>0</td>\n",
       "    </tr>\n",
       "    <tr>\n",
       "      <th>C2</th>\n",
       "      <td>1.80063</td>\n",
       "      <td>0.00375</td>\n",
       "      <td>0.14125</td>\n",
       "      <td>0.003125</td>\n",
       "      <td>0.01125</td>\n",
       "    </tr>\n",
       "    <tr>\n",
       "      <th>C3</th>\n",
       "      <td>41.2213</td>\n",
       "      <td>5.27813</td>\n",
       "      <td>2.11063</td>\n",
       "      <td>0.0875</td>\n",
       "      <td>0.1225</td>\n",
       "    </tr>\n",
       "    <tr>\n",
       "      <th>C4</th>\n",
       "      <td>152.864</td>\n",
       "      <td>26.1956</td>\n",
       "      <td>9.13563</td>\n",
       "      <td>0.13625</td>\n",
       "      <td>0.660625</td>\n",
       "    </tr>\n",
       "    <tr>\n",
       "      <th>C5</th>\n",
       "      <td>3.06063</td>\n",
       "      <td>2.9075</td>\n",
       "      <td>1.48938</td>\n",
       "      <td>0.006875</td>\n",
       "      <td>0.214375</td>\n",
       "    </tr>\n",
       "  </tbody>\n",
       "</table>\n",
       "</div>"
      ],
      "text/plain": [
       "          1         2        3         4         5\n",
       "C1  2.72438  0.386875     0.18     0.005         0\n",
       "C2  1.80063   0.00375  0.14125  0.003125   0.01125\n",
       "C3  41.2213   5.27813  2.11063    0.0875    0.1225\n",
       "C4  152.864   26.1956  9.13563   0.13625  0.660625\n",
       "C5  3.06063    2.9075  1.48938  0.006875  0.214375"
      ]
     },
     "execution_count": 35,
     "metadata": {},
     "output_type": "execute_result"
    }
   ],
   "source": [
    "all_wind_cat_full #long term impact"
   ]
  },
  {
   "cell_type": "markdown",
   "metadata": {},
   "source": [
    "### Plot cyclone immediate impact"
   ]
  },
  {
   "cell_type": "code",
   "execution_count": 36,
   "metadata": {},
   "outputs": [
    {
     "data": {
      "image/png": "[encoded data removed]",
      "text/plain": [
       "<Figure size 432x288 with 1 Axes>"
      ]
     },
     "metadata": {
      "needs_background": "light"
     },
     "output_type": "display_data"
    }
   ],
   "source": [
    "figure_a = wind_cat_full.astype('float').plot(kind='bar', title='Cyclone ' + cname +' immediate impact')\n",
    "figure_a.set_ylabel('Area in $km^2$')\n",
    "figure_a.set_xlabel('Wind speed categories')\n",
    "plt.show()"
   ]
  },
  {
   "cell_type": "markdown",
   "metadata": {},
   "source": [
    "### Plot cyclone long-term impact"
   ]
  },
  {
   "cell_type": "code",
   "execution_count": 23,
   "metadata": {},
   "outputs": [
    {
     "data": {
      "image/png": "[encoded data removed]",
      "text/plain": [
       "<Figure size 432x288 with 1 Axes>"
      ]
     },
     "metadata": {
      "needs_background": "light"
     },
     "output_type": "display_data"
    }
   ],
   "source": [
    "figure_a = all_wind_cat_full.astype('float').plot(kind='bar', title='Cyclone ' + cname + ' long term impact')\n",
    "figure_a.set_ylabel('Area in $km^2$')\n",
    "figure_a.set_xlabel('Wind speed categories')\n",
    "plt.show()"
   ]
  },
  {
   "cell_type": "markdown",
   "metadata": {},
   "source": [
    "## Impact of all cyclones by category"
   ]
  },
  {
   "cell_type": "code",
   "execution_count": 24,
   "metadata": {},
   "outputs": [],
   "source": [
    "im_cat = None\n",
    "lg_cat = None\n",
    "for cname in cyclone_name.values():\n",
    "    fname = dir_name + cname+'_tally.pkl'\n",
    "    with open(fname, 'rb') as f:\n",
    "        tmp_im_cat, tmp_lg_cat = pickle.load(f)\n",
    "        if im_cat is None:\n",
    "            im_cat = tmp_im_cat\n",
    "            lg_cat = tmp_lg_cat\n",
    "        else:\n",
    "            im_cat += tmp_im_cat\n",
    "            lg_cat += tmp_lg_cat\n",
    "    "
   ]
  },
  {
   "cell_type": "code",
   "execution_count": 25,
   "metadata": {},
   "outputs": [
    {
     "data": {
      "text/html": [
       "<div>\n",
       "<style scoped>\n",
       "    .dataframe tbody tr th:only-of-type {\n",
       "        vertical-align: middle;\n",
       "    }\n",
       "\n",
       "    .dataframe tbody tr th {\n",
       "        vertical-align: top;\n",
       "    }\n",
       "\n",
       "    .dataframe thead th {\n",
       "        text-align: right;\n",
       "    }\n",
       "</style>\n",
       "<table border=\"1\" class=\"dataframe\">\n",
       "  <thead>\n",
       "    <tr style=\"text-align: right;\">\n",
       "      <th></th>\n",
       "      <th>0</th>\n",
       "      <th>1</th>\n",
       "      <th>2</th>\n",
       "      <th>3</th>\n",
       "      <th>4</th>\n",
       "    </tr>\n",
       "  </thead>\n",
       "  <tbody>\n",
       "    <tr>\n",
       "      <th>C1</th>\n",
       "      <td>8271.76</td>\n",
       "      <td>1120.32</td>\n",
       "      <td>21.2944</td>\n",
       "      <td>131.491</td>\n",
       "      <td>64.2625</td>\n",
       "    </tr>\n",
       "    <tr>\n",
       "      <th>C2</th>\n",
       "      <td>1890.38</td>\n",
       "      <td>276.004</td>\n",
       "      <td>6.59313</td>\n",
       "      <td>26.3706</td>\n",
       "      <td>13.3863</td>\n",
       "    </tr>\n",
       "    <tr>\n",
       "      <th>C3</th>\n",
       "      <td>1069.58</td>\n",
       "      <td>557.423</td>\n",
       "      <td>62.6106</td>\n",
       "      <td>35.0431</td>\n",
       "      <td>42.9131</td>\n",
       "    </tr>\n",
       "    <tr>\n",
       "      <th>C4</th>\n",
       "      <td>81.4288</td>\n",
       "      <td>141.192</td>\n",
       "      <td>34.9669</td>\n",
       "      <td>0.756875</td>\n",
       "      <td>4.55688</td>\n",
       "    </tr>\n",
       "    <tr>\n",
       "      <th>C5</th>\n",
       "      <td>0.420625</td>\n",
       "      <td>2.77563</td>\n",
       "      <td>3.45188</td>\n",
       "      <td>0.024375</td>\n",
       "      <td>1.36375</td>\n",
       "    </tr>\n",
       "  </tbody>\n",
       "</table>\n",
       "</div>"
      ],
      "text/plain": [
       "           0        1        2         3        4\n",
       "C1   8271.76  1120.32  21.2944   131.491  64.2625\n",
       "C2   1890.38  276.004  6.59313   26.3706  13.3863\n",
       "C3   1069.58  557.423  62.6106   35.0431  42.9131\n",
       "C4   81.4288  141.192  34.9669  0.756875  4.55688\n",
       "C5  0.420625  2.77563  3.45188  0.024375  1.36375"
      ]
     },
     "execution_count": 25,
     "metadata": {},
     "output_type": "execute_result"
    }
   ],
   "source": [
    "im_cat"
   ]
  },
  {
   "cell_type": "code",
   "execution_count": 26,
   "metadata": {},
   "outputs": [
    {
     "data": {
      "text/plain": [
       "Text(0.5, 0, 'Wind speed categories')"
      ]
     },
     "execution_count": 26,
     "metadata": {},
     "output_type": "execute_result"
    },
    {
     "data": {
      "image/png": "[encoded data removed]",
      "text/plain": [
       "<Figure size 432x288 with 1 Axes>"
      ]
     },
     "metadata": {
      "needs_background": "light"
     },
     "output_type": "display_data"
    }
   ],
   "source": [
    "figure_im = im_cat.astype('float').plot(kind='bar', title='Cyclone immediate impact')\n",
    "figure_im.set_ylabel('Area in $km^2$')\n",
    "figure_im.set_xlabel('Wind speed categories')"
   ]
  },
  {
   "cell_type": "code",
   "execution_count": 27,
   "metadata": {},
   "outputs": [
    {
     "data": {
      "text/html": [
       "<div>\n",
       "<style scoped>\n",
       "    .dataframe tbody tr th:only-of-type {\n",
       "        vertical-align: middle;\n",
       "    }\n",
       "\n",
       "    .dataframe tbody tr th {\n",
       "        vertical-align: top;\n",
       "    }\n",
       "\n",
       "    .dataframe thead th {\n",
       "        text-align: right;\n",
       "    }\n",
       "</style>\n",
       "<table border=\"1\" class=\"dataframe\">\n",
       "  <thead>\n",
       "    <tr style=\"text-align: right;\">\n",
       "      <th></th>\n",
       "      <th>1</th>\n",
       "      <th>2</th>\n",
       "      <th>3</th>\n",
       "      <th>4</th>\n",
       "      <th>5</th>\n",
       "    </tr>\n",
       "  </thead>\n",
       "  <tbody>\n",
       "    <tr>\n",
       "      <th>C1</th>\n",
       "      <td>2263.05</td>\n",
       "      <td>113.324</td>\n",
       "      <td>654.607</td>\n",
       "      <td>20.7919</td>\n",
       "      <td>7.40625</td>\n",
       "    </tr>\n",
       "    <tr>\n",
       "      <th>C2</th>\n",
       "      <td>646.56</td>\n",
       "      <td>22.6719</td>\n",
       "      <td>248.718</td>\n",
       "      <td>2.55063</td>\n",
       "      <td>0.834375</td>\n",
       "    </tr>\n",
       "    <tr>\n",
       "      <th>C3</th>\n",
       "      <td>715.229</td>\n",
       "      <td>90.5025</td>\n",
       "      <td>155.258</td>\n",
       "      <td>4.25875</td>\n",
       "      <td>2.44</td>\n",
       "    </tr>\n",
       "    <tr>\n",
       "      <th>C4</th>\n",
       "      <td>153.274</td>\n",
       "      <td>28.6569</td>\n",
       "      <td>12.9481</td>\n",
       "      <td>0.2575</td>\n",
       "      <td>0.7575</td>\n",
       "    </tr>\n",
       "    <tr>\n",
       "      <th>C5</th>\n",
       "      <td>3.04313</td>\n",
       "      <td>2.89625</td>\n",
       "      <td>1.47625</td>\n",
       "      <td>0.006875</td>\n",
       "      <td>0.214375</td>\n",
       "    </tr>\n",
       "  </tbody>\n",
       "</table>\n",
       "</div>"
      ],
      "text/plain": [
       "          1        2        3         4         5\n",
       "C1  2263.05  113.324  654.607   20.7919   7.40625\n",
       "C2   646.56  22.6719  248.718   2.55063  0.834375\n",
       "C3  715.229  90.5025  155.258   4.25875      2.44\n",
       "C4  153.274  28.6569  12.9481    0.2575    0.7575\n",
       "C5  3.04313  2.89625  1.47625  0.006875  0.214375"
      ]
     },
     "execution_count": 27,
     "metadata": {},
     "output_type": "execute_result"
    }
   ],
   "source": [
    "lg_cat"
   ]
  },
  {
   "cell_type": "code",
   "execution_count": 28,
   "metadata": {},
   "outputs": [
    {
     "data": {
      "image/png": "[encoded data removed]",
      "text/plain": [
       "<Figure size 432x288 with 1 Axes>"
      ]
     },
     "metadata": {
      "needs_background": "light"
     },
     "output_type": "display_data"
    }
   ],
   "source": [
    "figure_lg = lg_cat.astype('float').plot(kind='bar', title='Cyclone long term impact')\n",
    "figure_lg.set_ylabel('Area in $km^2$')\n",
    "figure_lg.set_xlabel('Wind speed categories')\n",
    "plt.show()"
   ]
  },
  {
   "cell_type": "code",
   "execution_count": null,
   "metadata": {},
   "outputs": [],
   "source": []
  }
 ],
 "metadata": {
  "kernelspec": {
   "display_name": "Python 3 (ipykernel)",
   "language": "python",
   "name": "python3"
  },
  "language_info": {
   "codemirror_mode": {
    "name": "ipython",
    "version": 3
   },
   "file_extension": ".py",
   "mimetype": "text/x-python",
   "name": "python",
   "nbconvert_exporter": "python",
   "pygments_lexer": "ipython3",
   "version": "3.8.10"
  }
 },
 "nbformat": 4,
 "nbformat_minor": 4
}
