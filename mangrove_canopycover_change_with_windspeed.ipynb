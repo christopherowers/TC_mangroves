{
 "cells": [
  {
   "cell_type": "markdown",
   "id": "f27faa88-dfaa-4aeb-8511-70caa9373b39",
   "metadata": {},
   "source": [
    "## canopy cover change with windspeed\n",
    "notebook to graph windspeed category with area of canopy cover affected\n",
    "\n",
    "- load mangrove before and after canopy classes\n",
    "- make after canopy classes 10, 20, 30, 2550\n",
    "- multiply together\n",
    "- xr.where to get areas only for canopy cover loss for each class (i.e. pixels of closed forest that were lost)\n",
    "- intersect with windspeed\n",
    "- graph of canopy cover class loss in each windspeed category for each cyclone"
   ]
  },
  {
   "cell_type": "code",
   "execution_count": null,
   "id": "7bc2ee1f-20fb-4455-a1ad-cda79007bdd7",
   "metadata": {},
   "outputs": [],
   "source": [
    "import datacube\n",
    "import numpy as np\n",
    "import xarray as xr\n",
    "import pandas as pd\n",
    "import os\n",
    "from datacube import Datacube\n",
    "from datacube.utils import geometry\n",
    "import rioxarray\n",
    "from datacube.utils.cog import write_cog\n",
    "dc = datacube.Datacube(app=\"cyclone mangroves\")\n",
    "\n",
    "pd.set_option('display.max_columns', None)\n"
   ]
  },
  {
   "cell_type": "markdown",
   "id": "f9e1c2a4-4de4-4473-b0f0-ee3d0c7e061a",
   "metadata": {},
   "source": [
    "### fill in data (doing one cyclone at a time for the moment)\n",
    "option to export area of canopy cover classes as csv"
   ]
  },
  {
   "cell_type": "code",
   "execution_count": null,
   "id": "015214da-13df-4d08-a8c0-53e341d750f1",
   "metadata": {},
   "outputs": [],
   "source": [
    "cyclone_name = 'Yasi'\n",
    "cyclone_time = 2011\n",
    "\n",
    "# cyclone_name = 'Larry'\n",
    "# cyclone_time = 2006\n",
    "\n",
    "# cyclone_name = 'Ita'\n",
    "# cyclone_time = 2014\n",
    "\n",
    "# cyclone_name = 'Marcia'\n",
    "# cyclone_time = 2015\n",
    "\n",
    "# cyclone_name = 'Nathan_Landfall1'\n",
    "# cyclone_time = 2015\n",
    "\n",
    "export_as_csv = True"
   ]
  },
  {
   "cell_type": "code",
   "execution_count": null,
   "id": "74e3d340-95aa-4822-a01a-8032b0205ef7",
   "metadata": {},
   "outputs": [],
   "source": []
  },
  {
   "cell_type": "code",
   "execution_count": null,
   "id": "90b68926-5016-479c-b046-4df80c996404",
   "metadata": {},
   "outputs": [],
   "source": []
  },
  {
   "cell_type": "code",
   "execution_count": null,
   "id": "301fe917-0914-4e6b-883d-4069f42a5331",
   "metadata": {},
   "outputs": [],
   "source": []
  },
  {
   "cell_type": "code",
   "execution_count": null,
   "id": "6f44f41c-7390-4d36-8695-5440ff7f5a8c",
   "metadata": {},
   "outputs": [],
   "source": []
  }
 ],
 "metadata": {
  "kernelspec": {
   "display_name": "Python 3 (ipykernel)",
   "language": "python",
   "name": "python3"
  },
  "language_info": {
   "codemirror_mode": {
    "name": "ipython",
    "version": 3
   },
   "file_extension": ".py",
   "mimetype": "text/x-python",
   "name": "python",
   "nbconvert_exporter": "python",
   "pygments_lexer": "ipython3",
   "version": "3.8.10"
  }
 },
 "nbformat": 4,
 "nbformat_minor": 5
}
