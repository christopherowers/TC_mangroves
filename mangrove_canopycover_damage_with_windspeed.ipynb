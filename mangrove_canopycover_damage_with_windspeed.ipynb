{
 "cells": [
  {
   "cell_type": "markdown",
   "id": "f27faa88-dfaa-4aeb-8511-70caa9373b39",
   "metadata": {},
   "source": [
    "## canopy cover damage with windspeed\n",
    "notebook to graph windspeed category with area of canopy cover affected\n",
    "\n",
    "- load mangrove before and after canopy classes\n",
    "- make before canopy classes 10, 20, 30, 2550\n",
    "- add together\n",
    "- xr.where to get areas only for canopy cover loss for each class (i.e. pixels of closed forest that were lost)\n",
    "    damage to closed forest (values of 30, 29, 28, -225)\n",
    "    damage to open forest (values of 20, 19, -235)\n",
    "    damage to woodland (values of 10, -245)\n",
    "- intersect with windspeed (based on xr.where statements - pretty hacky atm but gets the expected results\n",
    "- final output csv table is messy, but makes sure cyclone wind categories and mangrove damage categories are clear\n"
   ]
  },
  {
   "cell_type": "code",
   "execution_count": null,
   "id": "7bc2ee1f-20fb-4455-a1ad-cda79007bdd7",
   "metadata": {},
   "outputs": [],
   "source": [
    "import datacube\n",
    "import numpy as np\n",
    "import xarray as xr\n",
    "import pandas as pd\n",
    "import os\n",
    "from datacube import Datacube\n",
    "from datacube.utils import geometry\n",
    "import rioxarray\n",
    "from datacube.utils.cog import write_cog\n",
    "import rioxarray\n",
    "from datacube.testutils.io import rio_slurp_xarray\n",
    "\n",
    "dc = datacube.Datacube(app=\"cyclone mangroves\")\n",
    "\n",
    "pd.set_option('display.max_columns', None)"
   ]
  },
  {
   "cell_type": "markdown",
   "id": "f9e1c2a4-4de4-4473-b0f0-ee3d0c7e061a",
   "metadata": {},
   "source": [
    "### fill in data (doing one cyclone at a time for the moment)\n",
    "option to export area of canopy cover classes as csv"
   ]
  },
  {
   "cell_type": "code",
   "execution_count": null,
   "id": "015214da-13df-4d08-a8c0-53e341d750f1",
   "metadata": {},
   "outputs": [],
   "source": [
    "# cyclone_name = 'Yasi'\n",
    "# cyclone_time = 2011\n",
    "\n",
    "# cyclone_name = 'Larry'\n",
    "# cyclone_time = 2006\n",
    "\n",
    "# cyclone_name = 'Ita'\n",
    "# cyclone_time = 2014\n",
    "\n",
    "# cyclone_name = 'Marcia'\n",
    "# cyclone_time = 2015\n",
    "\n",
    "# cyclone_name = 'Lam'\n",
    "# cyclone_time = 2015\n",
    "\n",
    "# cyclone_name = 'George'\n",
    "# cyclone_time = 2007\n",
    "\n",
    "# cyclone_name = 'Ingrid_Landfall1'\n",
    "# cyclone_time = 2005\n",
    "\n",
    "# cyclone_name = 'Ingrid_Landfall2'\n",
    "# cyclone_time = 2005\n",
    "\n",
    "# cyclone_name = 'Ingrid_Landfall3'\n",
    "# cyclone_time = 2005\n",
    "\n",
    "# cyclone_name = 'Monica_Landfall1'\n",
    "# cyclone_time = 2006\n",
    "\n",
    "# cyclone_name = 'Monica_Landfall2'\n",
    "# cyclone_time = 2006\n",
    "\n",
    "# cyclone_name = 'Nathan_Landfall1'\n",
    "# cyclone_time = 2015\n",
    "\n",
    "# cyclone_name = 'Nathan_Landfall2'\n",
    "# cyclone_time = 2015\n",
    "\n",
    "cyclone_name = 'Laurence'\n",
    "cyclone_time = 2009\n",
    "\n",
    "export_as_csv = True"
   ]
  },
  {
   "cell_type": "markdown",
   "id": "25cb3af7-8f00-4722-bd64-a7aaf7d8b6b6",
   "metadata": {},
   "source": [
    "### load in geotiff"
   ]
  },
  {
   "cell_type": "code",
   "execution_count": null,
   "id": "90b68926-5016-479c-b046-4df80c996404",
   "metadata": {},
   "outputs": [],
   "source": [
    "geotiff_path = './FINALlocalWind/'+cyclone_name+'_30m_EPSG3577.tif'\n",
    "# Open into an xarray.DataArray\n",
    "geotiff_da = rioxarray.open_rasterio(geotiff_path)\n",
    "# change -9999 to 0 #### not sure this needs to be done, -9999 should be considered 'not cyclone'?\n",
    "geotiff_da = xr.where(geotiff_da == -9999, 0, geotiff_da.values)\n",
    "# Covert our xarray.DataArray into a xarray.Dataset\n",
    "geotiff_ds = geotiff_da.to_dataset('band')\n",
    "# Rename the variable to a more useful name\n",
    "dataset = geotiff_ds.rename({1: 'wind_speed'})"
   ]
  },
  {
   "cell_type": "markdown",
   "id": "49e9f389-4651-454d-8874-5d16b5d4ad56",
   "metadata": {},
   "source": [
    "### load mangrove data on extent of geotiff"
   ]
  },
  {
   "cell_type": "code",
   "execution_count": null,
   "id": "6f44f41c-7390-4d36-8695-5440ff7f5a8c",
   "metadata": {},
   "outputs": [],
   "source": [
    "# get extent of cyclone dataset\n",
    "geobox = dataset.extent"
   ]
  },
  {
   "cell_type": "code",
   "execution_count": null,
   "id": "f3f9a6aa-5bda-44ff-ac1b-d540092363f8",
   "metadata": {},
   "outputs": [],
   "source": [
    "# before cyclone\n",
    "time_before_cyclone = (str(cyclone_time-1) + '-01-01', str(cyclone_time-1) + '-12-31')\n",
    "\n",
    "bc_mangrove = dc.load(product = 'ga_ls_mangrove_cover_cyear_3', \n",
    "                            geopolygon=dataset.extent, \n",
    "                            output_crs='EPSG:3577', \n",
    "                            time = time_before_cyclone,\n",
    "                            resolution=(-30, 30))\n",
    "\n",
    "time_after_cyclone = (str(cyclone_time) + '-01-01', str(cyclone_time) + '-12-31')\n",
    "\n",
    "# after cyclone\n",
    "ac_mangrove = dc.load(product = 'ga_ls_mangrove_cover_cyear_3', \n",
    "                            geopolygon=dataset.extent, \n",
    "                            output_crs='EPSG:3577', \n",
    "                            time = time_after_cyclone,\n",
    "                            resolution=(-30, 30))"
   ]
  },
  {
   "cell_type": "markdown",
   "id": "59ccc2d6-5fc1-4ec2-908e-89799da2e30d",
   "metadata": {},
   "source": [
    "### get mangrove damage pixels"
   ]
  },
  {
   "cell_type": "code",
   "execution_count": null,
   "id": "9743940c-cfe4-4c59-9a13-bc3005ec09f2",
   "metadata": {},
   "outputs": [],
   "source": [
    "# change bc_mangrove from 0,1,2,3,255 --> 0,10,20,30,2550\n",
    "bc_mangrove_times10 = bc_mangrove.astype(dtype='int16') * 10\n",
    "# check output is correct\n",
    "# np.unique(bc_mangrove_times10.canopy_cover_class)\n",
    "\n",
    "# change ac_mangrove to int16 as well\n",
    "ac_mangrove_int = ac_mangrove.astype(dtype='int16')\n",
    "\n",
    "# add together, remove time dim\n",
    "mangrove_added = bc_mangrove_times10.canopy_cover_class.squeeze('time') - ac_mangrove_int.canopy_cover_class.squeeze('time')"
   ]
  },
  {
   "cell_type": "code",
   "execution_count": null,
   "id": "1e67756a-387f-4ce2-91b7-3e279b4240ae",
   "metadata": {},
   "outputs": [],
   "source": [
    "# get only damage values\n",
    "mangrove_damage = xr.where((mangrove_added == -245) | (mangrove_added == 10) | # damage to woodland\n",
    "                           (mangrove_added == -235) | (mangrove_added == 20) | (mangrove_added == 19) | # damage to open forest\n",
    "                           (mangrove_added == -225) | (mangrove_added == 30) | (mangrove_added == 29) | (mangrove_added == 28), # damage to closed forest\n",
    "                           mangrove_added.values, 0)\n",
    "\n",
    "np.unique(mangrove_damage.values)"
   ]
  },
  {
   "cell_type": "code",
   "execution_count": null,
   "id": "062305d7-20c6-4568-b270-44623dcd91f3",
   "metadata": {},
   "outputs": [],
   "source": [
    "# successive where statements to get damage categories back to simple 1,2,3 categories\n",
    "woodland_damage = xr.where((mangrove_damage == -245) | (mangrove_damage == 10), 1, mangrove_damage.values)\n",
    "openforest_damage = xr.where((woodland_damage == -235) | (woodland_damage == 20) | (woodland_damage == 19), 2, woodland_damage.values)\n",
    "closedforest_damage = xr.where((openforest_damage == -225) | (openforest_damage == 30) | (openforest_damage == 29) | (openforest_damage == 28), 3, openforest_damage.values)\n",
    "\n",
    "total_mangrove_damage = closedforest_damage.astype('uint8')\n",
    "del woodland_damage, openforest_damage, closedforest_damage\n",
    "\n",
    "# check it worked as expected\n",
    "np.unique(total_mangrove_damage.values)"
   ]
  },
  {
   "cell_type": "markdown",
   "id": "bce49431-8e0a-4d85-ad15-831b212363b9",
   "metadata": {},
   "source": [
    "### rework to get geotiff as identical dc.load for mangroves"
   ]
  },
  {
   "cell_type": "code",
   "execution_count": null,
   "id": "5839099f-467e-492a-b9ae-f4f9beef56af",
   "metadata": {},
   "outputs": [],
   "source": [
    "# get geometry box from geotiff\n",
    "full_box = geometry.GeoBox.from_geopolygon(geobox, resolution=(30, -30))\n",
    "\n",
    "# load in geotiff again but with identical extent from dc.load mangroves\n",
    "cyclone_da = rio_slurp_xarray(geotiff_path, gbox=ac_mangrove.geobox)\n",
    "# change -9999 to 0 #### not sure this needs to be done, -9999 should be considered 'not cyclone'?\n",
    "# cyclone_da = xr.where(cyclone_da == -9999, 0, cyclone_da.values)\n",
    "# add time dimension\n",
    "cyclone_da_time = cyclone_da.expand_dims(dim={\"time\": ac_mangrove.time})\n",
    "# Covert our xarray.DataArray into a xarray.Dataset\n",
    "cyclone_ds = cyclone_da_time.to_dataset(name=\"wind_speed\")\n",
    "\n",
    "# copy over attributes\n",
    "cyclone_ds.attrs['grid_mapping'] = ac_mangrove.attrs['grid_mapping']\n",
    "cyclone_ds.attrs['crs'] = ac_mangrove.attrs['crs']"
   ]
  },
  {
   "cell_type": "code",
   "execution_count": null,
   "id": "0d92a6a3-19b0-4a4a-88d7-f3cffeda62eb",
   "metadata": {},
   "outputs": [],
   "source": [
    "windspeed_category = {'C1': [0., 125*1000/60**2],\n",
    "                        'C2':[125*1000/60**2, 165*1000/60**2],\n",
    "                        'C3': [165*1000/60**2, 225*1000/60**2], \n",
    "                        'C4': [225*1000/60**2, 280*1000/60**2],\n",
    "                        'C5': [280*1000/60**2, 9999.]}\n",
    "windspeed_category"
   ]
  },
  {
   "cell_type": "code",
   "execution_count": null,
   "id": "d7ebba36-7aef-425b-bc54-6d2986a752d2",
   "metadata": {},
   "outputs": [],
   "source": [
    "cyclone_windspeed = cyclone_ds.wind_speed.squeeze('time')"
   ]
  },
  {
   "cell_type": "code",
   "execution_count": null,
   "id": "6885d445-38dd-44c3-bb69-3372e6242e5d",
   "metadata": {},
   "outputs": [],
   "source": [
    "# get cyclone dataset into windspeed categories, successive where statements like above\n",
    "cyclone_ds_c1 = xr.where((cyclone_windspeed >= 0.0) & (cyclone_windspeed < 34.72222222222222), 1, cyclone_windspeed.values)\n",
    "cyclone_ds_c2 = xr.where((cyclone_ds_c1 >= 34.72222222222222) & (cyclone_ds_c1 < 45.833333333333336), 2, cyclone_ds_c1.values)\n",
    "cyclone_ds_c3 = xr.where((cyclone_ds_c2 >= 45.833333333333336) & (cyclone_ds_c2 < 62.5), 3, cyclone_ds_c2.values)\n",
    "cyclone_ds_c4 = xr.where((cyclone_ds_c3 >= 62.5) & (cyclone_ds_c3 < 77.77777777777777), 4, cyclone_ds_c3.values)\n",
    "cyclone_ds_c5 = xr.where((cyclone_ds_c4 >= 77.77777777777777) & (cyclone_ds_c4 < 9999.0), 5, cyclone_ds_c4.values)\n",
    "\n",
    "cyclone_categories = cyclone_ds_c5\n",
    "del cyclone_ds_c1, cyclone_ds_c2, cyclone_ds_c3, cyclone_ds_c4, cyclone_ds_c5\n",
    "\n",
    "# check it worked as expected\n",
    "np.unique(cyclone_categories)"
   ]
  },
  {
   "cell_type": "markdown",
   "id": "2bdd7c80-55f2-4fa6-9b5e-d9df7dd401fd",
   "metadata": {},
   "source": [
    "### get mangrove damage area relative to wind category"
   ]
  },
  {
   "cell_type": "code",
   "execution_count": null,
   "id": "d4a5334f-333d-4ba5-8aec-7ec0cf99eec7",
   "metadata": {},
   "outputs": [],
   "source": [
    "# create dataframe to append to\n",
    "df = pd.DataFrame()\n",
    "\n",
    "# for damage canopy cover class (0,1,2,3)\n",
    "for c in np.unique(total_mangrove_damage):\n",
    "    category = cyclone_categories.where(total_mangrove_damage == c)\n",
    "    unique, counts = np.unique(category, return_counts=True)\n",
    "    item = np.asarray((unique, counts)).T\n",
    "    # this next line makes the table messy, but couldn't find a better way to make sure \n",
    "    # area values alligned with unique cyclone wind category\n",
    "    df['class '+str(c)+' unique values'] = pd.Series(unique)\n",
    "    # append to df (divide counts by 0.0009 to give area in km2)\n",
    "    df['class '+str(c)+ ' area (km2)'] = pd.Series(counts*0.0009)"
   ]
  },
  {
   "cell_type": "code",
   "execution_count": null,
   "id": "032b4224-18bf-4e9a-a6f9-6183f265897a",
   "metadata": {},
   "outputs": [],
   "source": [
    "df"
   ]
  },
  {
   "cell_type": "code",
   "execution_count": null,
   "id": "82428858-6af5-4a5e-a93e-e5119e5b393f",
   "metadata": {},
   "outputs": [],
   "source": [
    "# export as csv?\n",
    "if export_as_csv == True:\n",
    "    df.to_csv('./'+cyclone_name+'_canopycover_damage_with_windspeed_area_km2.csv')\n",
    "else:\n",
    "    pass"
   ]
  }
 ],
 "metadata": {
  "kernelspec": {
   "display_name": "Python 3 (ipykernel)",
   "language": "python",
   "name": "python3"
  },
  "language_info": {
   "codemirror_mode": {
    "name": "ipython",
    "version": 3
   },
   "file_extension": ".py",
   "mimetype": "text/x-python",
   "name": "python",
   "nbconvert_exporter": "python",
   "pygments_lexer": "ipython3",
   "version": "3.8.10"
  }
 },
 "nbformat": 4,
 "nbformat_minor": 5
}
