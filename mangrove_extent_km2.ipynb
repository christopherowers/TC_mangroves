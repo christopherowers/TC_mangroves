{
 "cells": [
  {
   "cell_type": "markdown",
   "id": "e695a0b1-cfca-4cdb-997a-e46f34d4da91",
   "metadata": {},
   "source": [
    "### Get mangroves for all years for AOI and calc extent changes for canopy cover classes"
   ]
  },
  {
   "cell_type": "code",
   "execution_count": null,
   "id": "36540906-e708-493c-8125-50f1b66baac5",
   "metadata": {},
   "outputs": [],
   "source": [
    "import datacube\n",
    "import numpy as np\n",
    "import xarray as xr\n",
    "import pandas as pd\n",
    "import os\n",
    "from datacube import Datacube\n",
    "from datacube.utils import geometry\n",
    "import rioxarray\n",
    "from datacube.utils.cog import write_cog\n",
    "dc = datacube.Datacube(app=\"cyclone mangroves\")\n",
    "\n",
    "pd.set_option('display.max_columns', None)\n"
   ]
  },
  {
   "cell_type": "markdown",
   "id": "caee003c-b10d-454e-becf-b06d1d0ff3ac",
   "metadata": {},
   "source": [
    "### fill in data (doing one cyclone at a time for the moment)\n",
    "option to export area of canopy cover classes as csv\n",
    "option to export geotiff of before and after cyclone mangrove dataset"
   ]
  },
  {
   "cell_type": "code",
   "execution_count": null,
   "id": "23b3cfe8-0dc5-4556-b2b1-804af366bd17",
   "metadata": {},
   "outputs": [],
   "source": [
    "# cyclone_name = 'Yasi'\n",
    "# cyclone_time = 2011\n",
    "\n",
    "# cyclone_name = 'Larry'\n",
    "# cyclone_time = 2006\n",
    "\n",
    "# cyclone_name = 'Ita'\n",
    "# cyclone_time = 2014\n",
    "\n",
    "# cyclone_name = 'Marcia'\n",
    "# cyclone_time = 2015\n",
    "\n",
    "# cyclone_name = 'Lam'\n",
    "# cyclone_time = 2015\n",
    "\n",
    "# cyclone_name = 'George'\n",
    "# cyclone_time = 2007\n",
    "\n",
    "# cyclone_name = 'Ingrid_Landfall1'\n",
    "# cyclone_time = 2005\n",
    "\n",
    "# cyclone_name = 'Ingrid_Landfall2'\n",
    "# cyclone_time = 2005\n",
    "\n",
    "# cyclone_name = 'Ingrid_Landfall3'\n",
    "# cyclone_time = 2005\n",
    "\n",
    "# cyclone_name = 'Monica_Landfall1'\n",
    "# cyclone_time = 2006\n",
    "\n",
    "# cyclone_name = 'Monica_Landfall2'\n",
    "# cyclone_time = 2006\n",
    "\n",
    "# cyclone_name = 'Nathan_Landfall1'\n",
    "# cyclone_time = 2015\n",
    "\n",
    "# cyclone_name = 'Nathan_Landfall2'\n",
    "# cyclone_time = 2015\n",
    "\n",
    "cyclone_name = 'Laurence'\n",
    "cyclone_time = 2009\n",
    "\n",
    "export_as_csv = True\n",
    "\n",
    "export_before_after_cyclone_mangrove_dataset = True"
   ]
  },
  {
   "cell_type": "markdown",
   "id": "cf560d11-024f-42c4-89bf-d5cfb01039e6",
   "metadata": {},
   "source": [
    "### load in geotiff"
   ]
  },
  {
   "cell_type": "code",
   "execution_count": null,
   "id": "efdb23d1-f5c4-4d17-a612-61d9b5fd7d02",
   "metadata": {},
   "outputs": [],
   "source": [
    "geotiff_path = './FINALlocalWind/'+cyclone_name+'_30m_EPSG3577.tif'\n",
    "# Open into an xarray.DataArray\n",
    "geotiff_da = rioxarray.open_rasterio(geotiff_path)\n",
    "# change -9999 to 0 #### not sure this needs to be done, -9999 should be considered 'not cyclone'?\n",
    "geotiff_da = xr.where(geotiff_da == -9999, 0, geotiff_da.values)\n",
    "# Covert our xarray.DataArray into a xarray.Dataset\n",
    "geotiff_ds = geotiff_da.to_dataset('band')\n",
    "# Rename the variable to a more useful name\n",
    "dataset = geotiff_ds.rename({1: 'wind_speed'})# get extent of cyclone dataset\n",
    "geobox = dataset.extent"
   ]
  },
  {
   "cell_type": "markdown",
   "id": "82d89ed4-0b9d-4649-beeb-78dfc0a50b77",
   "metadata": {},
   "source": [
    "### load mangrove data on extent of geotiff"
   ]
  },
  {
   "cell_type": "code",
   "execution_count": null,
   "id": "e7d339a5-deec-4143-afcd-ce95784a9bb4",
   "metadata": {},
   "outputs": [],
   "source": [
    "# get extent of cyclone dataset\n",
    "geobox = dataset.extent"
   ]
  },
  {
   "cell_type": "code",
   "execution_count": null,
   "id": "357d109e-e80f-438d-8785-24fd1283a740",
   "metadata": {},
   "outputs": [],
   "source": [
    "# 1987 - 2021 datasets\n",
    "mangrove_datasets = dc.load(product = 'ga_ls_mangrove_cover_cyear_3', \n",
    "                            geopolygon=dataset.extent, \n",
    "                            output_crs='EPSG:3577', \n",
    "#                             time = ('2010-01-01', '2011-12-31'),\n",
    "                            resolution=(-30, 30))"
   ]
  },
  {
   "cell_type": "markdown",
   "id": "4ff596f7-8bb2-4865-b178-028653f2d383",
   "metadata": {},
   "source": [
    "### create dataframe and append areas (km2 - multiple each pixel by 0.0009) for each annual mangrove dataset\n",
    "\n",
    "##### 0 = not observed/missing data\n",
    "##### 1 = 20-50% canopy cover\n",
    "##### 2 = 50-80% canopy cover\n",
    "##### 3 = 80-100% canopy cover\n",
    "##### 255 =  no mangroves\n"
   ]
  },
  {
   "cell_type": "code",
   "execution_count": null,
   "id": "66778273-3ed7-4967-be28-659c2860eab4",
   "metadata": {},
   "outputs": [],
   "source": [
    "# set up df with rows for each canopy_cover_class\n",
    "df = pd.DataFrame([0, 1, 2, 3, 255])\n",
    "\n",
    "# for each time\n",
    "for t in mangrove_datasets.canopy_cover_class:\n",
    "    # get year as string\n",
    "    time = str(t.time.values)[:4]\n",
    "    # get canopy_cover_class and pixel counts\n",
    "    unique, counts = np.unique(t, return_counts=True)\n",
    "    item = np.asarray((unique, counts)).T\n",
    "    # check values looks correct\n",
    "#     print(item)\n",
    "    # append to df (divide counts by 0.0009 to give area in km2)\n",
    "    df[time] = pd.Series(counts*0.0009)"
   ]
  },
  {
   "cell_type": "code",
   "execution_count": null,
   "id": "a7aecb05-644e-4b4a-a6e3-d7da9c225dc8",
   "metadata": {},
   "outputs": [],
   "source": [
    "df"
   ]
  },
  {
   "cell_type": "markdown",
   "id": "a61169af-7b1c-4297-9d26-0a7e989cece9",
   "metadata": {},
   "source": [
    "#### export"
   ]
  },
  {
   "cell_type": "code",
   "execution_count": null,
   "id": "b13a8bd3-9a8c-4be7-850f-a6c276085e1d",
   "metadata": {},
   "outputs": [],
   "source": [
    "# export as csv?\n",
    "if export_as_csv == True:\n",
    "    df.to_csv('./'+cyclone_name+'_area_km2.csv')\n",
    "else:\n",
    "    pass"
   ]
  },
  {
   "cell_type": "code",
   "execution_count": null,
   "id": "f53421e9-44d4-4ec4-ac60-2e705aecd449",
   "metadata": {},
   "outputs": [],
   "source": [
    "# export before and after cyclone datasets\n",
    "if export_before_after_cyclone_mangrove_dataset == True:\n",
    "    # get 1 year before and year of cyclone data\n",
    "    time_of_cyclone = (str(cyclone_time - 1) + '-01-01', str(cyclone_time) + '-12-31')\n",
    "\n",
    "    # before and after cyclone datasets\n",
    "    mangrove_datasets = dc.load(product = 'ga_ls_mangrove_cover_cyear_3', \n",
    "                                geopolygon=dataset.extent, \n",
    "                                output_crs='EPSG:3577', \n",
    "                                time = time_of_cyclone,\n",
    "                                resolution=(-30, 30))\n",
    "    # for time in canopy_cover_class\n",
    "    for t in mangrove_datasets.canopy_cover_class:\n",
    "        # get time as string for filesave\n",
    "        time = str(t.time.values)[:4]\n",
    "        print(time)\n",
    "        write_cog(geo_im=t,\n",
    "                  fname='./'+cyclone_name+'_mangrove_canopy_cover_'+time+'.tif',\n",
    "                  overwrite=True)\n",
    "else:\n",
    "    pass"
   ]
  }
 ],
 "metadata": {
  "kernelspec": {
   "display_name": "Python 3 (ipykernel)",
   "language": "python",
   "name": "python3"
  },
  "language_info": {
   "codemirror_mode": {
    "name": "ipython",
    "version": 3
   },
   "file_extension": ".py",
   "mimetype": "text/x-python",
   "name": "python",
   "nbconvert_exporter": "python",
   "pygments_lexer": "ipython3",
   "version": "3.8.10"
  }
 },
 "nbformat": 4,
 "nbformat_minor": 5
}
