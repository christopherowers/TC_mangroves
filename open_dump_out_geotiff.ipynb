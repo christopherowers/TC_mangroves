{
 "cells": [
  {
   "cell_type": "markdown",
   "id": "0ec7a5a6-ca7d-4598-8a93-3a986649565c",
   "metadata": {},
   "source": [
    "#### just opening the netcdf `dump=True` from `Cyclone_damage_funcs.py`\n",
    "#### then saving out as geotiff "
   ]
  },
  {
   "cell_type": "code",
   "execution_count": 60,
   "id": "684a50f4-fcf1-43c1-8a99-917323365770",
   "metadata": {},
   "outputs": [],
   "source": [
    "import glob\n",
    "import numpy as np\n",
    "import xarray as xr\n",
    "import rioxarray\n",
    "import datacube\n",
    "from datacube.testutils.io import rio_slurp_xarray\n",
    "from datacube.utils.cog import write_cog"
   ]
  },
  {
   "cell_type": "code",
   "execution_count": 61,
   "id": "6e83470b-1fd3-4404-a0f9-28ad73d467ad",
   "metadata": {},
   "outputs": [],
   "source": [
    "cyclone_name = 'Yasi'"
   ]
  },
  {
   "cell_type": "markdown",
   "id": "0a993fc6-17d3-4f4a-9e6b-565c07297969",
   "metadata": {},
   "source": [
    "#### immediate impacts (cyclone year before and cyclone year after)"
   ]
  },
  {
   "cell_type": "code",
   "execution_count": null,
   "id": "9fbf6f34-857a-47d9-b720-a62a30d0c8ae",
   "metadata": {},
   "outputs": [],
   "source": []
  },
  {
   "cell_type": "markdown",
   "id": "d47ed233-87be-4a62-afc4-46b6d42e1c2f",
   "metadata": {},
   "source": [
    "#### long term impacts"
   ]
  },
  {
   "cell_type": "code",
   "execution_count": 62,
   "id": "0e336de3-546f-4dfc-ae56-b05bb771811c",
   "metadata": {},
   "outputs": [
    {
     "name": "stdout",
     "output_type": "stream",
     "text": [
      "['./Yasi/Yasi_138_-191_all.nc', './Yasi/Yasi_144_-201_all.nc', './Yasi/Yasi_144_-211_all.nc', './Yasi/Yasi_144_-191_all.nc', './Yasi/Yasi_153_-219_all.nc', './Yasi/Yasi_144_-219_all.nc']\n"
     ]
    }
   ],
   "source": [
    "# all = long term impacts\n",
    "nc_all = (glob.glob('./'+cyclone_name+'/*_all.nc'))\n",
    "print(glob.glob('./'+cyclone_name+'/*_all.nc'))"
   ]
  },
  {
   "cell_type": "code",
   "execution_count": 67,
   "id": "8e66fe50-4b94-4fd3-a482-ae6aff604eb5",
   "metadata": {},
   "outputs": [
    {
     "name": "stdout",
     "output_type": "stream",
     "text": [
      "Yasi_138_-191_all\n",
      "[-1]\n",
      "Yasi_144_-201_all\n",
      "[-1  0  1  2  3  4  5]\n",
      "Yasi_144_-211_all\n",
      "[-1  0  1  2  3  4  5]\n",
      "Yasi_144_-191_all\n",
      "[-1  0  1  3  4  5]\n",
      "Yasi_153_-219_all\n",
      "[-1  0  1  2  3  4  5]\n",
      "Yasi_144_-219_all\n",
      "[-1  0  1  2  3  4]\n"
     ]
    }
   ],
   "source": [
    "for i in nc_all:\n",
    "    nc_ds = xr.open_dataset(i)\n",
    "    singleband_da = nc_ds.damage_level.isel(time=0)\n",
    "    print(i[7:-3])\n",
    "    print(np.unique(singleband_da.values))\n",
    "    # Write GeoTIFF to a location\n",
    "    write_cog(geo_im=singleband_da,\n",
    "              fname=i[7:-3]+'.tif',\n",
    "              overwrite=True)\n"
   ]
  },
  {
   "cell_type": "code",
   "execution_count": null,
   "id": "6a1e3ce2-bec9-4092-8f01-b6a5106dd66e",
   "metadata": {},
   "outputs": [],
   "source": []
  }
 ],
 "metadata": {
  "kernelspec": {
   "display_name": "Python 3 (ipykernel)",
   "language": "python",
   "name": "python3"
  },
  "language_info": {
   "codemirror_mode": {
    "name": "ipython",
    "version": 3
   },
   "file_extension": ".py",
   "mimetype": "text/x-python",
   "name": "python",
   "nbconvert_exporter": "python",
   "pygments_lexer": "ipython3",
   "version": "3.8.10"
  }
 },
 "nbformat": 4,
 "nbformat_minor": 5
}
