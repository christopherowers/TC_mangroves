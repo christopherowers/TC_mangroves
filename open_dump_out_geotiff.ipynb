{
 "cells": [
  {
   "cell_type": "markdown",
   "id": "0ec7a5a6-ca7d-4598-8a93-3a986649565c",
   "metadata": {},
   "source": [
    "#### just opening the netcdf `dump=True` from `Cyclone_damage_funcs.py`\n",
    "#### then saving out as geotiff "
   ]
  },
  {
   "cell_type": "code",
   "execution_count": 1,
   "id": "684a50f4-fcf1-43c1-8a99-917323365770",
   "metadata": {},
   "outputs": [],
   "source": [
    "import glob\n",
    "import numpy as np\n",
    "import xarray as xr\n",
    "import rioxarray\n",
    "import datacube\n",
    "from datacube.testutils.io import rio_slurp_xarray\n",
    "from datacube.utils.cog import write_cog"
   ]
  },
  {
   "cell_type": "code",
   "execution_count": 2,
   "id": "6e83470b-1fd3-4404-a0f9-28ad73d467ad",
   "metadata": {},
   "outputs": [],
   "source": [
    "cyclone_name = 'Yasi'"
   ]
  },
  {
   "cell_type": "markdown",
   "id": "0a993fc6-17d3-4f4a-9e6b-565c07297969",
   "metadata": {},
   "source": [
    "#### immediate impacts (cyclone year before and cyclone year after)"
   ]
  },
  {
   "cell_type": "code",
   "execution_count": null,
   "id": "9fbf6f34-857a-47d9-b720-a62a30d0c8ae",
   "metadata": {},
   "outputs": [],
   "source": []
  },
  {
   "cell_type": "markdown",
   "id": "d47ed233-87be-4a62-afc4-46b6d42e1c2f",
   "metadata": {},
   "source": [
    "#### long term impacts"
   ]
  },
  {
   "cell_type": "code",
   "execution_count": 3,
   "id": "0e336de3-546f-4dfc-ae56-b05bb771811c",
   "metadata": {},
   "outputs": [
    {
     "name": "stdout",
     "output_type": "stream",
     "text": [
      "['./Yasi/Yasi_138_-191_all.nc', './Yasi/Yasi_144_-201_all.nc', './Yasi/Yasi_144_-211_all.nc', './Yasi/Yasi_144_-191_all.nc', './Yasi/Yasi_153_-219_all.nc', './Yasi/Yasi_144_-219_all.nc']\n"
     ]
    }
   ],
   "source": [
    "# all = long term impacts\n",
    "nc_all = (glob.glob('./'+cyclone_name+'/*_all.nc'))\n",
    "print(glob.glob('./'+cyclone_name+'/*_all.nc'))"
   ]
  },
  {
   "cell_type": "code",
   "execution_count": null,
   "id": "d6916e35-9e66-47e7-8fb0-f7efa04e3898",
   "metadata": {},
   "outputs": [],
   "source": [
    "# nc_ds = xr.open_dataset('./'+cyclone_name+'/Yasi_144_-211_all.nc')\n",
    "# singleband_da = nc_ds.damage_level.isel(time=0)\n",
    "# # singleband_da.attrs['crs'] = 'EPSG:3577'"
   ]
  },
  {
   "cell_type": "code",
   "execution_count": null,
   "id": "4730afdf-e2e8-4a23-abc5-beec31823a61",
   "metadata": {},
   "outputs": [],
   "source": [
    "# nc_ds"
   ]
  },
  {
   "cell_type": "code",
   "execution_count": 5,
   "id": "e1da17dc-fee1-4533-a88e-940134b44af6",
   "metadata": {},
   "outputs": [
    {
     "data": {
      "text/plain": [
       "{'grid_mapping': 'spatial_ref'}"
      ]
     },
     "execution_count": 5,
     "metadata": {},
     "output_type": "execute_result"
    }
   ],
   "source": [
    "# singleband_da.attrs"
   ]
  },
  {
   "cell_type": "code",
   "execution_count": null,
   "id": "fa6603ef-879a-4708-a875-e55cc0bbff6f",
   "metadata": {},
   "outputs": [],
   "source": [
    "# write_cog(geo_im=singleband_da, fname='Yasi_144_-211_all.tif',\n",
    "#               overwrite=True)"
   ]
  },
  {
   "cell_type": "code",
   "execution_count": null,
   "id": "5d0822ba-b7aa-4237-bf59-572588f59426",
   "metadata": {},
   "outputs": [],
   "source": [
    "# singleband_da.rio.to_raster(raster_path=\"Yasi_144_-211_all_rio.tif\", driver='GTiff')"
   ]
  },
  {
   "cell_type": "code",
   "execution_count": null,
   "id": "3bb4d989-3bf3-4d85-b387-38bdf9e50314",
   "metadata": {},
   "outputs": [],
   "source": [
    "# nc_ds = xr.open_dataset('Yasi_144_-211_all.tif')\n",
    "# nc_ds"
   ]
  },
  {
   "cell_type": "code",
   "execution_count": 4,
   "id": "8e66fe50-4b94-4fd3-a482-ae6aff604eb5",
   "metadata": {},
   "outputs": [
    {
     "name": "stdout",
     "output_type": "stream",
     "text": [
      "Yasi_138_-191_all\n",
      "[-1]\n",
      "Yasi_144_-201_all\n",
      "[-1  0  1  2  3  4  5]\n",
      "Yasi_144_-211_all\n",
      "[-1  0  1  2  3  4  5]\n",
      "Yasi_144_-191_all\n",
      "[-1  0  1  3  4  5]\n",
      "Yasi_153_-219_all\n",
      "[-1  0  1  2  3  4  5]\n",
      "Yasi_144_-219_all\n",
      "[-1  0  1  2  3  4]\n"
     ]
    }
   ],
   "source": [
    "for i in nc_all:\n",
    "    # open dataset\n",
    "    nc_ds = xr.open_dataset(i)\n",
    "    # select time=0\n",
    "    singleband_da = nc_ds.damage_level.isel(time=0)\n",
    "    # print name and unique values in dataset\n",
    "    print(i[7:-3])\n",
    "    print(np.unique(singleband_da.values))\n",
    "    # Write GeoTIFF to a location\n",
    "    write_cog(geo_im=singleband_da,\n",
    "              fname=i[7:-3]+'.tif',\n",
    "              overwrite=True)\n"
   ]
  },
  {
   "cell_type": "code",
   "execution_count": null,
   "id": "6a1e3ce2-bec9-4092-8f01-b6a5106dd66e",
   "metadata": {},
   "outputs": [],
   "source": [
    "'''\n",
    "commandline gdal to get mosaic\n",
    "\n",
    "# _all = long term damage\n",
    "\n",
    "\n",
    "# adjust NS resolution \n",
    "for file in *.tif; \n",
    "    do echo \"$file\"; gdalwarp -t_srs EPSG:3577 -dstnodata -9999 -overwrite \"$file\" \"$(basename \"$file\" .tif)_.tif\"\n",
    "done\n",
    "\n",
    "# create vrt\n",
    "gdalbuildvrt -o Yasi_all.vrt *_.tif\n",
    "\n",
    "# make into tif\n",
    "gdal_translate -of GTiff -co \"COMPRESS=LZW\" -co \"TILED=YES\" -co \"BIGTIFF=YES\" Yasi_all.vrt Yasi_all.tif\n",
    "\n",
    "# open .tif in GIS\n",
    "'''"
   ]
  }
 ],
 "metadata": {
  "kernelspec": {
   "display_name": "Python 3 (ipykernel)",
   "language": "python",
   "name": "python3"
  },
  "language_info": {
   "codemirror_mode": {
    "name": "ipython",
    "version": 3
   },
   "file_extension": ".py",
   "mimetype": "text/x-python",
   "name": "python",
   "nbconvert_exporter": "python",
   "pygments_lexer": "ipython3",
   "version": "3.8.10"
  }
 },
 "nbformat": 4,
 "nbformat_minor": 5
}
