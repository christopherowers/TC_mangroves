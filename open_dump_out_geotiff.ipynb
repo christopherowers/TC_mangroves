{
 "cells": [
  {
   "cell_type": "markdown",
   "id": "0ec7a5a6-ca7d-4598-8a93-3a986649565c",
   "metadata": {},
   "source": [
    "#### just opening the netcdf `dump=True` from `Cyclone_damage_funcs.py`\n",
    "#### then saving out as mosaic geotiff \n",
    "##### currently hardcoded for Yasi"
   ]
  },
  {
   "cell_type": "code",
   "execution_count": 1,
   "id": "684a50f4-fcf1-43c1-8a99-917323365770",
   "metadata": {},
   "outputs": [],
   "source": [
    "import glob, os\n",
    "from os import path\n",
    "import numpy as np\n",
    "import xarray as xr\n",
    "import rioxarray\n",
    "import datacube\n",
    "from datacube.testutils.io import rio_slurp_xarray\n",
    "from datacube.utils.cog import write_cog"
   ]
  },
  {
   "cell_type": "code",
   "execution_count": 2,
   "id": "6e83470b-1fd3-4404-a0f9-28ad73d467ad",
   "metadata": {},
   "outputs": [],
   "source": [
    "cyclone_name = 'Yasi'\n",
    "\n",
    "make_dir = True"
   ]
  },
  {
   "cell_type": "code",
   "execution_count": 3,
   "id": "173a3fc9-5132-45f2-9103-1a75eccdd081",
   "metadata": {},
   "outputs": [],
   "source": [
    "if make_dir == True:\n",
    "    if path.exists(cyclone_name+'_tifs') == False:\n",
    "        os.mkdir(cyclone_name+'_tifs')\n",
    "    else:\n",
    "        print('folder already exists')\n",
    "else:\n",
    "    pass"
   ]
  },
  {
   "cell_type": "markdown",
   "id": "0a993fc6-17d3-4f4a-9e6b-565c07297969",
   "metadata": {},
   "source": [
    "#### immediate impacts (cyclone year before and cyclone year after)\n",
    "filenames like `Yasi_138_-191_2010-07-02_2011-07-02` which is year of cyclone and year after "
   ]
  },
  {
   "cell_type": "code",
   "execution_count": 4,
   "id": "9fbf6f34-857a-47d9-b720-a62a30d0c8ae",
   "metadata": {},
   "outputs": [
    {
     "name": "stdout",
     "output_type": "stream",
     "text": [
      "['./Yasi/Yasi_144_-191_2010-07-02_2011-07-02.nc', './Yasi/Yasi_153_-219_2010-07-02_2011-07-02.nc', './Yasi/Yasi_138_-191_2010-07-02_2011-07-02.nc', './Yasi/Yasi_144_-201_2010-07-02_2011-07-02.nc', './Yasi/Yasi_144_-219_2010-07-02_2011-07-02.nc', './Yasi/Yasi_144_-211_2010-07-02_2011-07-02.nc']\n"
     ]
    }
   ],
   "source": [
    "# e.g. 2010-07-02_2011-07-02 = immediate impacts for Yasi\n",
    "nc_all = (glob.glob('./'+cyclone_name+'/*_2010-07-02_2011-07-02.nc'))\n",
    "print(glob.glob('./'+cyclone_name+'/*_2010-07-02_2011-07-02.nc'))"
   ]
  },
  {
   "cell_type": "code",
   "execution_count": 5,
   "id": "7aa72351-caa9-4735-9e14-007d5cbcd7f9",
   "metadata": {},
   "outputs": [
    {
     "name": "stdout",
     "output_type": "stream",
     "text": [
      "Yasi_144_-191_2010-07-02_2011-07-02\n",
      "[-1  0  1  2  3  4]\n",
      "Yasi_153_-219_2010-07-02_2011-07-02\n",
      "[-1  0  1  2  3  4]\n",
      "Yasi_138_-191_2010-07-02_2011-07-02\n",
      "[-1]\n",
      "Yasi_144_-201_2010-07-02_2011-07-02\n",
      "[-1  0  1  2  3  4]\n",
      "Yasi_144_-219_2010-07-02_2011-07-02\n",
      "[-1  0  1  3  4]\n",
      "Yasi_144_-211_2010-07-02_2011-07-02\n",
      "[-1  0  1  2  3  4]\n"
     ]
    }
   ],
   "source": [
    "if path.exists(cyclone_name+'_tifs/cyclone_damage_immediate/') == False:\n",
    "    os.mkdir(cyclone_name+'_tifs/cyclone_damage_immediate/')\n",
    "else:\n",
    "    print('folder already exists')\n",
    "\n",
    "for i in nc_all:\n",
    "    # open dataset\n",
    "    nc_ds = xr.open_dataset(i)\n",
    "    # select time=0\n",
    "    singleband_da = nc_ds.damage_level.isel(time=0)\n",
    "    # print name and unique values in dataset\n",
    "    print(i[7:-3])\n",
    "    print(np.unique(singleband_da.values))\n",
    "    # make folder\n",
    "    \n",
    "    # Write GeoTIFF to a location\n",
    "    write_cog(geo_im=singleband_da,\n",
    "              fname='./'+cyclone_name+'_tifs/cyclone_damage_immediate/'+i[7:-3]+'.tif',\n",
    "              overwrite=True)"
   ]
  },
  {
   "cell_type": "code",
   "execution_count": 6,
   "id": "b1686e7c-38aa-4d89-bc3f-17e9decd19b9",
   "metadata": {},
   "outputs": [
    {
     "name": "stdout",
     "output_type": "stream",
     "text": [
      "Yasi_138_-191_2010-07-02_2011-07-02.tif\n",
      "Creating output file that is 1782P x 898L.\n",
      "Processing Yasi_138_-191_2010-07-02_2011-07-02.tif [1/1] : 0...10...20...30...40...50...60...70...80...90...100 - done.\n",
      "Yasi_144_-191_2010-07-02_2011-07-02.tif\n",
      "Creating output file that is 3200P x 898L.\n",
      "Processing Yasi_144_-191_2010-07-02_2011-07-02.tif [1/1] : 0...10...20...30...40...50...60...70...80...90...100 - done.\n",
      "Yasi_144_-201_2010-07-02_2011-07-02.tif\n",
      "Creating output file that is 3200P x 3200L.\n",
      "Processing Yasi_144_-201_2010-07-02_2011-07-02.tif [1/1] : 0...10...20...30...40...50...60...70...80...90...100 - done.\n",
      "Yasi_144_-211_2010-07-02_2011-07-02.tif\n",
      "Creating output file that is 3200P x 3200L.\n",
      "Processing Yasi_144_-211_2010-07-02_2011-07-02.tif [1/1] : 0...10...20...30...40...50...60...70...80...90...100 - done.\n",
      "Yasi_144_-219_2010-07-02_2011-07-02.tif\n",
      "Creating output file that is 3200P x 2826L.\n",
      "Processing Yasi_144_-219_2010-07-02_2011-07-02.tif [1/1] : 0...10...20...30...40...50...60...70...80...90...100 - done.\n",
      "Yasi_153_-219_2010-07-02_2011-07-02.tif\n",
      "Creating output file that is 1666P x 2826L.\n",
      "Processing Yasi_153_-219_2010-07-02_2011-07-02.tif [1/1] : 0...10...20...30...40...50...60...70...80...90...100 - done.\n",
      "0...10...20...30...40...50...60...70...80...90...100 - done.\n",
      "Input file size is 6648, 10124\n",
      "0...10...20...30...40...50...60...70...80...90...100 - done.\n"
     ]
    }
   ],
   "source": [
    "%%bash\n",
    "cd /home/jovyan/code/TC_mangroves/Yasi_tifs/cyclone_damage_immediate\n",
    "\n",
    "# adjust NS resolution \n",
    "for file in *.tif; \n",
    "    do echo \"$file\"; gdalwarp -t_srs EPSG:3577 -dstnodata -9999 -overwrite \"$file\" \"$(basename \"$file\" .tif)_.tif\"\n",
    "done\n",
    "\n",
    "# create vrt\n",
    "gdalbuildvrt -o Yasi_immediate.vrt *_.tif\n",
    "\n",
    "# make into tif\n",
    "gdal_translate -of GTiff -co \"COMPRESS=LZW\" -co \"TILED=YES\" -co \"BIGTIFF=YES\" Yasi_immediate.vrt Yasi_immediate_damage.tif\n",
    "\n",
    "# move mosaic and delete folder\n",
    "mv Yasi_immediate_damage.tif /home/jovyan/code/TC_mangroves/Yasi_immediate_damage.tif\n",
    "rm -rf /home/jovyan/code/TC_mangroves/Yasi_tifs/cyclone_damage_immediate/"
   ]
  },
  {
   "cell_type": "markdown",
   "id": "d47ed233-87be-4a62-afc4-46b6d42e1c2f",
   "metadata": {},
   "source": [
    "#### long term impacts\n",
    "filenames with _all.nc"
   ]
  },
  {
   "cell_type": "code",
   "execution_count": 7,
   "id": "0e336de3-546f-4dfc-ae56-b05bb771811c",
   "metadata": {},
   "outputs": [
    {
     "name": "stdout",
     "output_type": "stream",
     "text": [
      "['./Yasi/Yasi_138_-191_all.nc', './Yasi/Yasi_144_-201_all.nc', './Yasi/Yasi_144_-211_all.nc', './Yasi/Yasi_144_-191_all.nc', './Yasi/Yasi_153_-219_all.nc', './Yasi/Yasi_144_-219_all.nc']\n"
     ]
    }
   ],
   "source": [
    "# all = long term impacts\n",
    "nc_all = (glob.glob('./'+cyclone_name+'/*_all.nc'))\n",
    "print(glob.glob('./'+cyclone_name+'/*_all.nc'))"
   ]
  },
  {
   "cell_type": "code",
   "execution_count": 8,
   "id": "8e66fe50-4b94-4fd3-a482-ae6aff604eb5",
   "metadata": {},
   "outputs": [
    {
     "name": "stdout",
     "output_type": "stream",
     "text": [
      "Yasi_138_-191_all\n",
      "[-1]\n",
      "Yasi_144_-201_all\n",
      "[-1  0  1  2  3  4  5]\n",
      "Yasi_144_-211_all\n",
      "[-1  0  1  2  3  4  5]\n",
      "Yasi_144_-191_all\n",
      "[-1  0  1  3  4  5]\n",
      "Yasi_153_-219_all\n",
      "[-1  0  1  2  3  4  5]\n",
      "Yasi_144_-219_all\n",
      "[-1  0  1  2  3  4]\n"
     ]
    }
   ],
   "source": [
    "if path.exists(cyclone_name+'_tifs/cyclone_damage_longterm/') == False:\n",
    "    os.mkdir(cyclone_name+'_tifs/cyclone_damage_longterm/')\n",
    "else:\n",
    "    print('folder already exists')\n",
    "\n",
    "for i in nc_all:\n",
    "    # open dataset\n",
    "    nc_ds = xr.open_dataset(i)\n",
    "    # select time=0\n",
    "    singleband_da = nc_ds.damage_level.isel(time=0)\n",
    "    # print name and unique values in dataset\n",
    "    print(i[7:-3])\n",
    "    print(np.unique(singleband_da.values))\n",
    "    # make folder\n",
    "    \n",
    "    # Write GeoTIFF to a location\n",
    "    write_cog(geo_im=singleband_da,\n",
    "              fname='./'+cyclone_name+'_tifs/cyclone_damage_longterm/'+i[7:-3]+'.tif',\n",
    "              overwrite=True)"
   ]
  },
  {
   "cell_type": "code",
   "execution_count": 9,
   "id": "41158bf0-6572-42a3-9b73-5348427b7457",
   "metadata": {},
   "outputs": [
    {
     "name": "stdout",
     "output_type": "stream",
     "text": [
      "Yasi_138_-191_all.tif\n",
      "Creating output file that is 1782P x 898L.\n",
      "Processing Yasi_138_-191_all.tif [1/1] : 0...10...20...30...40...50...60...70...80...90...100 - done.\n",
      "Yasi_144_-191_all.tif\n",
      "Creating output file that is 3200P x 898L.\n",
      "Processing Yasi_144_-191_all.tif [1/1] : 0...10...20...30...40...50...60...70...80...90...100 - done.\n",
      "Yasi_144_-201_all.tif\n",
      "Creating output file that is 3200P x 3200L.\n",
      "Processing Yasi_144_-201_all.tif [1/1] : 0...10...20...30...40...50...60...70...80...90...100 - done.\n",
      "Yasi_144_-211_all.tif\n",
      "Creating output file that is 3200P x 3200L.\n",
      "Processing Yasi_144_-211_all.tif [1/1] : 0...10...20...30...40...50...60...70...80...90...100 - done.\n",
      "Yasi_144_-219_all.tif\n",
      "Creating output file that is 3200P x 2826L.\n",
      "Processing Yasi_144_-219_all.tif [1/1] : 0...10...20...30...40...50...60...70...80...90...100 - done.\n",
      "Yasi_153_-219_all.tif\n",
      "Creating output file that is 1666P x 2826L.\n",
      "Processing Yasi_153_-219_all.tif [1/1] : 0...10...20...30...40...50...60...70...80...90...100 - done.\n",
      "0...10...20...30...40...50...60...70...80...90...100 - done.\n",
      "Input file size is 6648, 10124\n",
      "0...10...20...30...40...50...60...70...80...90...100 - done.\n"
     ]
    }
   ],
   "source": [
    "%%bash\n",
    "cd /home/jovyan/code/TC_mangroves/Yasi_tifs/cyclone_damage_longterm\n",
    "\n",
    "# adjust NS resolution \n",
    "for file in *.tif; \n",
    "    do echo \"$file\"; gdalwarp -t_srs EPSG:3577 -dstnodata -9999 -overwrite \"$file\" \"$(basename \"$file\" .tif)_.tif\"\n",
    "done\n",
    "\n",
    "# create vrt\n",
    "gdalbuildvrt -o Yasi_all.vrt *_.tif\n",
    "\n",
    "# make into tif\n",
    "gdal_translate -of GTiff -co \"COMPRESS=LZW\" -co \"TILED=YES\" -co \"BIGTIFF=YES\" Yasi_all.vrt Yasi_longterm_damage.tif\n",
    "\n",
    "\n",
    "# move mosaic and delete folder\n",
    "mv Yasi_longterm_damage.tif /home/jovyan/code/TC_mangroves/Yasi_longterm_damage.tif\n",
    "rm -rf /home/jovyan/code/TC_mangroves/Yasi_tifs/"
   ]
  },
  {
   "cell_type": "code",
   "execution_count": null,
   "id": "62203bed-f689-4a60-b9c6-bbd3133c1ff6",
   "metadata": {},
   "outputs": [],
   "source": []
  }
 ],
 "metadata": {
  "kernelspec": {
   "display_name": "Python 3 (ipykernel)",
   "language": "python",
   "name": "python3"
  },
  "language_info": {
   "codemirror_mode": {
    "name": "ipython",
    "version": 3
   },
   "file_extension": ".py",
   "mimetype": "text/x-python",
   "name": "python",
   "nbconvert_exporter": "python",
   "pygments_lexer": "ipython3",
   "version": "3.8.10"
  }
 },
 "nbformat": 4,
 "nbformat_minor": 5
}
